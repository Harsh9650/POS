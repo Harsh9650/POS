{
 "cells": [
  {
   "cell_type": "code",
   "execution_count": 1,
   "id": "e25f79ec-c1ed-4bce-9b6c-14510d806d45",
   "metadata": {},
   "outputs": [],
   "source": [
    "import pandas as pd\n",
    "from scipy.stats import friedmanchisquare\n",
    "import scikit_posthocs as sp"
   ]
  },
  {
   "cell_type": "markdown",
   "id": "26dd1241-7cb3-45e5-b9fc-8b269301cfee",
   "metadata": {},
   "source": [
    "# Result Datasets"
   ]
  },
  {
   "cell_type": "code",
   "execution_count": 2,
   "id": "a8f17c46-0306-49b4-a88e-d6cbfb09c9a0",
   "metadata": {},
   "outputs": [],
   "source": [
    "louisiana_gap_data = pd.read_excel('louisiana_gap_percent.xlsx')\n",
    "louisiana_hv_data = pd.read_excel('louisiana_hypervolume.xlsx')\n",
    "louisiana_ud_data = pd.read_excel('louisiana_uniform_distribution.xlsx')\n",
    "louisiana_rni_data = pd.read_excel('louisiana_ratio_non_dominated.xlsx')\n",
    "louisiana_ct_data = pd.read_excel('louisiana_computation_time.xlsx')\n",
    "louisiana_eval_data = pd.read_excel('louisiana_unique_evaluations.xlsx')"
   ]
  },
  {
   "cell_type": "markdown",
   "id": "fe53e96c-e44b-4ab7-94c7-bfd362239413",
   "metadata": {},
   "source": [
    "# GAP (%)"
   ]
  },
  {
   "cell_type": "code",
   "execution_count": 3,
   "id": "759fdd88-7218-45d4-bf0d-a186ee594470",
   "metadata": {},
   "outputs": [
    {
     "name": "stdout",
     "output_type": "stream",
     "text": [
      "Friedman Test Statistic: 65.48159509202448\n",
      "p-value: 8.90411569094906e-13\n",
      "There is a statistically significant difference among the algorithms.\n"
     ]
    }
   ],
   "source": [
    "data = [\n",
    "    louisiana_gap_data['nsga2_nbcpm'], \n",
    "    louisiana_gap_data['nsga2_lfpc'],\n",
    "    louisiana_gap_data['nsga3_nbcpm'],\n",
    "    louisiana_gap_data['nsga3_lfpc'],\n",
    "    louisiana_gap_data['pos_nbcpm'],\n",
    "    louisiana_gap_data['pos_lfpc'],]\n",
    "\n",
    "# Perform the Friedman test\n",
    "statistic, p_value = friedmanchisquare(*data)\n",
    "\n",
    "print(f\"Friedman Test Statistic: {statistic}\")\n",
    "print(f\"p-value: {p_value}\")\n",
    "\n",
    "if p_value < 0.05:\n",
    "    print(\"There is a statistically significant difference among the algorithms.\")\n",
    "else:\n",
    "    print(\"No statistically significant difference found.\")"
   ]
  },
  {
   "cell_type": "code",
   "execution_count": 4,
   "id": "233c97f0-2cf2-44c1-8fb4-94b697c0217c",
   "metadata": {},
   "outputs": [
    {
     "name": "stdout",
     "output_type": "stream",
     "text": [
      "             nsga2_nbcpm  nsga2_lfpc  nsga3_nbcpm  nsga3_lfpc  pos_nbcpm  \\\n",
      "nsga2_nbcpm     1.000000    0.001336     0.092431    0.721733   0.900000   \n",
      "nsga2_lfpc      0.001336    1.000000     0.001000    0.001000   0.021831   \n",
      "nsga3_nbcpm     0.092431    0.001000     1.000000    0.783478   0.008999   \n",
      "nsga3_lfpc      0.721733    0.001000     0.783478    1.000000   0.267587   \n",
      "pos_nbcpm       0.900000    0.021831     0.008999    0.267587   1.000000   \n",
      "pos_lfpc        0.052421    0.891530     0.001000    0.001000   0.309675   \n",
      "\n",
      "             pos_lfpc  \n",
      "nsga2_nbcpm  0.052421  \n",
      "nsga2_lfpc   0.891530  \n",
      "nsga3_nbcpm  0.001000  \n",
      "nsga3_lfpc   0.001000  \n",
      "pos_nbcpm    0.309675  \n",
      "pos_lfpc     1.000000  \n"
     ]
    }
   ],
   "source": [
    "# Perform the Nemenyi post-hoc test\n",
    "louisiana_gap_data_nemenyi_results = sp.posthoc_nemenyi_friedman(louisiana_gap_data)\n",
    "\n",
    "print(louisiana_gap_data_nemenyi_results)"
   ]
  },
  {
   "cell_type": "markdown",
   "id": "ef74a45e-7121-401a-ab31-51c780e0b090",
   "metadata": {},
   "source": [
    "# HyperVolume"
   ]
  },
  {
   "cell_type": "code",
   "execution_count": 5,
   "id": "455b4994-fc7a-4f70-8a84-c56d366ae207",
   "metadata": {},
   "outputs": [
    {
     "name": "stdout",
     "output_type": "stream",
     "text": [
      "Friedman Test Statistic: 131.24641833810895\n",
      "p-value: 1.2943180470046458e-26\n",
      "There is a statistically significant difference among the algorithms.\n"
     ]
    }
   ],
   "source": [
    "data = [\n",
    "    louisiana_hv_data['nsga2_nbcpm'], \n",
    "    louisiana_hv_data['nsga2_lfpc'],\n",
    "    louisiana_hv_data['nsga3_nbcpm'],\n",
    "    louisiana_hv_data['nsga3_lfpc'],\n",
    "    louisiana_hv_data['pos_nbcpm'],\n",
    "    louisiana_hv_data['pos_lfpc'],]\n",
    "\n",
    "# Perform the Friedman test\n",
    "statistic, p_value = friedmanchisquare(*data)\n",
    "\n",
    "print(f\"Friedman Test Statistic: {statistic}\")\n",
    "print(f\"p-value: {p_value}\")\n",
    "\n",
    "if p_value < 0.05:\n",
    "    print(\"There is a statistically significant difference among the algorithms.\")\n",
    "else:\n",
    "    print(\"No statistically significant difference found.\")"
   ]
  },
  {
   "cell_type": "code",
   "execution_count": 6,
   "id": "dc88db49-117b-4d35-a58b-278285060994",
   "metadata": {},
   "outputs": [
    {
     "name": "stdout",
     "output_type": "stream",
     "text": [
      "             nsga2_nbcpm  nsga2_lfpc  nsga3_nbcpm  nsga3_lfpc  pos_nbcpm  \\\n",
      "nsga2_nbcpm     1.000000    0.052421        0.001       0.001   0.900000   \n",
      "nsga2_lfpc      0.052421    1.000000        0.001       0.001   0.127919   \n",
      "nsga3_nbcpm     0.001000    0.001000        1.000       0.900   0.001000   \n",
      "nsga3_lfpc      0.001000    0.001000        0.900       1.000   0.001000   \n",
      "pos_nbcpm       0.900000    0.127919        0.001       0.001   1.000000   \n",
      "pos_lfpc        0.080999    0.900000        0.001       0.001   0.183649   \n",
      "\n",
      "             pos_lfpc  \n",
      "nsga2_nbcpm  0.080999  \n",
      "nsga2_lfpc   0.900000  \n",
      "nsga3_nbcpm  0.001000  \n",
      "nsga3_lfpc   0.001000  \n",
      "pos_nbcpm    0.183649  \n",
      "pos_lfpc     1.000000  \n"
     ]
    }
   ],
   "source": [
    "# Perform the Nemenyi post-hoc test\n",
    "louisiana_hv_data_nemenyi_results = sp.posthoc_nemenyi_friedman(louisiana_hv_data)\n",
    "\n",
    "print(louisiana_hv_data_nemenyi_results)"
   ]
  },
  {
   "cell_type": "markdown",
   "id": "720d5897-1981-4b83-86c4-060ced81718c",
   "metadata": {},
   "source": [
    "# Uniform Distribution"
   ]
  },
  {
   "cell_type": "code",
   "execution_count": 7,
   "id": "263748d1-f539-4c5c-a106-275a467ab608",
   "metadata": {},
   "outputs": [
    {
     "name": "stdout",
     "output_type": "stream",
     "text": [
      "Friedman Test Statistic: 47.45272206303732\n",
      "p-value: 4.593453951745546e-09\n",
      "There is a statistically significant difference among the algorithms.\n"
     ]
    }
   ],
   "source": [
    "data = [\n",
    "    louisiana_ud_data['nsga2_nbcpm'], \n",
    "    louisiana_ud_data['nsga2_lfpc'],\n",
    "    louisiana_ud_data['nsga3_nbcpm'],\n",
    "    louisiana_ud_data['nsga3_lfpc'],\n",
    "    louisiana_ud_data['pos_nbcpm'],\n",
    "    louisiana_ud_data['pos_lfpc'],]\n",
    "\n",
    "# Perform the Friedman test\n",
    "statistic, p_value = friedmanchisquare(*data)\n",
    "\n",
    "print(f\"Friedman Test Statistic: {statistic}\")\n",
    "print(f\"p-value: {p_value}\")\n",
    "\n",
    "if p_value < 0.05:\n",
    "    print(\"There is a statistically significant difference among the algorithms.\")\n",
    "else:\n",
    "    print(\"No statistically significant difference found.\")"
   ]
  },
  {
   "cell_type": "code",
   "execution_count": 8,
   "id": "2673f892-f24f-4a68-b31b-49cd1bccb852",
   "metadata": {},
   "outputs": [
    {
     "name": "stdout",
     "output_type": "stream",
     "text": [
      "             nsga2_nbcpm  nsga2_lfpc  nsga3_nbcpm  nsga3_lfpc  pos_nbcpm  \\\n",
      "nsga2_nbcpm     1.000000    0.388553     0.001000    0.001000   0.900000   \n",
      "nsga2_lfpc      0.388553    1.000000     0.229206    0.001000   0.900000   \n",
      "nsga3_nbcpm     0.001000    0.229206     1.000000    0.472944   0.014167   \n",
      "nsga3_lfpc      0.001000    0.001000     0.472944    1.000000   0.001000   \n",
      "pos_nbcpm       0.900000    0.900000     0.014167    0.001000   1.000000   \n",
      "pos_lfpc        0.120687    0.900000     0.567370    0.008201   0.567370   \n",
      "\n",
      "             pos_lfpc  \n",
      "nsga2_nbcpm  0.120687  \n",
      "nsga2_lfpc   0.900000  \n",
      "nsga3_nbcpm  0.567370  \n",
      "nsga3_lfpc   0.008201  \n",
      "pos_nbcpm    0.567370  \n",
      "pos_lfpc     1.000000  \n"
     ]
    }
   ],
   "source": [
    "# Perform the Nemenyi post-hoc test\n",
    "louisiana_ud_data_nemenyi_results = sp.posthoc_nemenyi_friedman(louisiana_ud_data)\n",
    "\n",
    "print(louisiana_ud_data_nemenyi_results)"
   ]
  },
  {
   "cell_type": "markdown",
   "id": "bb8fe2bb-0f99-432e-b329-8c5d107b0b91",
   "metadata": {},
   "source": [
    "# RNI"
   ]
  },
  {
   "cell_type": "code",
   "execution_count": 9,
   "id": "6f3943d5-56e6-4f2b-b918-7e8fcba9c093",
   "metadata": {},
   "outputs": [
    {
     "name": "stdout",
     "output_type": "stream",
     "text": [
      "Friedman Test Statistic: 143.64967779730512\n",
      "p-value: 2.996970524963587e-29\n",
      "There is a statistically significant difference among the algorithms.\n"
     ]
    }
   ],
   "source": [
    "data = [\n",
    "    louisiana_rni_data['nsga2_nbcpm'], \n",
    "    louisiana_rni_data['nsga2_lfpc'],\n",
    "    louisiana_rni_data['nsga3_nbcpm'],\n",
    "    louisiana_rni_data['nsga3_lfpc'],\n",
    "    louisiana_rni_data['pos_nbcpm'],\n",
    "    louisiana_rni_data['pos_lfpc'],]\n",
    "\n",
    "# Perform the Friedman test\n",
    "statistic, p_value = friedmanchisquare(*data)\n",
    "\n",
    "print(f\"Friedman Test Statistic: {statistic}\")\n",
    "print(f\"p-value: {p_value}\")\n",
    "\n",
    "if p_value < 0.05:\n",
    "    print(\"There is a statistically significant difference among the algorithms.\")\n",
    "else:\n",
    "    print(\"No statistically significant difference found.\")"
   ]
  },
  {
   "cell_type": "code",
   "execution_count": 10,
   "id": "39302c05-3a61-43b2-92b8-8d470b00a90f",
   "metadata": {},
   "outputs": [
    {
     "name": "stdout",
     "output_type": "stream",
     "text": [
      "             nsga2_nbcpm  nsga2_lfpc  nsga3_nbcpm  nsga3_lfpc  pos_nbcpm  \\\n",
      "nsga2_nbcpm        1.000       0.900        0.001       0.001   0.900000   \n",
      "nsga2_lfpc         0.900       1.000        0.001       0.001   0.900000   \n",
      "nsga3_nbcpm        0.001       0.001        1.000       0.900   0.001000   \n",
      "nsga3_lfpc         0.001       0.001        0.900       1.000   0.001000   \n",
      "pos_nbcpm          0.900       0.900        0.001       0.001   1.000000   \n",
      "pos_lfpc           0.900       0.900        0.001       0.001   0.752604   \n",
      "\n",
      "             pos_lfpc  \n",
      "nsga2_nbcpm  0.900000  \n",
      "nsga2_lfpc   0.900000  \n",
      "nsga3_nbcpm  0.001000  \n",
      "nsga3_lfpc   0.001000  \n",
      "pos_nbcpm    0.752604  \n",
      "pos_lfpc     1.000000  \n"
     ]
    }
   ],
   "source": [
    "# Perform the Nemenyi post-hoc test\n",
    "louisiana_rni_data_nemenyi_results = sp.posthoc_nemenyi_friedman(louisiana_rni_data)\n",
    "\n",
    "print(louisiana_rni_data_nemenyi_results)"
   ]
  },
  {
   "cell_type": "markdown",
   "id": "a49c8e87-a10f-47f0-9534-35c266da4d63",
   "metadata": {},
   "source": [
    "# Computation Time"
   ]
  },
  {
   "cell_type": "code",
   "execution_count": 11,
   "id": "e8ed8598-3cbe-4c99-98d7-e60c3b815b04",
   "metadata": {},
   "outputs": [
    {
     "name": "stdout",
     "output_type": "stream",
     "text": [
      "Friedman Test Statistic: 217.48998282770464\n",
      "p-value: 5.123947123481673e-45\n",
      "There is a statistically significant difference among the algorithms.\n"
     ]
    }
   ],
   "source": [
    "data = [\n",
    "    louisiana_ct_data['nsga2_nbcpm'], \n",
    "    louisiana_ct_data['nsga2_lfpc'],\n",
    "    louisiana_ct_data['nsga3_nbcpm'],\n",
    "    louisiana_ct_data['nsga3_lfpc'],\n",
    "    louisiana_ct_data['pos_nbcpm'],\n",
    "    louisiana_ct_data['pos_lfpc'],]\n",
    "\n",
    "# Perform the Friedman test\n",
    "statistic, p_value = friedmanchisquare(*data)\n",
    "\n",
    "print(f\"Friedman Test Statistic: {statistic}\")\n",
    "print(f\"p-value: {p_value}\")\n",
    "\n",
    "if p_value < 0.05:\n",
    "    print(\"There is a statistically significant difference among the algorithms.\")\n",
    "else:\n",
    "    print(\"No statistically significant difference found.\")"
   ]
  },
  {
   "cell_type": "code",
   "execution_count": 12,
   "id": "3429b119-f0b9-4963-ac62-ad6598d58b96",
   "metadata": {},
   "outputs": [
    {
     "name": "stdout",
     "output_type": "stream",
     "text": [
      "             nsga2_nbcpm  nsga2_lfpc  nsga3_nbcpm  nsga3_lfpc  pos_nbcpm  \\\n",
      "nsga2_nbcpm     1.000000    0.001000     0.267587    0.001000   0.551934   \n",
      "nsga2_lfpc      0.001000    1.000000     0.001000    0.127919   0.001000   \n",
      "nsga3_nbcpm     0.267587    0.001000     1.000000    0.001000   0.002048   \n",
      "nsga3_lfpc      0.001000    0.127919     0.001000    1.000000   0.001000   \n",
      "pos_nbcpm       0.551934    0.001000     0.002048    0.001000   1.000000   \n",
      "pos_lfpc        0.001000    0.045070     0.001000    0.900000   0.001000   \n",
      "\n",
      "             pos_lfpc  \n",
      "nsga2_nbcpm   0.00100  \n",
      "nsga2_lfpc    0.04507  \n",
      "nsga3_nbcpm   0.00100  \n",
      "nsga3_lfpc    0.90000  \n",
      "pos_nbcpm     0.00100  \n",
      "pos_lfpc      1.00000  \n"
     ]
    }
   ],
   "source": [
    "# Perform the Nemenyi post-hoc test\n",
    "louisiana_ct_data_nemenyi_results = sp.posthoc_nemenyi_friedman(louisiana_ct_data)\n",
    "\n",
    "print(louisiana_ct_data_nemenyi_results)"
   ]
  },
  {
   "cell_type": "markdown",
   "id": "6aaa1eac-3a33-4ac3-932d-0b9cb58a1dce",
   "metadata": {},
   "source": [
    "# Percentage of Unique Solutions (%)"
   ]
  },
  {
   "cell_type": "code",
   "execution_count": 13,
   "id": "500f9892-ba0a-40d8-b184-92be3b3b45cb",
   "metadata": {},
   "outputs": [
    {
     "name": "stdout",
     "output_type": "stream",
     "text": [
      "Friedman Test Statistic: 237.5542857142857\n",
      "p-value: 2.5684926404826717e-49\n",
      "There is a statistically significant difference among the algorithms.\n"
     ]
    }
   ],
   "source": [
    "data = [\n",
    "    louisiana_eval_data['nsga2_nbcpm'], \n",
    "    louisiana_eval_data['nsga2_lfpc'],\n",
    "    louisiana_eval_data['nsga3_nbcpm'],\n",
    "    louisiana_eval_data['nsga3_lfpc'],\n",
    "    louisiana_eval_data['pos_nbcpm'],\n",
    "    louisiana_eval_data['pos_lfpc'],]\n",
    "\n",
    "# Perform the Friedman test\n",
    "statistic, p_value = friedmanchisquare(*data)\n",
    "\n",
    "print(f\"Friedman Test Statistic: {statistic}\")\n",
    "print(f\"p-value: {p_value}\")\n",
    "\n",
    "if p_value < 0.05:\n",
    "    print(\"There is a statistically significant difference among the algorithms.\")\n",
    "else:\n",
    "    print(\"No statistically significant difference found.\")"
   ]
  },
  {
   "cell_type": "code",
   "execution_count": 14,
   "id": "e606e65a-e0cf-4d58-9b3b-54a6a37e1da5",
   "metadata": {},
   "outputs": [
    {
     "name": "stdout",
     "output_type": "stream",
     "text": [
      "             nsga2_nbcpm  nsga2_lfpc  nsga3_nbcpm  nsga3_lfpc  pos_nbcpm  \\\n",
      "nsga2_nbcpm     1.000000    0.001000     0.002048    0.001000      0.900   \n",
      "nsga2_lfpc      0.001000    1.000000     0.032948    0.001000      0.001   \n",
      "nsga3_nbcpm     0.002048    0.032948     1.000000    0.001000      0.001   \n",
      "nsga3_lfpc      0.001000    0.001000     0.001000    1.000000      0.001   \n",
      "pos_nbcpm       0.900000    0.001000     0.001000    0.001000      1.000   \n",
      "pos_lfpc        0.001000    0.295333     0.001000    0.032948      0.001   \n",
      "\n",
      "             pos_lfpc  \n",
      "nsga2_nbcpm  0.001000  \n",
      "nsga2_lfpc   0.295333  \n",
      "nsga3_nbcpm  0.001000  \n",
      "nsga3_lfpc   0.032948  \n",
      "pos_nbcpm    0.001000  \n",
      "pos_lfpc     1.000000  \n"
     ]
    }
   ],
   "source": [
    "# Perform the Nemenyi post-hoc test\n",
    "louisiana_eval_data_nemenyi_results = sp.posthoc_nemenyi_friedman(louisiana_eval_data)\n",
    "\n",
    "print(louisiana_eval_data_nemenyi_results)"
   ]
  },
  {
   "cell_type": "code",
   "execution_count": null,
   "id": "c2a0152a-9af0-4af1-9a99-6afe1b5c279a",
   "metadata": {},
   "outputs": [],
   "source": []
  },
  {
   "cell_type": "code",
   "execution_count": null,
   "id": "ed814cdd-57c5-4850-a802-fcb5f712d6b9",
   "metadata": {},
   "outputs": [],
   "source": []
  },
  {
   "cell_type": "code",
   "execution_count": null,
   "id": "8fb49a4d-5399-4758-9f6c-cb6c272838f8",
   "metadata": {},
   "outputs": [],
   "source": []
  },
  {
   "cell_type": "code",
   "execution_count": null,
   "id": "a6eceea5-95f0-4776-891d-48e7ad6c8b8e",
   "metadata": {},
   "outputs": [],
   "source": []
  },
  {
   "cell_type": "code",
   "execution_count": null,
   "id": "eee22237-a999-445f-a36c-57801250afa4",
   "metadata": {},
   "outputs": [],
   "source": []
  },
  {
   "cell_type": "code",
   "execution_count": null,
   "id": "e6355466-a930-4255-a48e-894a43c5ae68",
   "metadata": {},
   "outputs": [],
   "source": []
  },
  {
   "cell_type": "code",
   "execution_count": null,
   "id": "da33983b-2c2a-4282-8aa2-49bedf223949",
   "metadata": {},
   "outputs": [],
   "source": []
  },
  {
   "cell_type": "code",
   "execution_count": null,
   "id": "5ead7751-4767-4f7d-a2f7-2154f24da5db",
   "metadata": {},
   "outputs": [],
   "source": []
  },
  {
   "cell_type": "code",
   "execution_count": null,
   "id": "cf7e2665-cb05-4af6-8d63-2bddcd835129",
   "metadata": {},
   "outputs": [],
   "source": []
  },
  {
   "cell_type": "code",
   "execution_count": null,
   "id": "3858a056-306f-4df0-8888-85bc1f88a272",
   "metadata": {},
   "outputs": [],
   "source": []
  },
  {
   "cell_type": "code",
   "execution_count": null,
   "id": "f3e46ac3-69a1-4c16-8c9f-dc76efc6bde9",
   "metadata": {},
   "outputs": [],
   "source": []
  },
  {
   "cell_type": "code",
   "execution_count": null,
   "id": "f1806ae4-a198-4100-b180-dd1d56a99002",
   "metadata": {},
   "outputs": [],
   "source": []
  },
  {
   "cell_type": "code",
   "execution_count": null,
   "id": "e5be9f5d-14b9-4ff1-bc02-6f6a85c3e0db",
   "metadata": {},
   "outputs": [],
   "source": []
  }
 ],
 "metadata": {
  "kernelspec": {
   "display_name": "Python 3 (ipykernel)",
   "language": "python",
   "name": "python3"
  },
  "language_info": {
   "codemirror_mode": {
    "name": "ipython",
    "version": 3
   },
   "file_extension": ".py",
   "mimetype": "text/x-python",
   "name": "python",
   "nbconvert_exporter": "python",
   "pygments_lexer": "ipython3",
   "version": "3.9.6"
  }
 },
 "nbformat": 4,
 "nbformat_minor": 5
}
