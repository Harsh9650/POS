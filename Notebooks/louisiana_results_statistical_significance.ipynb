{
 "cells": [
  {
   "cell_type": "code",
   "execution_count": 1,
   "id": "e25f79ec-c1ed-4bce-9b6c-14510d806d45",
   "metadata": {},
   "outputs": [],
   "source": [
    "import pandas as pd\n",
    "from scipy.stats import friedmanchisquare\n",
    "from statsmodels.stats.multicomp import pairwise_tukeyhsd"
   ]
  },
  {
   "cell_type": "markdown",
   "id": "26dd1241-7cb3-45e5-b9fc-8b269301cfee",
   "metadata": {},
   "source": [
    "# Result Datasets"
   ]
  },
  {
   "cell_type": "code",
   "execution_count": 2,
   "id": "a8f17c46-0306-49b4-a88e-d6cbfb09c9a0",
   "metadata": {},
   "outputs": [],
   "source": [
    "louisiana_gap_data = pd.read_excel('louisiana_gap_percent.xlsx')\n",
    "louisiana_hv_data = pd.read_excel('louisiana_hypervolume.xlsx')\n",
    "louisiana_ud_data = pd.read_excel('louisiana_uniform_distribution.xlsx')\n",
    "louisiana_rni_data = pd.read_excel('louisiana_ratio_non_dominated.xlsx')\n",
    "louisiana_ct_data = pd.read_excel('louisiana_computation_time.xlsx')\n",
    "louisiana_eval_data = pd.read_excel('louisiana_unique_evaluations.xlsx')"
   ]
  },
  {
   "cell_type": "markdown",
   "id": "fe53e96c-e44b-4ab7-94c7-bfd362239413",
   "metadata": {},
   "source": [
    "# GAP (%)"
   ]
  },
  {
   "cell_type": "code",
   "execution_count": 3,
   "id": "759fdd88-7218-45d4-bf0d-a186ee594470",
   "metadata": {},
   "outputs": [
    {
     "name": "stdout",
     "output_type": "stream",
     "text": [
      "Friedman Test Statistic: 65.48159509202448\n",
      "p-value: 8.90411569094906e-13\n",
      "There is a statistically significant difference among the algorithms.\n"
     ]
    }
   ],
   "source": [
    "data = [\n",
    "    louisiana_gap_data['nsga2_nbcpm'], \n",
    "    louisiana_gap_data['nsga2_lfpc'],\n",
    "    louisiana_gap_data['nsga3_nbcpm'],\n",
    "    louisiana_gap_data['nsga3_lfpc'],\n",
    "    louisiana_gap_data['pos_nbcpm'],\n",
    "    louisiana_gap_data['pos_lfpc'],]\n",
    "\n",
    "# Perform the Friedman test\n",
    "statistic, p_value = friedmanchisquare(*data)\n",
    "\n",
    "print(f\"Friedman Test Statistic: {statistic}\")\n",
    "print(f\"p-value: {p_value}\")\n",
    "\n",
    "if p_value < 0.05:\n",
    "    print(\"There is a statistically significant difference among the algorithms.\")\n",
    "else:\n",
    "    print(\"No statistically significant difference found.\")"
   ]
  },
  {
   "cell_type": "code",
   "execution_count": 4,
   "id": "233c97f0-2cf2-44c1-8fb4-94b697c0217c",
   "metadata": {},
   "outputs": [
    {
     "name": "stdout",
     "output_type": "stream",
     "text": [
      "      Multiple Comparison of Means - Tukey HSD, FWER=0.05      \n",
      "===============================================================\n",
      "   group1      group2   meandiff p-adj   lower    upper  reject\n",
      "---------------------------------------------------------------\n",
      " nsga2_lfpc nsga2_nbcpm   5.7186 0.5429  -4.0175 15.4547  False\n",
      " nsga2_lfpc  nsga3_lfpc   8.2188 0.1522  -1.5173 17.9549  False\n",
      " nsga2_lfpc nsga3_nbcpm    9.807 0.0472   0.0709 19.5431   True\n",
      " nsga2_lfpc    pos_lfpc    1.384 0.9985  -8.3521 11.1201  False\n",
      " nsga2_lfpc   pos_nbcpm   4.0186 0.8443  -5.7175 13.7547  False\n",
      "nsga2_nbcpm  nsga3_lfpc   2.5002 0.9772  -7.2359 12.2363  False\n",
      "nsga2_nbcpm nsga3_nbcpm   4.0884 0.8344  -5.6477 13.8245  False\n",
      "nsga2_nbcpm    pos_lfpc  -4.3346 0.7973 -14.0707  5.4015  False\n",
      "nsga2_nbcpm   pos_nbcpm     -1.7 0.9961 -11.4361  8.0361  False\n",
      " nsga3_lfpc nsga3_nbcpm   1.5882 0.9972  -8.1479 11.3243  False\n",
      " nsga3_lfpc    pos_lfpc  -6.8348  0.337 -16.5709  2.9013  False\n",
      " nsga3_lfpc   pos_nbcpm  -4.2002  0.818 -13.9363  5.5359  False\n",
      "nsga3_nbcpm    pos_lfpc   -8.423 0.1329 -18.1591  1.3131  False\n",
      "nsga3_nbcpm   pos_nbcpm  -5.7884 0.5292 -15.5245  3.9477  False\n",
      "   pos_lfpc   pos_nbcpm   2.6346 0.9713  -7.1015 12.3707  False\n",
      "---------------------------------------------------------------\n"
     ]
    }
   ],
   "source": [
    "lgd = louisiana_gap_data.melt(var_name='algorithm', value_name='score') # Reshaping data for Tukey's HSD\n",
    "\n",
    "louisiana_gap_data_tukey = pairwise_tukeyhsd(endog=lgd['score'], groups=lgd['algorithm'], alpha=0.05)\n",
    "print(louisiana_gap_data_tukey)"
   ]
  },
  {
   "cell_type": "markdown",
   "id": "ef74a45e-7121-401a-ab31-51c780e0b090",
   "metadata": {},
   "source": [
    "# HyperVolume"
   ]
  },
  {
   "cell_type": "code",
   "execution_count": 5,
   "id": "455b4994-fc7a-4f70-8a84-c56d366ae207",
   "metadata": {},
   "outputs": [
    {
     "name": "stdout",
     "output_type": "stream",
     "text": [
      "Friedman Test Statistic: 131.24641833810895\n",
      "p-value: 1.2943180470046458e-26\n",
      "There is a statistically significant difference among the algorithms.\n"
     ]
    }
   ],
   "source": [
    "data = [\n",
    "    louisiana_hv_data['nsga2_nbcpm'], \n",
    "    louisiana_hv_data['nsga2_lfpc'],\n",
    "    louisiana_hv_data['nsga3_nbcpm'],\n",
    "    louisiana_hv_data['nsga3_lfpc'],\n",
    "    louisiana_hv_data['pos_nbcpm'],\n",
    "    louisiana_hv_data['pos_lfpc'],]\n",
    "\n",
    "# Perform the Friedman test\n",
    "statistic, p_value = friedmanchisquare(*data)\n",
    "\n",
    "print(f\"Friedman Test Statistic: {statistic}\")\n",
    "print(f\"p-value: {p_value}\")\n",
    "\n",
    "if p_value < 0.05:\n",
    "    print(\"There is a statistically significant difference among the algorithms.\")\n",
    "else:\n",
    "    print(\"No statistically significant difference found.\")"
   ]
  },
  {
   "cell_type": "code",
   "execution_count": 6,
   "id": "dc88db49-117b-4d35-a58b-278285060994",
   "metadata": {},
   "outputs": [
    {
     "name": "stdout",
     "output_type": "stream",
     "text": [
      "     Multiple Comparison of Means - Tukey HSD, FWER=0.05      \n",
      "==============================================================\n",
      "   group1      group2   meandiff p-adj   lower   upper  reject\n",
      "--------------------------------------------------------------\n",
      " nsga2_lfpc nsga2_nbcpm  -0.0489 0.4212 -0.1237   0.026  False\n",
      " nsga2_lfpc  nsga3_lfpc  -0.1786    0.0 -0.2535 -0.1038   True\n",
      " nsga2_lfpc nsga3_nbcpm   -0.167    0.0 -0.2418 -0.0921   True\n",
      " nsga2_lfpc    pos_lfpc   0.0118 0.9976 -0.0631  0.0867  False\n",
      " nsga2_lfpc   pos_nbcpm   -0.045 0.5161 -0.1199  0.0298  False\n",
      "nsga2_nbcpm  nsga3_lfpc  -0.1298    0.0 -0.2046 -0.0549   True\n",
      "nsga2_nbcpm nsga3_nbcpm  -0.1181 0.0001  -0.193 -0.0432   True\n",
      "nsga2_nbcpm    pos_lfpc   0.0607 0.1875 -0.0142  0.1355  False\n",
      "nsga2_nbcpm   pos_nbcpm   0.0038    1.0  -0.071  0.0787  False\n",
      " nsga3_lfpc nsga3_nbcpm   0.0117 0.9977 -0.0632  0.0865  False\n",
      " nsga3_lfpc    pos_lfpc   0.1904    0.0  0.1156  0.2653   True\n",
      " nsga3_lfpc   pos_nbcpm   0.1336    0.0  0.0587  0.2085   True\n",
      "nsga3_nbcpm    pos_lfpc   0.1788    0.0  0.1039  0.2536   True\n",
      "nsga3_nbcpm   pos_nbcpm   0.1219 0.0001  0.0471  0.1968   True\n",
      "   pos_lfpc   pos_nbcpm  -0.0568 0.2515 -0.1317   0.018  False\n",
      "--------------------------------------------------------------\n"
     ]
    }
   ],
   "source": [
    "lhvd = louisiana_hv_data.melt(var_name='algorithm', value_name='score') # Reshaping data for Tukey's HSD\n",
    "\n",
    "louisiana_hv_data_tukey = pairwise_tukeyhsd(endog=lhvd['score'], groups=lhvd['algorithm'], alpha=0.05)\n",
    "print(louisiana_hv_data_tukey)"
   ]
  },
  {
   "cell_type": "markdown",
   "id": "720d5897-1981-4b83-86c4-060ced81718c",
   "metadata": {},
   "source": [
    "# Uniform Distribution"
   ]
  },
  {
   "cell_type": "code",
   "execution_count": 7,
   "id": "263748d1-f539-4c5c-a106-275a467ab608",
   "metadata": {},
   "outputs": [
    {
     "name": "stdout",
     "output_type": "stream",
     "text": [
      "Friedman Test Statistic: 47.45272206303732\n",
      "p-value: 4.593453951745546e-09\n",
      "There is a statistically significant difference among the algorithms.\n"
     ]
    }
   ],
   "source": [
    "data = [\n",
    "    louisiana_ud_data['nsga2_nbcpm'], \n",
    "    louisiana_ud_data['nsga2_lfpc'],\n",
    "    louisiana_ud_data['nsga3_nbcpm'],\n",
    "    louisiana_ud_data['nsga3_lfpc'],\n",
    "    louisiana_ud_data['pos_nbcpm'],\n",
    "    louisiana_ud_data['pos_lfpc'],]\n",
    "\n",
    "# Perform the Friedman test\n",
    "statistic, p_value = friedmanchisquare(*data)\n",
    "\n",
    "print(f\"Friedman Test Statistic: {statistic}\")\n",
    "print(f\"p-value: {p_value}\")\n",
    "\n",
    "if p_value < 0.05:\n",
    "    print(\"There is a statistically significant difference among the algorithms.\")\n",
    "else:\n",
    "    print(\"No statistically significant difference found.\")"
   ]
  },
  {
   "cell_type": "code",
   "execution_count": 8,
   "id": "2673f892-f24f-4a68-b31b-49cd1bccb852",
   "metadata": {},
   "outputs": [
    {
     "name": "stdout",
     "output_type": "stream",
     "text": [
      "     Multiple Comparison of Means - Tukey HSD, FWER=0.05      \n",
      "==============================================================\n",
      "   group1      group2   meandiff p-adj   lower   upper  reject\n",
      "--------------------------------------------------------------\n",
      " nsga2_lfpc nsga2_nbcpm  -0.0132 0.8669 -0.0466  0.0202  False\n",
      " nsga2_lfpc  nsga3_lfpc   0.0286 0.1401 -0.0048   0.062  False\n",
      " nsga2_lfpc nsga3_nbcpm   0.0167 0.7059 -0.0167  0.0501  False\n",
      " nsga2_lfpc    pos_lfpc  -0.0002    1.0 -0.0336  0.0332  False\n",
      " nsga2_lfpc   pos_nbcpm  -0.0087 0.9756 -0.0421  0.0247  False\n",
      "nsga2_nbcpm  nsga3_lfpc   0.0418 0.0051  0.0084  0.0752   True\n",
      "nsga2_nbcpm nsga3_nbcpm   0.0299 0.1084 -0.0035  0.0633  False\n",
      "nsga2_nbcpm    pos_lfpc    0.013 0.8747 -0.0204  0.0464  False\n",
      "nsga2_nbcpm   pos_nbcpm   0.0045 0.9989 -0.0289  0.0379  False\n",
      " nsga3_lfpc nsga3_nbcpm  -0.0119 0.9097 -0.0453  0.0215  False\n",
      " nsga3_lfpc    pos_lfpc  -0.0288 0.1344 -0.0622  0.0046  False\n",
      " nsga3_lfpc   pos_nbcpm  -0.0373 0.0185 -0.0707 -0.0039   True\n",
      "nsga3_nbcpm    pos_lfpc  -0.0169 0.6945 -0.0503  0.0165  False\n",
      "nsga3_nbcpm   pos_nbcpm  -0.0254 0.2488 -0.0588   0.008  False\n",
      "   pos_lfpc   pos_nbcpm  -0.0085 0.9781 -0.0419  0.0249  False\n",
      "--------------------------------------------------------------\n"
     ]
    }
   ],
   "source": [
    "ludd = louisiana_ud_data.melt(var_name='algorithm', value_name='score') # Reshaping data for Tukey's HSD\n",
    "\n",
    "louisiana_ud_data_tukey = pairwise_tukeyhsd(endog=ludd['score'], groups=ludd['algorithm'], alpha=0.05)\n",
    "print(louisiana_ud_data_tukey)"
   ]
  },
  {
   "cell_type": "markdown",
   "id": "bb8fe2bb-0f99-432e-b329-8c5d107b0b91",
   "metadata": {},
   "source": [
    "# RNI"
   ]
  },
  {
   "cell_type": "code",
   "execution_count": 9,
   "id": "6f3943d5-56e6-4f2b-b918-7e8fcba9c093",
   "metadata": {},
   "outputs": [
    {
     "name": "stdout",
     "output_type": "stream",
     "text": [
      "Friedman Test Statistic: 143.64967779730512\n",
      "p-value: 2.996970524963587e-29\n",
      "There is a statistically significant difference among the algorithms.\n"
     ]
    }
   ],
   "source": [
    "data = [\n",
    "    louisiana_rni_data['nsga2_nbcpm'], \n",
    "    louisiana_rni_data['nsga2_lfpc'],\n",
    "    louisiana_rni_data['nsga3_nbcpm'],\n",
    "    louisiana_rni_data['nsga3_lfpc'],\n",
    "    louisiana_rni_data['pos_nbcpm'],\n",
    "    louisiana_rni_data['pos_lfpc'],]\n",
    "\n",
    "# Perform the Friedman test\n",
    "statistic, p_value = friedmanchisquare(*data)\n",
    "\n",
    "print(f\"Friedman Test Statistic: {statistic}\")\n",
    "print(f\"p-value: {p_value}\")\n",
    "\n",
    "if p_value < 0.05:\n",
    "    print(\"There is a statistically significant difference among the algorithms.\")\n",
    "else:\n",
    "    print(\"No statistically significant difference found.\")"
   ]
  },
  {
   "cell_type": "code",
   "execution_count": 10,
   "id": "39302c05-3a61-43b2-92b8-8d470b00a90f",
   "metadata": {},
   "outputs": [
    {
     "name": "stdout",
     "output_type": "stream",
     "text": [
      "     Multiple Comparison of Means - Tukey HSD, FWER=0.05      \n",
      "==============================================================\n",
      "   group1      group2   meandiff p-adj   lower   upper  reject\n",
      "--------------------------------------------------------------\n",
      " nsga2_lfpc nsga2_nbcpm    0.016  0.984 -0.0516  0.0837  False\n",
      " nsga2_lfpc  nsga3_lfpc  -0.1966    0.0 -0.2642  -0.129   True\n",
      " nsga2_lfpc nsga3_nbcpm  -0.2054    0.0  -0.273 -0.1378   True\n",
      " nsga2_lfpc    pos_lfpc   0.0285 0.8314 -0.0391  0.0962  False\n",
      " nsga2_lfpc   pos_nbcpm  -0.0143 0.9904  -0.082  0.0533  False\n",
      "nsga2_nbcpm  nsga3_lfpc  -0.2127    0.0 -0.2803  -0.145   True\n",
      "nsga2_nbcpm nsga3_nbcpm  -0.2214    0.0 -0.2891 -0.1538   True\n",
      "nsga2_nbcpm    pos_lfpc   0.0125 0.9949 -0.0551  0.0801  False\n",
      "nsga2_nbcpm   pos_nbcpm  -0.0304  0.791  -0.098  0.0372  False\n",
      " nsga3_lfpc nsga3_nbcpm  -0.0088 0.9991 -0.0764  0.0588  False\n",
      " nsga3_lfpc    pos_lfpc   0.2251    0.0  0.1575  0.2928   True\n",
      " nsga3_lfpc   pos_nbcpm   0.1823    0.0  0.1146  0.2499   True\n",
      "nsga3_nbcpm    pos_lfpc   0.2339    0.0  0.1663  0.3016   True\n",
      "nsga3_nbcpm   pos_nbcpm   0.1911    0.0  0.1234  0.2587   True\n",
      "   pos_lfpc   pos_nbcpm  -0.0429 0.4551 -0.1105  0.0247  False\n",
      "--------------------------------------------------------------\n"
     ]
    }
   ],
   "source": [
    "lrnid = louisiana_rni_data.melt(var_name='algorithm', value_name='score') # Reshaping data for Tukey's HSD\n",
    "\n",
    "louisiana_rni_data_tukey = pairwise_tukeyhsd(endog=lrnid['score'], groups=lrnid['algorithm'], alpha=0.05)\n",
    "print(louisiana_rni_data_tukey)"
   ]
  },
  {
   "cell_type": "markdown",
   "id": "a49c8e87-a10f-47f0-9534-35c266da4d63",
   "metadata": {},
   "source": [
    "# Computation Time"
   ]
  },
  {
   "cell_type": "code",
   "execution_count": 11,
   "id": "e8ed8598-3cbe-4c99-98d7-e60c3b815b04",
   "metadata": {},
   "outputs": [
    {
     "name": "stdout",
     "output_type": "stream",
     "text": [
      "Friedman Test Statistic: 217.48998282770464\n",
      "p-value: 5.123947123481673e-45\n",
      "There is a statistically significant difference among the algorithms.\n"
     ]
    }
   ],
   "source": [
    "data = [\n",
    "    louisiana_ct_data['nsga2_nbcpm'], \n",
    "    louisiana_ct_data['nsga2_lfpc'],\n",
    "    louisiana_ct_data['nsga3_nbcpm'],\n",
    "    louisiana_ct_data['nsga3_lfpc'],\n",
    "    louisiana_ct_data['pos_nbcpm'],\n",
    "    louisiana_ct_data['pos_lfpc'],]\n",
    "\n",
    "# Perform the Friedman test\n",
    "statistic, p_value = friedmanchisquare(*data)\n",
    "\n",
    "print(f\"Friedman Test Statistic: {statistic}\")\n",
    "print(f\"p-value: {p_value}\")\n",
    "\n",
    "if p_value < 0.05:\n",
    "    print(\"There is a statistically significant difference among the algorithms.\")\n",
    "else:\n",
    "    print(\"No statistically significant difference found.\")"
   ]
  },
  {
   "cell_type": "code",
   "execution_count": 12,
   "id": "3429b119-f0b9-4963-ac62-ad6598d58b96",
   "metadata": {},
   "outputs": [
    {
     "name": "stdout",
     "output_type": "stream",
     "text": [
      "      Multiple Comparison of Means - Tukey HSD, FWER=0.05      \n",
      "===============================================================\n",
      "   group1      group2   meandiff p-adj   lower    upper  reject\n",
      "---------------------------------------------------------------\n",
      " nsga2_lfpc nsga2_nbcpm  -9.8462    0.0 -10.9713 -8.7211   True\n",
      " nsga2_lfpc  nsga3_lfpc   0.5574 0.7141  -0.5677  1.6825  False\n",
      " nsga2_lfpc nsga3_nbcpm  -9.4794    0.0 -10.6045 -8.3543   True\n",
      " nsga2_lfpc    pos_lfpc    0.636 0.5849  -0.4891  1.7611  False\n",
      " nsga2_lfpc   pos_nbcpm  -10.105    0.0 -11.2301 -8.9799   True\n",
      "nsga2_nbcpm  nsga3_lfpc  10.4036    0.0   9.2785 11.5287   True\n",
      "nsga2_nbcpm nsga3_nbcpm   0.3668 0.9371  -0.7583  1.4919  False\n",
      "nsga2_nbcpm    pos_lfpc  10.4822    0.0   9.3571 11.6073   True\n",
      "nsga2_nbcpm   pos_nbcpm  -0.2588 0.9861  -1.3839  0.8663  False\n",
      " nsga3_lfpc nsga3_nbcpm -10.0368    0.0 -11.1619 -8.9117   True\n",
      " nsga3_lfpc    pos_lfpc   0.0786    1.0  -1.0465  1.2037  False\n",
      " nsga3_lfpc   pos_nbcpm -10.6624    0.0 -11.7875 -9.5373   True\n",
      "nsga3_nbcpm    pos_lfpc  10.1154    0.0   8.9903 11.2405   True\n",
      "nsga3_nbcpm   pos_nbcpm  -0.6256 0.6025  -1.7507  0.4995  False\n",
      "   pos_lfpc   pos_nbcpm  -10.741    0.0 -11.8661 -9.6159   True\n",
      "---------------------------------------------------------------\n"
     ]
    }
   ],
   "source": [
    "lctd = louisiana_ct_data.melt(var_name='algorithm', value_name='score') # Reshaping data for Tukey's HSD\n",
    "\n",
    "louisiana_ct_data_tukey = pairwise_tukeyhsd(endog=lctd['score'], groups=lctd['algorithm'], alpha=0.05)\n",
    "print(louisiana_ct_data_tukey)"
   ]
  },
  {
   "cell_type": "markdown",
   "id": "6aaa1eac-3a33-4ac3-932d-0b9cb58a1dce",
   "metadata": {},
   "source": [
    "# Percentage of Unique Solutions (%)"
   ]
  },
  {
   "cell_type": "code",
   "execution_count": 13,
   "id": "500f9892-ba0a-40d8-b184-92be3b3b45cb",
   "metadata": {},
   "outputs": [
    {
     "name": "stdout",
     "output_type": "stream",
     "text": [
      "Friedman Test Statistic: 237.5542857142857\n",
      "p-value: 2.5684926404826717e-49\n",
      "There is a statistically significant difference among the algorithms.\n"
     ]
    }
   ],
   "source": [
    "data = [\n",
    "    louisiana_eval_data['nsga2_nbcpm'], \n",
    "    louisiana_eval_data['nsga2_lfpc'],\n",
    "    louisiana_eval_data['nsga3_nbcpm'],\n",
    "    louisiana_eval_data['nsga3_lfpc'],\n",
    "    louisiana_eval_data['pos_nbcpm'],\n",
    "    louisiana_eval_data['pos_lfpc'],]\n",
    "\n",
    "# Perform the Friedman test\n",
    "statistic, p_value = friedmanchisquare(*data)\n",
    "\n",
    "print(f\"Friedman Test Statistic: {statistic}\")\n",
    "print(f\"p-value: {p_value}\")\n",
    "\n",
    "if p_value < 0.05:\n",
    "    print(\"There is a statistically significant difference among the algorithms.\")\n",
    "else:\n",
    "    print(\"No statistically significant difference found.\")"
   ]
  },
  {
   "cell_type": "code",
   "execution_count": 14,
   "id": "e606e65a-e0cf-4d58-9b3b-54a6a37e1da5",
   "metadata": {},
   "outputs": [
    {
     "name": "stdout",
     "output_type": "stream",
     "text": [
      "      Multiple Comparison of Means - Tukey HSD, FWER=0.05       \n",
      "================================================================\n",
      "   group1      group2   meandiff p-adj   lower    upper   reject\n",
      "----------------------------------------------------------------\n",
      " nsga2_lfpc nsga2_nbcpm -26.9282    0.0 -31.3503 -22.5061   True\n",
      " nsga2_lfpc  nsga3_lfpc    5.017 0.0159   0.5949   9.4391   True\n",
      " nsga2_lfpc nsga3_nbcpm -18.2994    0.0 -22.7215 -13.8773   True\n",
      " nsga2_lfpc    pos_lfpc   1.6044 0.9038  -2.8177   6.0265  False\n",
      " nsga2_lfpc   pos_nbcpm -26.8164    0.0 -31.2385 -22.3943   True\n",
      "nsga2_nbcpm  nsga3_lfpc  31.9452    0.0  27.5231  36.3673   True\n",
      "nsga2_nbcpm nsga3_nbcpm   8.6288    0.0   4.2067  13.0509   True\n",
      "nsga2_nbcpm    pos_lfpc  28.5326    0.0  24.1105  32.9547   True\n",
      "nsga2_nbcpm   pos_nbcpm   0.1118    1.0  -4.3103   4.5339  False\n",
      " nsga3_lfpc nsga3_nbcpm -23.3164    0.0 -27.7385 -18.8943   True\n",
      " nsga3_lfpc    pos_lfpc  -3.4126 0.2345  -7.8347   1.0095  False\n",
      " nsga3_lfpc   pos_nbcpm -31.8334    0.0 -36.2555 -27.4113   True\n",
      "nsga3_nbcpm    pos_lfpc  19.9038    0.0  15.4817  24.3259   True\n",
      "nsga3_nbcpm   pos_nbcpm   -8.517    0.0 -12.9391  -4.0949   True\n",
      "   pos_lfpc   pos_nbcpm -28.4208    0.0 -32.8429 -23.9987   True\n",
      "----------------------------------------------------------------\n"
     ]
    }
   ],
   "source": [
    "levald = louisiana_eval_data.melt(var_name='algorithm', value_name='score') # Reshaping data for Tukey's HSD\n",
    "\n",
    "louisiana_eval_data_tukey = pairwise_tukeyhsd(endog=levald['score'], groups=levald['algorithm'], alpha=0.05)\n",
    "print(louisiana_eval_data_tukey)"
   ]
  },
  {
   "cell_type": "code",
   "execution_count": null,
   "id": "c2a0152a-9af0-4af1-9a99-6afe1b5c279a",
   "metadata": {},
   "outputs": [],
   "source": []
  },
  {
   "cell_type": "code",
   "execution_count": null,
   "id": "ed814cdd-57c5-4850-a802-fcb5f712d6b9",
   "metadata": {},
   "outputs": [],
   "source": []
  },
  {
   "cell_type": "code",
   "execution_count": null,
   "id": "8fb49a4d-5399-4758-9f6c-cb6c272838f8",
   "metadata": {},
   "outputs": [],
   "source": []
  },
  {
   "cell_type": "code",
   "execution_count": null,
   "id": "a6eceea5-95f0-4776-891d-48e7ad6c8b8e",
   "metadata": {},
   "outputs": [],
   "source": []
  },
  {
   "cell_type": "code",
   "execution_count": null,
   "id": "eee22237-a999-445f-a36c-57801250afa4",
   "metadata": {},
   "outputs": [],
   "source": []
  },
  {
   "cell_type": "code",
   "execution_count": null,
   "id": "e6355466-a930-4255-a48e-894a43c5ae68",
   "metadata": {},
   "outputs": [],
   "source": []
  },
  {
   "cell_type": "code",
   "execution_count": null,
   "id": "da33983b-2c2a-4282-8aa2-49bedf223949",
   "metadata": {},
   "outputs": [],
   "source": []
  },
  {
   "cell_type": "code",
   "execution_count": null,
   "id": "5ead7751-4767-4f7d-a2f7-2154f24da5db",
   "metadata": {},
   "outputs": [],
   "source": []
  },
  {
   "cell_type": "code",
   "execution_count": null,
   "id": "cf7e2665-cb05-4af6-8d63-2bddcd835129",
   "metadata": {},
   "outputs": [],
   "source": []
  },
  {
   "cell_type": "code",
   "execution_count": null,
   "id": "3858a056-306f-4df0-8888-85bc1f88a272",
   "metadata": {},
   "outputs": [],
   "source": []
  },
  {
   "cell_type": "code",
   "execution_count": null,
   "id": "f3e46ac3-69a1-4c16-8c9f-dc76efc6bde9",
   "metadata": {},
   "outputs": [],
   "source": []
  },
  {
   "cell_type": "code",
   "execution_count": null,
   "id": "f1806ae4-a198-4100-b180-dd1d56a99002",
   "metadata": {},
   "outputs": [],
   "source": []
  },
  {
   "cell_type": "code",
   "execution_count": null,
   "id": "e5be9f5d-14b9-4ff1-bc02-6f6a85c3e0db",
   "metadata": {},
   "outputs": [],
   "source": []
  }
 ],
 "metadata": {
  "kernelspec": {
   "display_name": "Python 3 (ipykernel)",
   "language": "python",
   "name": "python3"
  },
  "language_info": {
   "codemirror_mode": {
    "name": "ipython",
    "version": 3
   },
   "file_extension": ".py",
   "mimetype": "text/x-python",
   "name": "python",
   "nbconvert_exporter": "python",
   "pygments_lexer": "ipython3",
   "version": "3.9.6"
  }
 },
 "nbformat": 4,
 "nbformat_minor": 5
}
