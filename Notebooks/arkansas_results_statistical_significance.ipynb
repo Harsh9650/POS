{
 "cells": [
  {
   "cell_type": "code",
   "execution_count": 1,
   "id": "89255964-a6c7-40e9-adc4-ca3970c3f8cd",
   "metadata": {},
   "outputs": [],
   "source": [
    "import pandas as pd\n",
    "from scipy.stats import friedmanchisquare\n",
    "import scikit_posthocs as sp"
   ]
  },
  {
   "cell_type": "markdown",
   "id": "9fa98936-0baf-476c-8718-011ac68512d8",
   "metadata": {},
   "source": [
    "# Result Datasets"
   ]
  },
  {
   "cell_type": "code",
   "execution_count": 2,
   "id": "3fdf0dc6-0233-43c8-a277-5988802f8343",
   "metadata": {},
   "outputs": [],
   "source": [
    "arkansas_gap_data = pd.read_excel('arkansas_gap_percent.xlsx')\n",
    "arkansas_eval_data = pd.read_excel('arkansas_unique_evaluations.xlsx')\n",
    "arkansas_hv_data = pd.read_excel('arkansas_hypervolume.xlsx')\n",
    "arkansas_ud_data = pd.read_excel('arkansas_uniform_distribution.xlsx')\n",
    "arkansas_rni_data = pd.read_excel('arkansas_ratio_non_dominated.xlsx')\n",
    "arkansas_ct_data = pd.read_excel('arkansas_computation_time.xlsx')"
   ]
  },
  {
   "cell_type": "markdown",
   "id": "ed754549-4925-447a-be69-074cad385468",
   "metadata": {},
   "source": [
    "# GAP (%)"
   ]
  },
  {
   "cell_type": "code",
   "execution_count": 3,
   "id": "9affe69b-4d2a-484d-b411-371f97b80cca",
   "metadata": {},
   "outputs": [
    {
     "name": "stdout",
     "output_type": "stream",
     "text": [
      "Friedman Test Statistic: 68.47350993377486\n",
      "p-value: 2.1288931356521127e-13\n",
      "There is a statistically significant difference among the algorithms.\n"
     ]
    }
   ],
   "source": [
    "data = [\n",
    "    arkansas_gap_data['nsga2_nbcpm'], \n",
    "    arkansas_gap_data['nsga2_lfpc'],\n",
    "    arkansas_gap_data['nsga3_nbcpm'],\n",
    "    arkansas_gap_data['nsga3_lfpc'],\n",
    "    arkansas_gap_data['pos_nbcpm'],\n",
    "    arkansas_gap_data['pos_lfpc'],]\n",
    "\n",
    "# Perform the Friedman test\n",
    "statistic, p_value = friedmanchisquare(*data)\n",
    "\n",
    "print(f\"Friedman Test Statistic: {statistic}\")\n",
    "print(f\"p-value: {p_value}\")\n",
    "\n",
    "if p_value < 0.05:\n",
    "    print(\"There is a statistically significant difference among the algorithms.\")\n",
    "else:\n",
    "    print(\"No statistically significant difference found.\")"
   ]
  },
  {
   "cell_type": "code",
   "execution_count": 4,
   "id": "92d1dc9d-d496-42b2-8633-4e4839380fa2",
   "metadata": {},
   "outputs": [
    {
     "name": "stdout",
     "output_type": "stream",
     "text": [
      "             nsga2_nbcpm  nsga2_lfpc  nsga3_nbcpm  nsga3_lfpc  pos_nbcpm  \\\n",
      "nsga2_nbcpm     1.000000    0.798912     0.001000    0.163790   0.900000   \n",
      "nsga2_lfpc      0.798912    1.000000     0.001000    0.004176   0.900000   \n",
      "nsga3_nbcpm     0.001000    0.001000     1.000000    0.439211   0.001000   \n",
      "nsga3_lfpc      0.163790    0.004176     0.439211    1.000000   0.048615   \n",
      "pos_nbcpm       0.900000    0.900000     0.001000    0.048615   1.000000   \n",
      "pos_lfpc        0.183649    0.876095     0.001000    0.001000   0.439211   \n",
      "\n",
      "             pos_lfpc  \n",
      "nsga2_nbcpm  0.183649  \n",
      "nsga2_lfpc   0.876095  \n",
      "nsga3_nbcpm  0.001000  \n",
      "nsga3_lfpc   0.001000  \n",
      "pos_nbcpm    0.439211  \n",
      "pos_lfpc     1.000000  \n"
     ]
    }
   ],
   "source": [
    "# Perform the Nemenyi post-hoc test\n",
    "arkansas_gap_data_nemenyi_results = sp.posthoc_nemenyi_friedman(arkansas_gap_data)\n",
    "\n",
    "print(arkansas_gap_data_nemenyi_results)"
   ]
  },
  {
   "cell_type": "markdown",
   "id": "ff6319bb-79e6-4e66-bc18-2b5f202e9c71",
   "metadata": {},
   "source": [
    "# HyperVolume"
   ]
  },
  {
   "cell_type": "code",
   "execution_count": 5,
   "id": "ad83f0fc-3f90-49c2-932f-52c260a1b092",
   "metadata": {},
   "outputs": [
    {
     "name": "stdout",
     "output_type": "stream",
     "text": [
      "Friedman Test Statistic: 135.00571428571425\n",
      "p-value: 2.0598851088991632e-27\n",
      "There is a statistically significant difference among the algorithms.\n"
     ]
    }
   ],
   "source": [
    "data = [\n",
    "    arkansas_hv_data['nsga2_nbcpm'], \n",
    "    arkansas_hv_data['nsga2_lfpc'],\n",
    "    arkansas_hv_data['nsga3_nbcpm'],\n",
    "    arkansas_hv_data['nsga3_lfpc'],\n",
    "    arkansas_hv_data['pos_nbcpm'],\n",
    "    arkansas_hv_data['pos_lfpc'],]\n",
    "\n",
    "# Perform the Friedman test\n",
    "statistic, p_value = friedmanchisquare(*data)\n",
    "\n",
    "print(f\"Friedman Test Statistic: {statistic}\")\n",
    "print(f\"p-value: {p_value}\")\n",
    "\n",
    "if p_value < 0.05:\n",
    "    print(\"There is a statistically significant difference among the algorithms.\")\n",
    "else:\n",
    "    print(\"No statistically significant difference found.\")"
   ]
  },
  {
   "cell_type": "code",
   "execution_count": 6,
   "id": "661ec92b-4053-4323-9e20-dec92f8da42f",
   "metadata": {},
   "outputs": [
    {
     "name": "stdout",
     "output_type": "stream",
     "text": [
      "             nsga2_nbcpm  nsga2_lfpc  nsga3_nbcpm  nsga3_lfpc  pos_nbcpm  \\\n",
      "nsga2_nbcpm     1.000000    0.900000        0.001       0.001   0.900000   \n",
      "nsga2_lfpc      0.900000    1.000000        0.001       0.001   0.891530   \n",
      "nsga3_nbcpm     0.001000    0.001000        1.000       0.900   0.001000   \n",
      "nsga3_lfpc      0.001000    0.001000        0.900       1.000   0.001000   \n",
      "pos_nbcpm       0.900000    0.891530        0.001       0.001   1.000000   \n",
      "pos_lfpc        0.295333    0.422253        0.001       0.001   0.038615   \n",
      "\n",
      "             pos_lfpc  \n",
      "nsga2_nbcpm  0.295333  \n",
      "nsga2_lfpc   0.422253  \n",
      "nsga3_nbcpm  0.001000  \n",
      "nsga3_lfpc   0.001000  \n",
      "pos_nbcpm    0.038615  \n",
      "pos_lfpc     1.000000  \n"
     ]
    }
   ],
   "source": [
    "# Perform the Nemenyi post-hoc test\n",
    "arkansas_hv_data_nemenyi_results = sp.posthoc_nemenyi_friedman(arkansas_hv_data)\n",
    "\n",
    "print(arkansas_hv_data_nemenyi_results)"
   ]
  },
  {
   "cell_type": "markdown",
   "id": "7203ade5-aea6-4c36-9c32-a6965961639d",
   "metadata": {},
   "source": [
    "# Uniform Distribution"
   ]
  },
  {
   "cell_type": "code",
   "execution_count": 7,
   "id": "14a35820-c9fd-4e8b-b972-be8f09bcda28",
   "metadata": {},
   "outputs": [
    {
     "name": "stdout",
     "output_type": "stream",
     "text": [
      "Friedman Test Statistic: 23.22755860491716\n",
      "p-value: 0.00030537243391409095\n",
      "There is a statistically significant difference among the algorithms.\n"
     ]
    }
   ],
   "source": [
    "data = [\n",
    "    arkansas_ud_data['nsga2_nbcpm'], \n",
    "    arkansas_ud_data['nsga2_lfpc'],\n",
    "    arkansas_ud_data['nsga3_nbcpm'],\n",
    "    arkansas_ud_data['nsga3_lfpc'],\n",
    "    arkansas_ud_data['pos_nbcpm'],\n",
    "    arkansas_ud_data['pos_lfpc'],]\n",
    "\n",
    "# Perform the Friedman test\n",
    "statistic, p_value = friedmanchisquare(*data)\n",
    "\n",
    "print(f\"Friedman Test Statistic: {statistic}\")\n",
    "print(f\"p-value: {p_value}\")\n",
    "\n",
    "if p_value < 0.05:\n",
    "    print(\"There is a statistically significant difference among the algorithms.\")\n",
    "else:\n",
    "    print(\"No statistically significant difference found.\")"
   ]
  },
  {
   "cell_type": "code",
   "execution_count": 8,
   "id": "5441e326-5d11-4737-8e3d-29f3439d1cb1",
   "metadata": {},
   "outputs": [
    {
     "name": "stdout",
     "output_type": "stream",
     "text": [
      "             nsga2_nbcpm  nsga2_lfpc  nsga3_nbcpm  nsga3_lfpc  pos_nbcpm  \\\n",
      "nsga2_nbcpm     1.000000    0.456134     0.021831    0.001000   0.900000   \n",
      "nsga2_lfpc      0.456134    1.000000     0.752604    0.229206   0.829786   \n",
      "nsga3_nbcpm     0.021831    0.752604     1.000000    0.900000   0.127919   \n",
      "nsga3_lfpc      0.001000    0.229206     0.900000    1.000000   0.008999   \n",
      "pos_nbcpm       0.900000    0.829786     0.127919    0.008999   1.000000   \n",
      "pos_lfpc        0.105836    0.900000     0.900000    0.659987   0.388553   \n",
      "\n",
      "             pos_lfpc  \n",
      "nsga2_nbcpm  0.105836  \n",
      "nsga2_lfpc   0.900000  \n",
      "nsga3_nbcpm  0.900000  \n",
      "nsga3_lfpc   0.659987  \n",
      "pos_nbcpm    0.388553  \n",
      "pos_lfpc     1.000000  \n"
     ]
    }
   ],
   "source": [
    "# Perform the Nemenyi post-hoc test\n",
    "arkansas_ud_data_nemenyi_results = sp.posthoc_nemenyi_friedman(arkansas_ud_data)\n",
    "\n",
    "print(arkansas_ud_data_nemenyi_results)"
   ]
  },
  {
   "cell_type": "markdown",
   "id": "ba19d7b9-2bda-4148-b966-86896a90f7bd",
   "metadata": {},
   "source": [
    "# RNI"
   ]
  },
  {
   "cell_type": "code",
   "execution_count": 9,
   "id": "84fc8b87-0d27-43d8-9d3c-b25d664a539d",
   "metadata": {},
   "outputs": [
    {
     "name": "stdout",
     "output_type": "stream",
     "text": [
      "Friedman Test Statistic: 151.85271770894224\n",
      "p-value: 5.384002923292971e-31\n",
      "There is a statistically significant difference among the algorithms.\n"
     ]
    }
   ],
   "source": [
    "data = [\n",
    "    arkansas_rni_data['nsga2_nbcpm'], \n",
    "    arkansas_rni_data['nsga2_lfpc'],\n",
    "    arkansas_rni_data['nsga3_nbcpm'],\n",
    "    arkansas_rni_data['nsga3_lfpc'],\n",
    "    arkansas_rni_data['pos_nbcpm'],\n",
    "    arkansas_rni_data['pos_lfpc'],]\n",
    "\n",
    "# Perform the Friedman test\n",
    "statistic, p_value = friedmanchisquare(*data)\n",
    "\n",
    "print(f\"Friedman Test Statistic: {statistic}\")\n",
    "print(f\"p-value: {p_value}\")\n",
    "\n",
    "if p_value < 0.05:\n",
    "    print(\"There is a statistically significant difference among the algorithms.\")\n",
    "else:\n",
    "    print(\"No statistically significant difference found.\")"
   ]
  },
  {
   "cell_type": "code",
   "execution_count": 10,
   "id": "008819a3-752d-4c69-adea-f3036c3a340d",
   "metadata": {},
   "outputs": [
    {
     "name": "stdout",
     "output_type": "stream",
     "text": [
      "             nsga2_nbcpm  nsga2_lfpc  nsga3_nbcpm  nsga3_lfpc  pos_nbcpm  \\\n",
      "nsga2_nbcpm        1.000    0.900000        0.001       0.001   0.900000   \n",
      "nsga2_lfpc         0.900    1.000000        0.001       0.001   0.798912   \n",
      "nsga3_nbcpm        0.001    0.001000        1.000       0.900   0.001000   \n",
      "nsga3_lfpc         0.001    0.001000        0.900       1.000   0.001000   \n",
      "pos_nbcpm          0.900    0.798912        0.001       0.001   1.000000   \n",
      "pos_lfpc           0.900    0.900000        0.001       0.001   0.900000   \n",
      "\n",
      "             pos_lfpc  \n",
      "nsga2_nbcpm     0.900  \n",
      "nsga2_lfpc      0.900  \n",
      "nsga3_nbcpm     0.001  \n",
      "nsga3_lfpc      0.001  \n",
      "pos_nbcpm       0.900  \n",
      "pos_lfpc        1.000  \n"
     ]
    }
   ],
   "source": [
    "# Perform the Nemenyi post-hoc test\n",
    "arkansas_rni_data_nemenyi_results = sp.posthoc_nemenyi_friedman(arkansas_rni_data)\n",
    "\n",
    "print(arkansas_rni_data_nemenyi_results)"
   ]
  },
  {
   "cell_type": "markdown",
   "id": "ab27200c-1d65-4996-b2e7-b5606b4304c2",
   "metadata": {},
   "source": [
    "# Computation Time"
   ]
  },
  {
   "cell_type": "code",
   "execution_count": 11,
   "id": "71efd339-6af7-40fe-a14c-4cd358c19ce9",
   "metadata": {},
   "outputs": [
    {
     "name": "stdout",
     "output_type": "stream",
     "text": [
      "Friedman Test Statistic: 213.36009174311923\n",
      "p-value: 3.9266789981451055e-44\n",
      "There is a statistically significant difference among the algorithms.\n"
     ]
    }
   ],
   "source": [
    "data = [\n",
    "    arkansas_ct_data['nsga2_nbcpm'], \n",
    "    arkansas_ct_data['nsga2_lfpc'],\n",
    "    arkansas_ct_data['nsga3_nbcpm'],\n",
    "    arkansas_ct_data['nsga3_lfpc'],\n",
    "    arkansas_ct_data['pos_nbcpm'],\n",
    "    arkansas_ct_data['pos_lfpc'],]\n",
    "\n",
    "# Perform the Friedman test\n",
    "statistic, p_value = friedmanchisquare(*data)\n",
    "\n",
    "print(f\"Friedman Test Statistic: {statistic}\")\n",
    "print(f\"p-value: {p_value}\")\n",
    "\n",
    "if p_value < 0.05:\n",
    "    print(\"There is a statistically significant difference among the algorithms.\")\n",
    "else:\n",
    "    print(\"No statistically significant difference found.\")"
   ]
  },
  {
   "cell_type": "code",
   "execution_count": 12,
   "id": "3caad6ea-366b-4efe-a8b0-500171d77ff3",
   "metadata": {},
   "outputs": [
    {
     "name": "stdout",
     "output_type": "stream",
     "text": [
      "             nsga2_nbcpm  nsga2_lfpc  nsga3_nbcpm  nsga3_lfpc  pos_nbcpm  \\\n",
      "nsga2_nbcpm     1.000000    0.001000     0.752604    0.001000   0.613677   \n",
      "nsga2_lfpc      0.001000    1.000000     0.001000    0.405341   0.001000   \n",
      "nsga3_nbcpm     0.752604    0.001000     1.000000    0.001000   0.048615   \n",
      "nsga3_lfpc      0.001000    0.405341     0.001000    1.000000   0.001000   \n",
      "pos_nbcpm       0.613677    0.001000     0.048615    0.001000   1.000000   \n",
      "pos_lfpc        0.001000    0.008999     0.001000    0.644552   0.001000   \n",
      "\n",
      "             pos_lfpc  \n",
      "nsga2_nbcpm  0.001000  \n",
      "nsga2_lfpc   0.008999  \n",
      "nsga3_nbcpm  0.001000  \n",
      "nsga3_lfpc   0.644552  \n",
      "pos_nbcpm    0.001000  \n",
      "pos_lfpc     1.000000  \n"
     ]
    }
   ],
   "source": [
    "# Perform the Nemenyi post-hoc test\n",
    "arkansas_ct_data_nemenyi_results = sp.posthoc_nemenyi_friedman(arkansas_ct_data)\n",
    "\n",
    "print(arkansas_ct_data_nemenyi_results)"
   ]
  },
  {
   "cell_type": "markdown",
   "id": "546591d2-a225-40d9-b48f-701070d5a509",
   "metadata": {},
   "source": [
    "# Percentage of Unique Solutions (%)"
   ]
  },
  {
   "cell_type": "code",
   "execution_count": 13,
   "id": "7852bfc3-44fd-4709-90cc-e6d5a0461b83",
   "metadata": {},
   "outputs": [
    {
     "name": "stdout",
     "output_type": "stream",
     "text": [
      "Friedman Test Statistic: 235.28604118993124\n",
      "p-value: 7.870891973202551e-49\n",
      "There is a statistically significant difference among the algorithms.\n"
     ]
    }
   ],
   "source": [
    "data = [\n",
    "    arkansas_eval_data['nsga2_nbcpm'], \n",
    "    arkansas_eval_data['nsga2_lfpc'],\n",
    "    arkansas_eval_data['nsga3_nbcpm'],\n",
    "    arkansas_eval_data['nsga3_lfpc'],\n",
    "    arkansas_eval_data['pos_nbcpm'],\n",
    "    arkansas_eval_data['pos_lfpc'],]\n",
    "\n",
    "# Perform the Friedman test\n",
    "statistic, p_value = friedmanchisquare(*data)\n",
    "\n",
    "print(f\"Friedman Test Statistic: {statistic}\")\n",
    "print(f\"p-value: {p_value}\")\n",
    "\n",
    "if p_value < 0.05:\n",
    "    print(\"There is a statistically significant difference among the algorithms.\")\n",
    "else:\n",
    "    print(\"No statistically significant difference found.\")"
   ]
  },
  {
   "cell_type": "code",
   "execution_count": 14,
   "id": "453ab1cd-1f51-46f8-bbc7-a06f043611ed",
   "metadata": {},
   "outputs": [
    {
     "name": "stdout",
     "output_type": "stream",
     "text": [
      "             nsga2_nbcpm  nsga2_lfpc  nsga3_nbcpm  nsga3_lfpc  pos_nbcpm  \\\n",
      "nsga2_nbcpm     1.000000    0.001000     0.006789    0.001000    0.90000   \n",
      "nsga2_lfpc      0.001000    1.000000     0.009870    0.001000    0.00100   \n",
      "nsga3_nbcpm     0.006789    0.009870     1.000000    0.001000    0.00252   \n",
      "nsga3_lfpc      0.001000    0.001000     0.001000    1.000000    0.00100   \n",
      "pos_nbcpm       0.900000    0.001000     0.002520    0.001000    1.00000   \n",
      "pos_lfpc        0.001000    0.456134     0.001000    0.023739    0.00100   \n",
      "\n",
      "             pos_lfpc  \n",
      "nsga2_nbcpm  0.001000  \n",
      "nsga2_lfpc   0.456134  \n",
      "nsga3_nbcpm  0.001000  \n",
      "nsga3_lfpc   0.023739  \n",
      "pos_nbcpm    0.001000  \n",
      "pos_lfpc     1.000000  \n"
     ]
    }
   ],
   "source": [
    "# Perform the Nemenyi post-hoc test\n",
    "arkansas_eval_data_nemenyi_results = sp.posthoc_nemenyi_friedman(arkansas_eval_data)\n",
    "\n",
    "print(arkansas_eval_data_nemenyi_results)"
   ]
  },
  {
   "cell_type": "code",
   "execution_count": null,
   "id": "83995601-c8d3-4320-8c9b-ee7c187d6d0e",
   "metadata": {},
   "outputs": [],
   "source": []
  },
  {
   "cell_type": "code",
   "execution_count": null,
   "id": "4fb97d5e-cd39-47be-9408-097d24445721",
   "metadata": {},
   "outputs": [],
   "source": []
  },
  {
   "cell_type": "code",
   "execution_count": null,
   "id": "6b3e3af9-162d-4250-9782-c2105d38dede",
   "metadata": {},
   "outputs": [],
   "source": []
  },
  {
   "cell_type": "code",
   "execution_count": null,
   "id": "5124f820-2ac3-4678-a915-47b2ab476f8f",
   "metadata": {},
   "outputs": [],
   "source": []
  },
  {
   "cell_type": "code",
   "execution_count": null,
   "id": "640eb8df-323e-42c1-ba1d-abfd98da1cff",
   "metadata": {},
   "outputs": [],
   "source": []
  },
  {
   "cell_type": "code",
   "execution_count": null,
   "id": "be9a218e-d09e-4a6f-849f-8e2483b4b6f3",
   "metadata": {},
   "outputs": [],
   "source": []
  },
  {
   "cell_type": "code",
   "execution_count": null,
   "id": "4b001491-0785-43fe-81e2-d2ad5b32a6c6",
   "metadata": {},
   "outputs": [],
   "source": []
  },
  {
   "cell_type": "code",
   "execution_count": null,
   "id": "925f1641-4a72-41f9-b72d-6548ff5b2397",
   "metadata": {},
   "outputs": [],
   "source": []
  },
  {
   "cell_type": "code",
   "execution_count": null,
   "id": "d6f4cdbb-8c47-49e8-8ff9-6917e29b71b9",
   "metadata": {},
   "outputs": [],
   "source": []
  },
  {
   "cell_type": "code",
   "execution_count": null,
   "id": "86a18623-590c-4d01-9391-15744b6eee7b",
   "metadata": {},
   "outputs": [],
   "source": []
  },
  {
   "cell_type": "code",
   "execution_count": null,
   "id": "96614ca4-b180-4cfb-b293-20cb8ee1c506",
   "metadata": {},
   "outputs": [],
   "source": []
  },
  {
   "cell_type": "code",
   "execution_count": null,
   "id": "629faf20-2339-495c-833e-3a4d59cc4cce",
   "metadata": {},
   "outputs": [],
   "source": []
  },
  {
   "cell_type": "code",
   "execution_count": null,
   "id": "555e2dd7-fd72-43b4-8abf-53ce4a265f2c",
   "metadata": {},
   "outputs": [],
   "source": []
  }
 ],
 "metadata": {
  "kernelspec": {
   "display_name": "Python 3 (ipykernel)",
   "language": "python",
   "name": "python3"
  },
  "language_info": {
   "codemirror_mode": {
    "name": "ipython",
    "version": 3
   },
   "file_extension": ".py",
   "mimetype": "text/x-python",
   "name": "python",
   "nbconvert_exporter": "python",
   "pygments_lexer": "ipython3",
   "version": "3.9.6"
  }
 },
 "nbformat": 4,
 "nbformat_minor": 5
}
