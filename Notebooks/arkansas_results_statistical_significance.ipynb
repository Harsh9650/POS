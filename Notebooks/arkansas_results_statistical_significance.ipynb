{
 "cells": [
  {
   "cell_type": "code",
   "execution_count": 1,
   "id": "89255964-a6c7-40e9-adc4-ca3970c3f8cd",
   "metadata": {},
   "outputs": [],
   "source": [
    "import pandas as pd\n",
    "from scipy.stats import friedmanchisquare\n",
    "from statsmodels.stats.multicomp import pairwise_tukeyhsd"
   ]
  },
  {
   "cell_type": "markdown",
   "id": "9fa98936-0baf-476c-8718-011ac68512d8",
   "metadata": {},
   "source": [
    "# Result Datasets"
   ]
  },
  {
   "cell_type": "code",
   "execution_count": 2,
   "id": "3fdf0dc6-0233-43c8-a277-5988802f8343",
   "metadata": {},
   "outputs": [],
   "source": [
    "arkansas_gap_data = pd.read_excel('arkansas_gap_percent.xlsx')\n",
    "arkansas_eval_data = pd.read_excel('arkansas_unique_evaluations.xlsx')\n",
    "arkansas_hv_data = pd.read_excel('arkansas_hypervolume.xlsx')\n",
    "arkansas_ud_data = pd.read_excel('arkansas_uniform_distribution.xlsx')\n",
    "arkansas_rni_data = pd.read_excel('arkansas_ratio_non_dominated.xlsx')\n",
    "arkansas_ct_data = pd.read_excel('arkansas_computation_time.xlsx')"
   ]
  },
  {
   "cell_type": "markdown",
   "id": "ed754549-4925-447a-be69-074cad385468",
   "metadata": {},
   "source": [
    "# GAP (%)"
   ]
  },
  {
   "cell_type": "code",
   "execution_count": 3,
   "id": "9affe69b-4d2a-484d-b411-371f97b80cca",
   "metadata": {},
   "outputs": [
    {
     "name": "stdout",
     "output_type": "stream",
     "text": [
      "Friedman Test Statistic: 68.47350993377486\n",
      "p-value: 2.1288931356521127e-13\n",
      "There is a statistically significant difference among the algorithms.\n"
     ]
    }
   ],
   "source": [
    "data = [\n",
    "    arkansas_gap_data['nsga2_nbcpm'], \n",
    "    arkansas_gap_data['nsga2_lfpc'],\n",
    "    arkansas_gap_data['nsga3_nbcpm'],\n",
    "    arkansas_gap_data['nsga3_lfpc'],\n",
    "    arkansas_gap_data['pos_nbcpm'],\n",
    "    arkansas_gap_data['pos_lfpc'],]\n",
    "\n",
    "# Perform the Friedman test\n",
    "statistic, p_value = friedmanchisquare(*data)\n",
    "\n",
    "print(f\"Friedman Test Statistic: {statistic}\")\n",
    "print(f\"p-value: {p_value}\")\n",
    "\n",
    "if p_value < 0.05:\n",
    "    print(\"There is a statistically significant difference among the algorithms.\")\n",
    "else:\n",
    "    print(\"No statistically significant difference found.\")"
   ]
  },
  {
   "cell_type": "code",
   "execution_count": 4,
   "id": "92d1dc9d-d496-42b2-8633-4e4839380fa2",
   "metadata": {},
   "outputs": [
    {
     "name": "stdout",
     "output_type": "stream",
     "text": [
      "      Multiple Comparison of Means - Tukey HSD, FWER=0.05      \n",
      "===============================================================\n",
      "   group1      group2   meandiff p-adj   lower    upper  reject\n",
      "---------------------------------------------------------------\n",
      " nsga2_lfpc nsga2_nbcpm   0.6192 0.9995  -4.8997  6.1381  False\n",
      " nsga2_lfpc  nsga3_lfpc   4.8574 0.1203  -0.6615 10.3763  False\n",
      " nsga2_lfpc nsga3_nbcpm    6.796 0.0063   1.2771 12.3149   True\n",
      " nsga2_lfpc    pos_lfpc  -1.0942  0.993  -6.6131  4.4247  False\n",
      " nsga2_lfpc   pos_nbcpm   1.4522 0.9746  -4.0667  6.9711  False\n",
      "nsga2_nbcpm  nsga3_lfpc   4.2382 0.2395  -1.2807  9.7571  False\n",
      "nsga2_nbcpm nsga3_nbcpm   6.1768 0.0182   0.6579 11.6957   True\n",
      "nsga2_nbcpm    pos_lfpc  -1.7134 0.9486  -7.2323  3.8055  False\n",
      "nsga2_nbcpm   pos_nbcpm    0.833 0.9981  -4.6859  6.3519  False\n",
      " nsga3_lfpc nsga3_nbcpm   1.9386 0.9152  -3.5803  7.4575  False\n",
      " nsga3_lfpc    pos_lfpc  -5.9516 0.0261 -11.4705 -0.4327   True\n",
      " nsga3_lfpc   pos_nbcpm  -3.4052 0.4868  -8.9241  2.1137  False\n",
      "nsga3_nbcpm    pos_lfpc  -7.8902 0.0008 -13.4091 -2.3713   True\n",
      "nsga3_nbcpm   pos_nbcpm  -5.3438 0.0639 -10.8627  0.1751  False\n",
      "   pos_lfpc   pos_nbcpm   2.5464 0.7718  -2.9725  8.0653  False\n",
      "---------------------------------------------------------------\n"
     ]
    }
   ],
   "source": [
    "agd = arkansas_gap_data.melt(var_name='algorithm', value_name='score') # Reshaping data for Tukey's HSD\n",
    "\n",
    "arkansas_gap_data_tukey = pairwise_tukeyhsd(endog=agd['score'], groups=agd['algorithm'], alpha=0.05)\n",
    "print(arkansas_gap_data_tukey)"
   ]
  },
  {
   "cell_type": "markdown",
   "id": "ff6319bb-79e6-4e66-bc18-2b5f202e9c71",
   "metadata": {},
   "source": [
    "# HyperVolume"
   ]
  },
  {
   "cell_type": "code",
   "execution_count": 5,
   "id": "ad83f0fc-3f90-49c2-932f-52c260a1b092",
   "metadata": {},
   "outputs": [
    {
     "name": "stdout",
     "output_type": "stream",
     "text": [
      "Friedman Test Statistic: 135.00571428571425\n",
      "p-value: 2.0598851088991632e-27\n",
      "There is a statistically significant difference among the algorithms.\n"
     ]
    }
   ],
   "source": [
    "data = [\n",
    "    arkansas_hv_data['nsga2_nbcpm'], \n",
    "    arkansas_hv_data['nsga2_lfpc'],\n",
    "    arkansas_hv_data['nsga3_nbcpm'],\n",
    "    arkansas_hv_data['nsga3_lfpc'],\n",
    "    arkansas_hv_data['pos_nbcpm'],\n",
    "    arkansas_hv_data['pos_lfpc'],]\n",
    "\n",
    "# Perform the Friedman test\n",
    "statistic, p_value = friedmanchisquare(*data)\n",
    "\n",
    "print(f\"Friedman Test Statistic: {statistic}\")\n",
    "print(f\"p-value: {p_value}\")\n",
    "\n",
    "if p_value < 0.05:\n",
    "    print(\"There is a statistically significant difference among the algorithms.\")\n",
    "else:\n",
    "    print(\"No statistically significant difference found.\")"
   ]
  },
  {
   "cell_type": "code",
   "execution_count": 6,
   "id": "661ec92b-4053-4323-9e20-dec92f8da42f",
   "metadata": {},
   "outputs": [
    {
     "name": "stdout",
     "output_type": "stream",
     "text": [
      "     Multiple Comparison of Means - Tukey HSD, FWER=0.05      \n",
      "==============================================================\n",
      "   group1      group2   meandiff p-adj   lower   upper  reject\n",
      "--------------------------------------------------------------\n",
      " nsga2_lfpc nsga2_nbcpm   0.0084 0.9988 -0.0528  0.0696  False\n",
      " nsga2_lfpc  nsga3_lfpc  -0.1455    0.0 -0.2067 -0.0842   True\n",
      " nsga2_lfpc nsga3_nbcpm  -0.1406    0.0 -0.2018 -0.0794   True\n",
      " nsga2_lfpc    pos_lfpc   0.0399 0.4232 -0.0213  0.1011  False\n",
      " nsga2_lfpc   pos_nbcpm  -0.0021    1.0 -0.0633  0.0591  False\n",
      "nsga2_nbcpm  nsga3_lfpc  -0.1539    0.0 -0.2151 -0.0926   True\n",
      "nsga2_nbcpm nsga3_nbcpm   -0.149    0.0 -0.2102 -0.0878   True\n",
      "nsga2_nbcpm    pos_lfpc   0.0315 0.6799 -0.0297  0.0927  False\n",
      "nsga2_nbcpm   pos_nbcpm  -0.0105 0.9964 -0.0717  0.0507  False\n",
      " nsga3_lfpc nsga3_nbcpm   0.0049 0.9999 -0.0564  0.0661  False\n",
      " nsga3_lfpc    pos_lfpc   0.1854    0.0  0.1241  0.2466   True\n",
      " nsga3_lfpc   pos_nbcpm   0.1433    0.0  0.0821  0.2046   True\n",
      "nsga3_nbcpm    pos_lfpc   0.1805    0.0  0.1193  0.2417   True\n",
      "nsga3_nbcpm   pos_nbcpm   0.1385    0.0  0.0773  0.1997   True\n",
      "   pos_lfpc   pos_nbcpm   -0.042 0.3628 -0.1032  0.0192  False\n",
      "--------------------------------------------------------------\n"
     ]
    }
   ],
   "source": [
    "ahvd = arkansas_hv_data.melt(var_name='algorithm', value_name='score') # Reshaping data for Tukey's HSD\n",
    "\n",
    "arkansas_hv_data_tukey = pairwise_tukeyhsd(endog=ahvd['score'], groups=ahvd['algorithm'], alpha=0.05)\n",
    "print(arkansas_hv_data_tukey)"
   ]
  },
  {
   "cell_type": "markdown",
   "id": "7203ade5-aea6-4c36-9c32-a6965961639d",
   "metadata": {},
   "source": [
    "# Uniform Distribution"
   ]
  },
  {
   "cell_type": "code",
   "execution_count": 7,
   "id": "14a35820-c9fd-4e8b-b972-be8f09bcda28",
   "metadata": {},
   "outputs": [
    {
     "name": "stdout",
     "output_type": "stream",
     "text": [
      "Friedman Test Statistic: 23.22755860491716\n",
      "p-value: 0.00030537243391409095\n",
      "There is a statistically significant difference among the algorithms.\n"
     ]
    }
   ],
   "source": [
    "data = [\n",
    "    arkansas_ud_data['nsga2_nbcpm'], \n",
    "    arkansas_ud_data['nsga2_lfpc'],\n",
    "    arkansas_ud_data['nsga3_nbcpm'],\n",
    "    arkansas_ud_data['nsga3_lfpc'],\n",
    "    arkansas_ud_data['pos_nbcpm'],\n",
    "    arkansas_ud_data['pos_lfpc'],]\n",
    "\n",
    "# Perform the Friedman test\n",
    "statistic, p_value = friedmanchisquare(*data)\n",
    "\n",
    "print(f\"Friedman Test Statistic: {statistic}\")\n",
    "print(f\"p-value: {p_value}\")\n",
    "\n",
    "if p_value < 0.05:\n",
    "    print(\"There is a statistically significant difference among the algorithms.\")\n",
    "else:\n",
    "    print(\"No statistically significant difference found.\")"
   ]
  },
  {
   "cell_type": "code",
   "execution_count": 8,
   "id": "5441e326-5d11-4737-8e3d-29f3439d1cb1",
   "metadata": {},
   "outputs": [
    {
     "name": "stdout",
     "output_type": "stream",
     "text": [
      "     Multiple Comparison of Means - Tukey HSD, FWER=0.05     \n",
      "=============================================================\n",
      "   group1      group2   meandiff p-adj   lower  upper  reject\n",
      "-------------------------------------------------------------\n",
      " nsga2_lfpc nsga2_nbcpm  -0.0056 0.9997 -0.0602 0.0489  False\n",
      " nsga2_lfpc  nsga3_lfpc   0.0391 0.3137 -0.0154 0.0936  False\n",
      " nsga2_lfpc nsga3_nbcpm   0.0286 0.6617 -0.0259 0.0831  False\n",
      " nsga2_lfpc    pos_lfpc   0.0044 0.9999 -0.0501 0.0589  False\n",
      " nsga2_lfpc   pos_nbcpm   0.0017    1.0 -0.0528 0.0563  False\n",
      "nsga2_nbcpm  nsga3_lfpc   0.0447 0.1767 -0.0098 0.0992  False\n",
      "nsga2_nbcpm nsga3_nbcpm   0.0342 0.4664 -0.0203 0.0888  False\n",
      "nsga2_nbcpm    pos_lfpc   0.0101 0.9949 -0.0445 0.0646  False\n",
      "nsga2_nbcpm   pos_nbcpm   0.0074 0.9989 -0.0471 0.0619  False\n",
      " nsga3_lfpc nsga3_nbcpm  -0.0105 0.9939  -0.065  0.044  False\n",
      " nsga3_lfpc    pos_lfpc  -0.0346 0.4525 -0.0892 0.0199  False\n",
      " nsga3_lfpc   pos_nbcpm  -0.0373 0.3653 -0.0919 0.0172  False\n",
      "nsga3_nbcpm    pos_lfpc  -0.0242 0.8003 -0.0787 0.0304  False\n",
      "nsga3_nbcpm   pos_nbcpm  -0.0269  0.719 -0.0814 0.0277  False\n",
      "   pos_lfpc   pos_nbcpm  -0.0027    1.0 -0.0572 0.0518  False\n",
      "-------------------------------------------------------------\n"
     ]
    }
   ],
   "source": [
    "audd = arkansas_ud_data.melt(var_name='algorithm', value_name='score') # Reshaping data for Tukey's HSD\n",
    "\n",
    "arkansas_ud_data_tukey = pairwise_tukeyhsd(endog=audd['score'], groups=audd['algorithm'], alpha=0.05)\n",
    "print(arkansas_ud_data_tukey)"
   ]
  },
  {
   "cell_type": "markdown",
   "id": "ba19d7b9-2bda-4148-b966-86896a90f7bd",
   "metadata": {},
   "source": [
    "# RNI"
   ]
  },
  {
   "cell_type": "code",
   "execution_count": 9,
   "id": "84fc8b87-0d27-43d8-9d3c-b25d664a539d",
   "metadata": {},
   "outputs": [
    {
     "name": "stdout",
     "output_type": "stream",
     "text": [
      "Friedman Test Statistic: 151.85271770894224\n",
      "p-value: 5.384002923292971e-31\n",
      "There is a statistically significant difference among the algorithms.\n"
     ]
    }
   ],
   "source": [
    "data = [\n",
    "    arkansas_rni_data['nsga2_nbcpm'], \n",
    "    arkansas_rni_data['nsga2_lfpc'],\n",
    "    arkansas_rni_data['nsga3_nbcpm'],\n",
    "    arkansas_rni_data['nsga3_lfpc'],\n",
    "    arkansas_rni_data['pos_nbcpm'],\n",
    "    arkansas_rni_data['pos_lfpc'],]\n",
    "\n",
    "# Perform the Friedman test\n",
    "statistic, p_value = friedmanchisquare(*data)\n",
    "\n",
    "print(f\"Friedman Test Statistic: {statistic}\")\n",
    "print(f\"p-value: {p_value}\")\n",
    "\n",
    "if p_value < 0.05:\n",
    "    print(\"There is a statistically significant difference among the algorithms.\")\n",
    "else:\n",
    "    print(\"No statistically significant difference found.\")"
   ]
  },
  {
   "cell_type": "code",
   "execution_count": 10,
   "id": "008819a3-752d-4c69-adea-f3036c3a340d",
   "metadata": {},
   "outputs": [
    {
     "name": "stdout",
     "output_type": "stream",
     "text": [
      "     Multiple Comparison of Means - Tukey HSD, FWER=0.05      \n",
      "==============================================================\n",
      "   group1      group2   meandiff p-adj   lower   upper  reject\n",
      "--------------------------------------------------------------\n",
      " nsga2_lfpc nsga2_nbcpm   0.0515 0.2148 -0.0139   0.117  False\n",
      " nsga2_lfpc  nsga3_lfpc  -0.1641    0.0 -0.2296 -0.0987   True\n",
      " nsga2_lfpc nsga3_nbcpm  -0.1703    0.0 -0.2358 -0.1048   True\n",
      " nsga2_lfpc    pos_lfpc   0.0398 0.5047 -0.0257  0.1052  False\n",
      " nsga2_lfpc   pos_nbcpm   0.0787 0.0084  0.0133  0.1442   True\n",
      "nsga2_nbcpm  nsga3_lfpc  -0.2157    0.0 -0.2811 -0.1502   True\n",
      "nsga2_nbcpm nsga3_nbcpm  -0.2218    0.0 -0.2873 -0.1564   True\n",
      "nsga2_nbcpm    pos_lfpc  -0.0118 0.9955 -0.0772  0.0537  False\n",
      "nsga2_nbcpm   pos_nbcpm   0.0272 0.8407 -0.0383  0.0927  False\n",
      " nsga3_lfpc nsga3_nbcpm  -0.0062 0.9998 -0.0716  0.0593  False\n",
      " nsga3_lfpc    pos_lfpc   0.2039    0.0  0.1384  0.2694   True\n",
      " nsga3_lfpc   pos_nbcpm   0.2429    0.0  0.1774  0.3083   True\n",
      "nsga3_nbcpm    pos_lfpc   0.2101    0.0  0.1446  0.2755   True\n",
      "nsga3_nbcpm   pos_nbcpm    0.249    0.0  0.1836  0.3145   True\n",
      "   pos_lfpc   pos_nbcpm    0.039  0.528 -0.0265  0.1044  False\n",
      "--------------------------------------------------------------\n"
     ]
    }
   ],
   "source": [
    "arnid = arkansas_rni_data.melt(var_name='algorithm', value_name='score') # Reshaping data for Tukey's HSD\n",
    "\n",
    "arkansas_rni_data_tukey = pairwise_tukeyhsd(endog=arnid['score'], groups=arnid['algorithm'], alpha=0.05)\n",
    "print(arkansas_rni_data_tukey)"
   ]
  },
  {
   "cell_type": "markdown",
   "id": "ab27200c-1d65-4996-b2e7-b5606b4304c2",
   "metadata": {},
   "source": [
    "# Computation Time"
   ]
  },
  {
   "cell_type": "code",
   "execution_count": 11,
   "id": "71efd339-6af7-40fe-a14c-4cd358c19ce9",
   "metadata": {},
   "outputs": [
    {
     "name": "stdout",
     "output_type": "stream",
     "text": [
      "Friedman Test Statistic: 213.36009174311923\n",
      "p-value: 3.9266789981451055e-44\n",
      "There is a statistically significant difference among the algorithms.\n"
     ]
    }
   ],
   "source": [
    "data = [\n",
    "    arkansas_ct_data['nsga2_nbcpm'], \n",
    "    arkansas_ct_data['nsga2_lfpc'],\n",
    "    arkansas_ct_data['nsga3_nbcpm'],\n",
    "    arkansas_ct_data['nsga3_lfpc'],\n",
    "    arkansas_ct_data['pos_nbcpm'],\n",
    "    arkansas_ct_data['pos_lfpc'],]\n",
    "\n",
    "# Perform the Friedman test\n",
    "statistic, p_value = friedmanchisquare(*data)\n",
    "\n",
    "print(f\"Friedman Test Statistic: {statistic}\")\n",
    "print(f\"p-value: {p_value}\")\n",
    "\n",
    "if p_value < 0.05:\n",
    "    print(\"There is a statistically significant difference among the algorithms.\")\n",
    "else:\n",
    "    print(\"No statistically significant difference found.\")"
   ]
  },
  {
   "cell_type": "code",
   "execution_count": 12,
   "id": "3caad6ea-366b-4efe-a8b0-500171d77ff3",
   "metadata": {},
   "outputs": [
    {
     "name": "stdout",
     "output_type": "stream",
     "text": [
      "     Multiple Comparison of Means - Tukey HSD, FWER=0.05      \n",
      "==============================================================\n",
      "   group1      group2   meandiff p-adj   lower   upper  reject\n",
      "--------------------------------------------------------------\n",
      " nsga2_lfpc nsga2_nbcpm  -5.9276    0.0 -6.4962  -5.359   True\n",
      " nsga2_lfpc  nsga3_lfpc     0.35 0.4897 -0.2186  0.9186  False\n",
      " nsga2_lfpc nsga3_nbcpm  -5.8588    0.0 -6.4274 -5.2902   True\n",
      " nsga2_lfpc    pos_lfpc   0.5384 0.0751 -0.0302   1.107  False\n",
      " nsga2_lfpc   pos_nbcpm  -6.0934    0.0  -6.662 -5.5248   True\n",
      "nsga2_nbcpm  nsga3_lfpc   6.2776    0.0   5.709  6.8462   True\n",
      "nsga2_nbcpm nsga3_nbcpm   0.0688 0.9993 -0.4998  0.6374  False\n",
      "nsga2_nbcpm    pos_lfpc    6.466    0.0  5.8974  7.0346   True\n",
      "nsga2_nbcpm   pos_nbcpm  -0.1658 0.9605 -0.7344  0.4028  False\n",
      " nsga3_lfpc nsga3_nbcpm  -6.2088    0.0 -6.7774 -5.6402   True\n",
      " nsga3_lfpc    pos_lfpc   0.1884 0.9328 -0.3802   0.757  False\n",
      " nsga3_lfpc   pos_nbcpm  -6.4434    0.0  -7.012 -5.8748   True\n",
      "nsga3_nbcpm    pos_lfpc   6.3972    0.0  5.8286  6.9658   True\n",
      "nsga3_nbcpm   pos_nbcpm  -0.2346 0.8445 -0.8032   0.334  False\n",
      "   pos_lfpc   pos_nbcpm  -6.6318    0.0 -7.2004 -6.0632   True\n",
      "--------------------------------------------------------------\n"
     ]
    }
   ],
   "source": [
    "actd = arkansas_ct_data.melt(var_name='algorithm', value_name='score') # Reshaping data for Tukey's HSD\n",
    "\n",
    "arkansas_ct_data_tukey = pairwise_tukeyhsd(endog=actd['score'], groups=actd['algorithm'], alpha=0.05)\n",
    "print(arkansas_ct_data_tukey)"
   ]
  },
  {
   "cell_type": "markdown",
   "id": "546591d2-a225-40d9-b48f-701070d5a509",
   "metadata": {},
   "source": [
    "# Percentage of Unique Solutions (%)"
   ]
  },
  {
   "cell_type": "code",
   "execution_count": 13,
   "id": "7852bfc3-44fd-4709-90cc-e6d5a0461b83",
   "metadata": {},
   "outputs": [
    {
     "name": "stdout",
     "output_type": "stream",
     "text": [
      "Friedman Test Statistic: 235.28604118993124\n",
      "p-value: 7.870891973202551e-49\n",
      "There is a statistically significant difference among the algorithms.\n"
     ]
    }
   ],
   "source": [
    "data = [\n",
    "    arkansas_eval_data['nsga2_nbcpm'], \n",
    "    arkansas_eval_data['nsga2_lfpc'],\n",
    "    arkansas_eval_data['nsga3_nbcpm'],\n",
    "    arkansas_eval_data['nsga3_lfpc'],\n",
    "    arkansas_eval_data['pos_nbcpm'],\n",
    "    arkansas_eval_data['pos_lfpc'],]\n",
    "\n",
    "# Perform the Friedman test\n",
    "statistic, p_value = friedmanchisquare(*data)\n",
    "\n",
    "print(f\"Friedman Test Statistic: {statistic}\")\n",
    "print(f\"p-value: {p_value}\")\n",
    "\n",
    "if p_value < 0.05:\n",
    "    print(\"There is a statistically significant difference among the algorithms.\")\n",
    "else:\n",
    "    print(\"No statistically significant difference found.\")"
   ]
  },
  {
   "cell_type": "code",
   "execution_count": 14,
   "id": "453ab1cd-1f51-46f8-bbc7-a06f043611ed",
   "metadata": {},
   "outputs": [
    {
     "name": "stdout",
     "output_type": "stream",
     "text": [
      "      Multiple Comparison of Means - Tukey HSD, FWER=0.05       \n",
      "================================================================\n",
      "   group1      group2   meandiff p-adj   lower    upper   reject\n",
      "----------------------------------------------------------------\n",
      " nsga2_lfpc nsga2_nbcpm -28.1108    0.0 -31.8291 -24.3925   True\n",
      " nsga2_lfpc  nsga3_lfpc    4.606 0.0059   0.8877   8.3243   True\n",
      " nsga2_lfpc nsga3_nbcpm -21.0706    0.0 -24.7889 -17.3523   True\n",
      " nsga2_lfpc    pos_lfpc   1.4998 0.8567  -2.2185   5.2181  False\n",
      " nsga2_lfpc   pos_nbcpm -28.4768    0.0 -32.1951 -24.7585   True\n",
      "nsga2_nbcpm  nsga3_lfpc  32.7168    0.0  28.9985  36.4351   True\n",
      "nsga2_nbcpm nsga3_nbcpm   7.0402    0.0   3.3219  10.7585   True\n",
      "nsga2_nbcpm    pos_lfpc  29.6106    0.0  25.8923  33.3289   True\n",
      "nsga2_nbcpm   pos_nbcpm   -0.366 0.9998  -4.0843   3.3523  False\n",
      " nsga3_lfpc nsga3_nbcpm -25.6766    0.0 -29.3949 -21.9583   True\n",
      " nsga3_lfpc    pos_lfpc  -3.1062 0.1608  -6.8245   0.6121  False\n",
      " nsga3_lfpc   pos_nbcpm -33.0828    0.0 -36.8011 -29.3645   True\n",
      "nsga3_nbcpm    pos_lfpc  22.5704    0.0  18.8521  26.2887   True\n",
      "nsga3_nbcpm   pos_nbcpm  -7.4062    0.0 -11.1245  -3.6879   True\n",
      "   pos_lfpc   pos_nbcpm -29.9766    0.0 -33.6949 -26.2583   True\n",
      "----------------------------------------------------------------\n"
     ]
    }
   ],
   "source": [
    "aevald = arkansas_eval_data.melt(var_name='algorithm', value_name='score') # Reshaping data for Tukey's HSD\n",
    "\n",
    "arkansas_eval_data_tukey = pairwise_tukeyhsd(endog=aevald['score'], groups=aevald['algorithm'], alpha=0.05)\n",
    "print(arkansas_eval_data_tukey)"
   ]
  },
  {
   "cell_type": "code",
   "execution_count": null,
   "id": "83995601-c8d3-4320-8c9b-ee7c187d6d0e",
   "metadata": {},
   "outputs": [],
   "source": []
  },
  {
   "cell_type": "code",
   "execution_count": null,
   "id": "4fb97d5e-cd39-47be-9408-097d24445721",
   "metadata": {},
   "outputs": [],
   "source": []
  },
  {
   "cell_type": "code",
   "execution_count": null,
   "id": "6b3e3af9-162d-4250-9782-c2105d38dede",
   "metadata": {},
   "outputs": [],
   "source": []
  },
  {
   "cell_type": "code",
   "execution_count": null,
   "id": "5124f820-2ac3-4678-a915-47b2ab476f8f",
   "metadata": {},
   "outputs": [],
   "source": []
  },
  {
   "cell_type": "code",
   "execution_count": null,
   "id": "640eb8df-323e-42c1-ba1d-abfd98da1cff",
   "metadata": {},
   "outputs": [],
   "source": []
  },
  {
   "cell_type": "code",
   "execution_count": null,
   "id": "be9a218e-d09e-4a6f-849f-8e2483b4b6f3",
   "metadata": {},
   "outputs": [],
   "source": []
  },
  {
   "cell_type": "code",
   "execution_count": null,
   "id": "4b001491-0785-43fe-81e2-d2ad5b32a6c6",
   "metadata": {},
   "outputs": [],
   "source": []
  },
  {
   "cell_type": "code",
   "execution_count": null,
   "id": "925f1641-4a72-41f9-b72d-6548ff5b2397",
   "metadata": {},
   "outputs": [],
   "source": []
  },
  {
   "cell_type": "code",
   "execution_count": null,
   "id": "d6f4cdbb-8c47-49e8-8ff9-6917e29b71b9",
   "metadata": {},
   "outputs": [],
   "source": []
  },
  {
   "cell_type": "code",
   "execution_count": null,
   "id": "86a18623-590c-4d01-9391-15744b6eee7b",
   "metadata": {},
   "outputs": [],
   "source": []
  },
  {
   "cell_type": "code",
   "execution_count": null,
   "id": "96614ca4-b180-4cfb-b293-20cb8ee1c506",
   "metadata": {},
   "outputs": [],
   "source": []
  },
  {
   "cell_type": "code",
   "execution_count": null,
   "id": "629faf20-2339-495c-833e-3a4d59cc4cce",
   "metadata": {},
   "outputs": [],
   "source": []
  },
  {
   "cell_type": "code",
   "execution_count": null,
   "id": "555e2dd7-fd72-43b4-8abf-53ce4a265f2c",
   "metadata": {},
   "outputs": [],
   "source": []
  }
 ],
 "metadata": {
  "kernelspec": {
   "display_name": "Python 3 (ipykernel)",
   "language": "python",
   "name": "python3"
  },
  "language_info": {
   "codemirror_mode": {
    "name": "ipython",
    "version": 3
   },
   "file_extension": ".py",
   "mimetype": "text/x-python",
   "name": "python",
   "nbconvert_exporter": "python",
   "pygments_lexer": "ipython3",
   "version": "3.9.6"
  }
 },
 "nbformat": 4,
 "nbformat_minor": 5
}
