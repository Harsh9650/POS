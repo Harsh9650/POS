{
 "cells": [
  {
   "cell_type": "code",
   "execution_count": 1,
   "id": "e6c187cf-7f1d-43b4-adfd-536ebec7f1c3",
   "metadata": {},
   "outputs": [],
   "source": [
    "import pandas as pd\n",
    "from scipy.stats import friedmanchisquare\n",
    "from statsmodels.stats.multicomp import pairwise_tukeyhsd"
   ]
  },
  {
   "cell_type": "markdown",
   "id": "8a284146-483e-4633-9d4e-805bf435feb8",
   "metadata": {},
   "source": [
    "# Result Datasets"
   ]
  },
  {
   "cell_type": "code",
   "execution_count": 2,
   "id": "5b7fd8b1-ded4-43df-ae51-497a1e8eab9a",
   "metadata": {},
   "outputs": [],
   "source": [
    "texas_gap_data = pd.read_excel('texas_gap_percent.xlsx')\n",
    "texas_hv_data = pd.read_excel('texas_hypervolume.xlsx')\n",
    "texas_ud_data = pd.read_excel('texas_uniform_distribution.xlsx')\n",
    "texas_rni_data = pd.read_excel('texas_ratio_non_dominated.xlsx')\n",
    "texas_ct_data = pd.read_excel('texas_computation_time.xlsx')\n",
    "texas_eval_data = pd.read_excel('texas_unique_evaluations.xlsx')"
   ]
  },
  {
   "cell_type": "markdown",
   "id": "20011d47-e423-42c4-82d9-c15a103fda3e",
   "metadata": {},
   "source": [
    "# GAP (%)"
   ]
  },
  {
   "cell_type": "code",
   "execution_count": 3,
   "id": "b57ab594-7c34-4981-a72b-ce641ac8fc74",
   "metadata": {},
   "outputs": [
    {
     "name": "stdout",
     "output_type": "stream",
     "text": [
      "Friedman Test Statistic: 51.44103489771353\n",
      "p-value: 7.023889297517898e-10\n",
      "There is a statistically significant difference among the algorithms.\n"
     ]
    }
   ],
   "source": [
    "data = [\n",
    "    texas_gap_data['nsga2_nbcpm'], \n",
    "    texas_gap_data['nsga2_lfpc'],\n",
    "    texas_gap_data['nsga3_nbcpm'],\n",
    "    texas_gap_data['nsga3_lfpc'],\n",
    "    texas_gap_data['pos_nbcpm'],\n",
    "    texas_gap_data['pos_lfpc'],]\n",
    "\n",
    "# Perform the Friedman test\n",
    "statistic, p_value = friedmanchisquare(*data)\n",
    "\n",
    "print(f\"Friedman Test Statistic: {statistic}\")\n",
    "print(f\"p-value: {p_value}\")\n",
    "\n",
    "if p_value < 0.05:\n",
    "    print(\"There is a statistically significant difference among the algorithms.\")\n",
    "else:\n",
    "    print(\"No statistically significant difference found.\")"
   ]
  },
  {
   "cell_type": "code",
   "execution_count": 4,
   "id": "55dcde37-270a-49ae-ad41-8a971d8b9397",
   "metadata": {},
   "outputs": [
    {
     "name": "stdout",
     "output_type": "stream",
     "text": [
      "      Multiple Comparison of Means - Tukey HSD, FWER=0.05      \n",
      "===============================================================\n",
      "   group1      group2   meandiff p-adj   lower    upper  reject\n",
      "---------------------------------------------------------------\n",
      " nsga2_lfpc nsga2_nbcpm   2.7748 0.9462  -6.0674  11.617  False\n",
      " nsga2_lfpc  nsga3_lfpc   5.3304 0.5135  -3.5118 14.1726  False\n",
      " nsga2_lfpc nsga3_nbcpm   8.0558 0.0972  -0.7864  16.898  False\n",
      " nsga2_lfpc    pos_lfpc  -0.8514 0.9998  -9.6936  7.9908  False\n",
      " nsga2_lfpc   pos_nbcpm   4.1472 0.7593   -4.695 12.9894  False\n",
      "nsga2_nbcpm  nsga3_lfpc   2.5556 0.9619  -6.2866 11.3978  False\n",
      "nsga2_nbcpm nsga3_nbcpm    5.281 0.5241  -3.5612 14.1232  False\n",
      "nsga2_nbcpm    pos_lfpc  -3.6262 0.8478 -12.4684   5.216  False\n",
      "nsga2_nbcpm   pos_nbcpm   1.3724 0.9978  -7.4698 10.2146  False\n",
      " nsga3_lfpc nsga3_nbcpm   2.7254 0.9501  -6.1168 11.5676  False\n",
      " nsga3_lfpc    pos_lfpc  -6.1818 0.3416  -15.024  2.6604  False\n",
      " nsga3_lfpc   pos_nbcpm  -1.1832 0.9989 -10.0254   7.659  False\n",
      "nsga3_nbcpm    pos_lfpc  -8.9072 0.0472 -17.7494  -0.065   True\n",
      "nsga3_nbcpm   pos_nbcpm  -3.9086 0.8022 -12.7508  4.9336  False\n",
      "   pos_lfpc   pos_nbcpm   4.9986 0.5849  -3.8436 13.8408  False\n",
      "---------------------------------------------------------------\n"
     ]
    }
   ],
   "source": [
    "tgd = texas_gap_data.melt(var_name='algorithm', value_name='score') # Reshaping data for Tukey's HSD\n",
    "\n",
    "texas_gap_data_tukey = pairwise_tukeyhsd(endog=tgd['score'], groups=tgd['algorithm'], alpha=0.05)\n",
    "print(texas_gap_data_tukey)"
   ]
  },
  {
   "cell_type": "markdown",
   "id": "6f907851-5100-4a90-b1c5-963c874b8fd9",
   "metadata": {},
   "source": [
    "# HyperVolume"
   ]
  },
  {
   "cell_type": "code",
   "execution_count": 5,
   "id": "221f6056-fbda-4d98-9543-e364513aeb2e",
   "metadata": {},
   "outputs": [
    {
     "name": "stdout",
     "output_type": "stream",
     "text": [
      "Friedman Test Statistic: 141.85142857142864\n",
      "p-value: 7.228947544564415e-29\n",
      "There is a statistically significant difference among the algorithms.\n"
     ]
    }
   ],
   "source": [
    "data = [\n",
    "    texas_hv_data['nsga2_nbcpm'], \n",
    "    texas_hv_data['nsga2_lfpc'],\n",
    "    texas_hv_data['nsga3_nbcpm'],\n",
    "    texas_hv_data['nsga3_lfpc'],\n",
    "    texas_hv_data['pos_nbcpm'],\n",
    "    texas_hv_data['pos_lfpc'],]\n",
    "\n",
    "# Perform the Friedman test\n",
    "statistic, p_value = friedmanchisquare(*data)\n",
    "\n",
    "print(f\"Friedman Test Statistic: {statistic}\")\n",
    "print(f\"p-value: {p_value}\")\n",
    "\n",
    "if p_value < 0.05:\n",
    "    print(\"There is a statistically significant difference among the algorithms.\")\n",
    "else:\n",
    "    print(\"No statistically significant difference found.\")"
   ]
  },
  {
   "cell_type": "code",
   "execution_count": 6,
   "id": "0062d3f0-e101-4b98-add2-456e550898f2",
   "metadata": {},
   "outputs": [
    {
     "name": "stdout",
     "output_type": "stream",
     "text": [
      "     Multiple Comparison of Means - Tukey HSD, FWER=0.05      \n",
      "==============================================================\n",
      "   group1      group2   meandiff p-adj   lower   upper  reject\n",
      "--------------------------------------------------------------\n",
      " nsga2_lfpc nsga2_nbcpm    -0.06 0.1054 -0.1268  0.0067  False\n",
      " nsga2_lfpc  nsga3_lfpc    -0.19    0.0 -0.2568 -0.1233   True\n",
      " nsga2_lfpc nsga3_nbcpm  -0.2133    0.0   -0.28 -0.1465   True\n",
      " nsga2_lfpc    pos_lfpc   0.0458 0.3631  -0.021  0.1126  False\n",
      " nsga2_lfpc   pos_nbcpm  -0.0757  0.016 -0.1424 -0.0089   True\n",
      "nsga2_nbcpm  nsga3_lfpc    -0.13    0.0 -0.1968 -0.0633   True\n",
      "nsga2_nbcpm nsga3_nbcpm  -0.1532    0.0   -0.22 -0.0865   True\n",
      "nsga2_nbcpm    pos_lfpc   0.1058 0.0001  0.0391  0.1726   True\n",
      "nsga2_nbcpm   pos_nbcpm  -0.0156 0.9849 -0.0824  0.0511  False\n",
      " nsga3_lfpc nsga3_nbcpm  -0.0232 0.9182   -0.09  0.0435  False\n",
      " nsga3_lfpc    pos_lfpc   0.2358    0.0  0.1691  0.3026   True\n",
      " nsga3_lfpc   pos_nbcpm   0.1144    0.0  0.0476  0.1811   True\n",
      "nsga3_nbcpm    pos_lfpc   0.2591    0.0  0.1923  0.3258   True\n",
      "nsga3_nbcpm   pos_nbcpm   0.1376    0.0  0.0708  0.2043   True\n",
      "   pos_lfpc   pos_nbcpm  -0.1215    0.0 -0.1882 -0.0547   True\n",
      "--------------------------------------------------------------\n"
     ]
    }
   ],
   "source": [
    "thvd = texas_hv_data.melt(var_name='algorithm', value_name='score') # Reshaping data for Tukey's HSD\n",
    "\n",
    "texas_hv_data_tukey = pairwise_tukeyhsd(endog=thvd['score'], groups=thvd['algorithm'], alpha=0.05)\n",
    "print(texas_hv_data_tukey)"
   ]
  },
  {
   "cell_type": "markdown",
   "id": "5be60119-05e4-4b99-a7ee-df40395ac7c0",
   "metadata": {},
   "source": [
    "# Uniform Distribution"
   ]
  },
  {
   "cell_type": "code",
   "execution_count": 7,
   "id": "f99ac965-3a30-4c8b-b2cb-1afb244634a6",
   "metadata": {},
   "outputs": [
    {
     "name": "stdout",
     "output_type": "stream",
     "text": [
      "Friedman Test Statistic: 41.702857142857056\n",
      "p-value: 6.764867485444019e-08\n",
      "There is a statistically significant difference among the algorithms.\n"
     ]
    }
   ],
   "source": [
    "data = [\n",
    "    texas_ud_data['nsga2_nbcpm'], \n",
    "    texas_ud_data['nsga2_lfpc'],\n",
    "    texas_ud_data['nsga3_nbcpm'],\n",
    "    texas_ud_data['nsga3_lfpc'],\n",
    "    texas_ud_data['pos_nbcpm'],\n",
    "    texas_ud_data['pos_lfpc'],]\n",
    "\n",
    "# Perform the Friedman test\n",
    "statistic, p_value = friedmanchisquare(*data)\n",
    "\n",
    "print(f\"Friedman Test Statistic: {statistic}\")\n",
    "print(f\"p-value: {p_value}\")\n",
    "\n",
    "if p_value < 0.05:\n",
    "    print(\"There is a statistically significant difference among the algorithms.\")\n",
    "else:\n",
    "    print(\"No statistically significant difference found.\")"
   ]
  },
  {
   "cell_type": "code",
   "execution_count": 8,
   "id": "24baef85-40f0-4d32-997e-533d0efe0457",
   "metadata": {},
   "outputs": [
    {
     "name": "stdout",
     "output_type": "stream",
     "text": [
      "     Multiple Comparison of Means - Tukey HSD, FWER=0.05      \n",
      "==============================================================\n",
      "   group1      group2   meandiff p-adj   lower   upper  reject\n",
      "--------------------------------------------------------------\n",
      " nsga2_lfpc nsga2_nbcpm  -0.0249 0.2422 -0.0575  0.0076  False\n",
      " nsga2_lfpc  nsga3_lfpc   0.0262 0.1947 -0.0064  0.0587  False\n",
      " nsga2_lfpc nsga3_nbcpm     -0.0    1.0 -0.0326  0.0325  False\n",
      " nsga2_lfpc    pos_lfpc  -0.0016    1.0 -0.0342  0.0309  False\n",
      " nsga2_lfpc   pos_nbcpm  -0.0161 0.7165 -0.0486  0.0165  False\n",
      "nsga2_nbcpm  nsga3_lfpc   0.0511 0.0001  0.0186  0.0836   True\n",
      "nsga2_nbcpm nsga3_nbcpm   0.0249 0.2438 -0.0077  0.0574  False\n",
      "nsga2_nbcpm    pos_lfpc   0.0233 0.3146 -0.0092  0.0559  False\n",
      "nsga2_nbcpm   pos_nbcpm   0.0088 0.9708 -0.0237  0.0414  False\n",
      " nsga3_lfpc nsga3_nbcpm  -0.0262 0.1933 -0.0588  0.0063  False\n",
      " nsga3_lfpc    pos_lfpc  -0.0278  0.143 -0.0603  0.0048  False\n",
      " nsga3_lfpc   pos_nbcpm  -0.0423 0.0032 -0.0748 -0.0097   True\n",
      "nsga3_nbcpm    pos_lfpc  -0.0016    1.0 -0.0341   0.031  False\n",
      "nsga3_nbcpm   pos_nbcpm   -0.016 0.7187 -0.0486  0.0165  False\n",
      "   pos_lfpc   pos_nbcpm  -0.0145 0.7989  -0.047  0.0181  False\n",
      "--------------------------------------------------------------\n"
     ]
    }
   ],
   "source": [
    "tudd = texas_ud_data.melt(var_name='algorithm', value_name='score') # Reshaping data for Tukey's HSD\n",
    "\n",
    "texas_ud_data_tukey = pairwise_tukeyhsd(endog=tudd['score'], groups=tudd['algorithm'], alpha=0.05)\n",
    "print(texas_ud_data_tukey)"
   ]
  },
  {
   "cell_type": "markdown",
   "id": "7beb51cf-4850-4e1d-8b4f-355dedd1235a",
   "metadata": {},
   "source": [
    "# RNI"
   ]
  },
  {
   "cell_type": "code",
   "execution_count": 9,
   "id": "3df28436-dffd-4dd3-b33f-36ff3249db62",
   "metadata": {},
   "outputs": [
    {
     "name": "stdout",
     "output_type": "stream",
     "text": [
      "Friedman Test Statistic: 143.5927442949094\n",
      "p-value: 3.081702810604489e-29\n",
      "There is a statistically significant difference among the algorithms.\n"
     ]
    }
   ],
   "source": [
    "data = [\n",
    "    texas_rni_data['nsga2_nbcpm'], \n",
    "    texas_rni_data['nsga2_lfpc'],\n",
    "    texas_rni_data['nsga3_nbcpm'],\n",
    "    texas_rni_data['nsga3_lfpc'],\n",
    "    texas_rni_data['pos_nbcpm'],\n",
    "    texas_rni_data['pos_lfpc'],]\n",
    "\n",
    "# Perform the Friedman test\n",
    "statistic, p_value = friedmanchisquare(*data)\n",
    "\n",
    "print(f\"Friedman Test Statistic: {statistic}\")\n",
    "print(f\"p-value: {p_value}\")\n",
    "\n",
    "if p_value < 0.05:\n",
    "    print(\"There is a statistically significant difference among the algorithms.\")\n",
    "else:\n",
    "    print(\"No statistically significant difference found.\")"
   ]
  },
  {
   "cell_type": "code",
   "execution_count": 10,
   "id": "2942cdd9-da6f-4b54-9432-181f5ec065e9",
   "metadata": {},
   "outputs": [
    {
     "name": "stdout",
     "output_type": "stream",
     "text": [
      "     Multiple Comparison of Means - Tukey HSD, FWER=0.05      \n",
      "==============================================================\n",
      "   group1      group2   meandiff p-adj   lower   upper  reject\n",
      "--------------------------------------------------------------\n",
      " nsga2_lfpc nsga2_nbcpm   0.0131 0.9935 -0.0543  0.0806  False\n",
      " nsga2_lfpc  nsga3_lfpc  -0.2054    0.0 -0.2729  -0.138   True\n",
      " nsga2_lfpc nsga3_nbcpm  -0.2186    0.0  -0.286 -0.1511   True\n",
      " nsga2_lfpc    pos_lfpc   0.0111  0.997 -0.0563  0.0785  False\n",
      " nsga2_lfpc   pos_nbcpm  -0.0166  0.981 -0.0841  0.0508  False\n",
      "nsga2_nbcpm  nsga3_lfpc  -0.2186    0.0  -0.286 -0.1511   True\n",
      "nsga2_nbcpm nsga3_nbcpm  -0.2317    0.0 -0.2991 -0.1643   True\n",
      "nsga2_nbcpm    pos_lfpc   -0.002    1.0 -0.0695  0.0654  False\n",
      "nsga2_nbcpm   pos_nbcpm  -0.0298 0.8031 -0.0972  0.0377  False\n",
      " nsga3_lfpc nsga3_nbcpm  -0.0131 0.9935 -0.0806  0.0543  False\n",
      " nsga3_lfpc    pos_lfpc   0.2165    0.0  0.1491   0.284   True\n",
      " nsga3_lfpc   pos_nbcpm   0.1888    0.0  0.1214  0.2562   True\n",
      "nsga3_nbcpm    pos_lfpc   0.2297    0.0  0.1622  0.2971   True\n",
      "nsga3_nbcpm   pos_nbcpm   0.2019    0.0  0.1345  0.2694   True\n",
      "   pos_lfpc   pos_nbcpm  -0.0277 0.8462 -0.0952  0.0397  False\n",
      "--------------------------------------------------------------\n"
     ]
    }
   ],
   "source": [
    "trnid = texas_rni_data.melt(var_name='algorithm', value_name='score') # Reshaping data for Tukey's HSD\n",
    "\n",
    "texas_rni_data_tukey = pairwise_tukeyhsd(endog=trnid['score'], groups=trnid['algorithm'], alpha=0.05)\n",
    "print(texas_rni_data_tukey)"
   ]
  },
  {
   "cell_type": "markdown",
   "id": "8b47f7cf-18f6-498a-9525-251ab124a27d",
   "metadata": {},
   "source": [
    "# Computation Time"
   ]
  },
  {
   "cell_type": "code",
   "execution_count": 11,
   "id": "1a3545e6-1135-4efb-8baa-6ef49decd2d4",
   "metadata": {},
   "outputs": [
    {
     "name": "stdout",
     "output_type": "stream",
     "text": [
      "Friedman Test Statistic: 211.53142857142848\n",
      "p-value: 9.672966184192463e-44\n",
      "There is a statistically significant difference among the algorithms.\n"
     ]
    }
   ],
   "source": [
    "data = [\n",
    "    texas_ct_data['nsga2_nbcpm'], \n",
    "    texas_ct_data['nsga2_lfpc'],\n",
    "    texas_ct_data['nsga3_nbcpm'],\n",
    "    texas_ct_data['nsga3_lfpc'],\n",
    "    texas_ct_data['pos_nbcpm'],\n",
    "    texas_ct_data['pos_lfpc'],]\n",
    "\n",
    "# Perform the Friedman test\n",
    "statistic, p_value = friedmanchisquare(*data)\n",
    "\n",
    "print(f\"Friedman Test Statistic: {statistic}\")\n",
    "print(f\"p-value: {p_value}\")\n",
    "\n",
    "if p_value < 0.05:\n",
    "    print(\"There is a statistically significant difference among the algorithms.\")\n",
    "else:\n",
    "    print(\"No statistically significant difference found.\")"
   ]
  },
  {
   "cell_type": "code",
   "execution_count": 12,
   "id": "409b9163-7b96-4b79-aa5c-d6ba508c6ffb",
   "metadata": {},
   "outputs": [
    {
     "name": "stdout",
     "output_type": "stream",
     "text": [
      "      Multiple Comparison of Means - Tukey HSD, FWER=0.05       \n",
      "================================================================\n",
      "   group1      group2   meandiff p-adj   lower    upper   reject\n",
      "----------------------------------------------------------------\n",
      " nsga2_lfpc nsga2_nbcpm -22.1062    0.0 -24.8908 -19.3216   True\n",
      " nsga2_lfpc  nsga3_lfpc   0.8526 0.9515   -1.932   3.6372  False\n",
      " nsga2_lfpc nsga3_nbcpm -21.7344    0.0  -24.519 -18.9498   True\n",
      " nsga2_lfpc    pos_lfpc   1.7154 0.4887  -1.0692      4.5  False\n",
      " nsga2_lfpc   pos_nbcpm -22.5812    0.0 -25.3658 -19.7966   True\n",
      "nsga2_nbcpm  nsga3_lfpc  22.9588    0.0  20.1742  25.7434   True\n",
      "nsga2_nbcpm nsga3_nbcpm   0.3718 0.9989  -2.4128   3.1564  False\n",
      "nsga2_nbcpm    pos_lfpc  23.8216    0.0   21.037  26.6062   True\n",
      "nsga2_nbcpm   pos_nbcpm   -0.475 0.9965  -3.2596   2.3096  False\n",
      " nsga3_lfpc nsga3_nbcpm  -22.587    0.0 -25.3716 -19.8024   True\n",
      " nsga3_lfpc    pos_lfpc   0.8628  0.949  -1.9218   3.6474  False\n",
      " nsga3_lfpc   pos_nbcpm -23.4338    0.0 -26.2184 -20.6492   True\n",
      "nsga3_nbcpm    pos_lfpc  23.4498    0.0  20.6652  26.2344   True\n",
      "nsga3_nbcpm   pos_nbcpm  -0.8468 0.9528  -3.6314   1.9378  False\n",
      "   pos_lfpc   pos_nbcpm -24.2966    0.0 -27.0812  -21.512   True\n",
      "----------------------------------------------------------------\n"
     ]
    }
   ],
   "source": [
    "tctd = texas_ct_data.melt(var_name='algorithm', value_name='score') # Reshaping data for Tukey's HSD\n",
    "\n",
    "texas_ct_data_tukey = pairwise_tukeyhsd(endog=tctd['score'], groups=tctd['algorithm'], alpha=0.05)\n",
    "print(texas_ct_data_tukey)"
   ]
  },
  {
   "cell_type": "markdown",
   "id": "6a7ff440-a0a6-4a5d-862b-b91515d1d829",
   "metadata": {},
   "source": [
    "# Percentage of Unique Solutions (%)"
   ]
  },
  {
   "cell_type": "code",
   "execution_count": 13,
   "id": "02d18d80-1fa5-4ea4-a159-f1743342cf9d",
   "metadata": {},
   "outputs": [
    {
     "name": "stdout",
     "output_type": "stream",
     "text": [
      "Friedman Test Statistic: 236.8914285714286\n",
      "p-value: 3.562959797958596e-49\n",
      "There is a statistically significant difference among the algorithms.\n"
     ]
    }
   ],
   "source": [
    "data = [\n",
    "    texas_eval_data['nsga2_nbcpm'], \n",
    "    texas_eval_data['nsga2_lfpc'],\n",
    "    texas_eval_data['nsga3_nbcpm'],\n",
    "    texas_eval_data['nsga3_lfpc'],\n",
    "    texas_eval_data['pos_nbcpm'],\n",
    "    texas_eval_data['pos_lfpc'],]\n",
    "\n",
    "# Perform the Friedman test\n",
    "statistic, p_value = friedmanchisquare(*data)\n",
    "\n",
    "print(f\"Friedman Test Statistic: {statistic}\")\n",
    "print(f\"p-value: {p_value}\")\n",
    "\n",
    "if p_value < 0.05:\n",
    "    print(\"There is a statistically significant difference among the algorithms.\")\n",
    "else:\n",
    "    print(\"No statistically significant difference found.\")"
   ]
  },
  {
   "cell_type": "code",
   "execution_count": 14,
   "id": "9bb445ea-b167-4db0-8dff-a75cf7523438",
   "metadata": {},
   "outputs": [
    {
     "name": "stdout",
     "output_type": "stream",
     "text": [
      "      Multiple Comparison of Means - Tukey HSD, FWER=0.05       \n",
      "================================================================\n",
      "   group1      group2   meandiff p-adj   lower    upper   reject\n",
      "----------------------------------------------------------------\n",
      " nsga2_lfpc nsga2_nbcpm -24.4112    0.0 -28.1874  -20.635   True\n",
      " nsga2_lfpc  nsga3_lfpc   4.4732   0.01    0.697   8.2494   True\n",
      " nsga2_lfpc nsga3_nbcpm -15.1438    0.0   -18.92 -11.3676   True\n",
      " nsga2_lfpc    pos_lfpc   1.0266 0.9708  -2.7496   4.8028  False\n",
      " nsga2_lfpc   pos_nbcpm -23.7358    0.0  -27.512 -19.9596   True\n",
      "nsga2_nbcpm  nsga3_lfpc  28.8844    0.0  25.1082  32.6606   True\n",
      "nsga2_nbcpm nsga3_nbcpm   9.2674    0.0   5.4912  13.0436   True\n",
      "nsga2_nbcpm    pos_lfpc  25.4378    0.0  21.6616   29.214   True\n",
      "nsga2_nbcpm   pos_nbcpm   0.6754 0.9956  -3.1008   4.4516  False\n",
      " nsga3_lfpc nsga3_nbcpm  -19.617    0.0 -23.3932 -15.8408   True\n",
      " nsga3_lfpc    pos_lfpc  -3.4466 0.0961  -7.2228   0.3296  False\n",
      " nsga3_lfpc   pos_nbcpm  -28.209    0.0 -31.9852 -24.4328   True\n",
      "nsga3_nbcpm    pos_lfpc  16.1704    0.0  12.3942  19.9466   True\n",
      "nsga3_nbcpm   pos_nbcpm   -8.592    0.0 -12.3682  -4.8158   True\n",
      "   pos_lfpc   pos_nbcpm -24.7624    0.0 -28.5386 -20.9862   True\n",
      "----------------------------------------------------------------\n"
     ]
    }
   ],
   "source": [
    "tevald = texas_eval_data.melt(var_name='algorithm', value_name='score') # Reshaping data for Tukey's HSD\n",
    "\n",
    "texas_eval_data_tukey = pairwise_tukeyhsd(endog=tevald['score'], groups=tevald['algorithm'], alpha=0.05)\n",
    "print(texas_eval_data_tukey)"
   ]
  },
  {
   "cell_type": "code",
   "execution_count": null,
   "id": "85bb2026-a45b-4597-a9be-494f4934e0de",
   "metadata": {},
   "outputs": [],
   "source": []
  },
  {
   "cell_type": "code",
   "execution_count": null,
   "id": "0b468c5e-1f0c-4d58-8d33-8c6b8a24bc06",
   "metadata": {},
   "outputs": [],
   "source": []
  },
  {
   "cell_type": "code",
   "execution_count": null,
   "id": "ceef8b60-dec5-4ab6-b3fb-9017719eb97a",
   "metadata": {},
   "outputs": [],
   "source": []
  },
  {
   "cell_type": "code",
   "execution_count": null,
   "id": "6d27b967-eb44-4aae-a839-8743e8b2a941",
   "metadata": {},
   "outputs": [],
   "source": []
  },
  {
   "cell_type": "code",
   "execution_count": null,
   "id": "8840d940-9f46-4569-8d29-ab51fe5443fe",
   "metadata": {},
   "outputs": [],
   "source": []
  },
  {
   "cell_type": "code",
   "execution_count": null,
   "id": "925aec75-3436-43c7-89c1-8d1c5fb644ec",
   "metadata": {},
   "outputs": [],
   "source": []
  },
  {
   "cell_type": "code",
   "execution_count": null,
   "id": "4d778cf0-95c8-4d7b-8834-346a3634086b",
   "metadata": {},
   "outputs": [],
   "source": []
  },
  {
   "cell_type": "code",
   "execution_count": null,
   "id": "8deea6e6-9202-4baf-9d79-cbe5f98f7ce2",
   "metadata": {},
   "outputs": [],
   "source": []
  },
  {
   "cell_type": "code",
   "execution_count": null,
   "id": "49e1067f-5407-46ff-ae5f-5045714b46ab",
   "metadata": {},
   "outputs": [],
   "source": []
  },
  {
   "cell_type": "code",
   "execution_count": null,
   "id": "18bdb824-565f-49f2-8c5a-c7efe92aaf4e",
   "metadata": {},
   "outputs": [],
   "source": []
  },
  {
   "cell_type": "code",
   "execution_count": null,
   "id": "cf2b76a8-f092-4f6d-8923-f3959a5d0090",
   "metadata": {},
   "outputs": [],
   "source": []
  }
 ],
 "metadata": {
  "kernelspec": {
   "display_name": "Python 3 (ipykernel)",
   "language": "python",
   "name": "python3"
  },
  "language_info": {
   "codemirror_mode": {
    "name": "ipython",
    "version": 3
   },
   "file_extension": ".py",
   "mimetype": "text/x-python",
   "name": "python",
   "nbconvert_exporter": "python",
   "pygments_lexer": "ipython3",
   "version": "3.9.6"
  }
 },
 "nbformat": 4,
 "nbformat_minor": 5
}
