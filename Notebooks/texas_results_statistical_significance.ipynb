{
 "cells": [
  {
   "cell_type": "code",
   "execution_count": 1,
   "id": "e6c187cf-7f1d-43b4-adfd-536ebec7f1c3",
   "metadata": {},
   "outputs": [],
   "source": [
    "import pandas as pd\n",
    "from scipy.stats import friedmanchisquare\n",
    "import scikit_posthocs as sp"
   ]
  },
  {
   "cell_type": "markdown",
   "id": "8a284146-483e-4633-9d4e-805bf435feb8",
   "metadata": {},
   "source": [
    "# Result Datasets"
   ]
  },
  {
   "cell_type": "code",
   "execution_count": 2,
   "id": "5b7fd8b1-ded4-43df-ae51-497a1e8eab9a",
   "metadata": {},
   "outputs": [],
   "source": [
    "texas_gap_data = pd.read_excel('texas_gap_percent.xlsx')\n",
    "texas_hv_data = pd.read_excel('texas_hypervolume.xlsx')\n",
    "texas_ud_data = pd.read_excel('texas_uniform_distribution.xlsx')\n",
    "texas_rni_data = pd.read_excel('texas_ratio_non_dominated.xlsx')\n",
    "texas_ct_data = pd.read_excel('texas_computation_time.xlsx')\n",
    "texas_eval_data = pd.read_excel('texas_unique_evaluations.xlsx')"
   ]
  },
  {
   "cell_type": "markdown",
   "id": "20011d47-e423-42c4-82d9-c15a103fda3e",
   "metadata": {},
   "source": [
    "# GAP (%)"
   ]
  },
  {
   "cell_type": "code",
   "execution_count": 3,
   "id": "b57ab594-7c34-4981-a72b-ce641ac8fc74",
   "metadata": {},
   "outputs": [
    {
     "name": "stdout",
     "output_type": "stream",
     "text": [
      "Friedman Test Statistic: 51.44103489771353\n",
      "p-value: 7.023889297517898e-10\n",
      "There is a statistically significant difference among the algorithms.\n"
     ]
    }
   ],
   "source": [
    "data = [\n",
    "    texas_gap_data['nsga2_nbcpm'], \n",
    "    texas_gap_data['nsga2_lfpc'],\n",
    "    texas_gap_data['nsga3_nbcpm'],\n",
    "    texas_gap_data['nsga3_lfpc'],\n",
    "    texas_gap_data['pos_nbcpm'],\n",
    "    texas_gap_data['pos_lfpc'],]\n",
    "\n",
    "# Perform the Friedman test\n",
    "statistic, p_value = friedmanchisquare(*data)\n",
    "\n",
    "print(f\"Friedman Test Statistic: {statistic}\")\n",
    "print(f\"p-value: {p_value}\")\n",
    "\n",
    "if p_value < 0.05:\n",
    "    print(\"There is a statistically significant difference among the algorithms.\")\n",
    "else:\n",
    "    print(\"No statistically significant difference found.\")"
   ]
  },
  {
   "cell_type": "code",
   "execution_count": 4,
   "id": "55dcde37-270a-49ae-ad41-8a971d8b9397",
   "metadata": {},
   "outputs": [
    {
     "name": "stdout",
     "output_type": "stream",
     "text": [
      "             nsga2_nbcpm  nsga2_lfpc  nsga3_nbcpm  nsga3_lfpc  pos_nbcpm  \\\n",
      "nsga2_nbcpm     1.000000    0.551934     0.014167    0.551934   0.900000   \n",
      "nsga2_lfpc      0.551934    1.000000     0.001000    0.011845   0.092431   \n",
      "nsga3_nbcpm     0.014167    0.001000     1.000000    0.582807   0.194411   \n",
      "nsga3_lfpc      0.551934    0.011845     0.582807    1.000000   0.900000   \n",
      "pos_nbcpm       0.900000    0.092431     0.194411    0.900000   1.000000   \n",
      "pos_lfpc        0.060853    0.860658     0.001000    0.001000   0.002520   \n",
      "\n",
      "             pos_lfpc  \n",
      "nsga2_nbcpm  0.060853  \n",
      "nsga2_lfpc   0.860658  \n",
      "nsga3_nbcpm  0.001000  \n",
      "nsga3_lfpc   0.001000  \n",
      "pos_nbcpm    0.002520  \n",
      "pos_lfpc     1.000000  \n"
     ]
    }
   ],
   "source": [
    "# Perform the Nemenyi post-hoc test\n",
    "texas_gap_data_nemenyi_results = sp.posthoc_nemenyi_friedman(texas_gap_data)\n",
    "\n",
    "print(texas_gap_data_nemenyi_results)"
   ]
  },
  {
   "cell_type": "markdown",
   "id": "6f907851-5100-4a90-b1c5-963c874b8fd9",
   "metadata": {},
   "source": [
    "# HyperVolume"
   ]
  },
  {
   "cell_type": "code",
   "execution_count": 5,
   "id": "221f6056-fbda-4d98-9543-e364513aeb2e",
   "metadata": {},
   "outputs": [
    {
     "name": "stdout",
     "output_type": "stream",
     "text": [
      "Friedman Test Statistic: 141.85142857142864\n",
      "p-value: 7.228947544564415e-29\n",
      "There is a statistically significant difference among the algorithms.\n"
     ]
    }
   ],
   "source": [
    "data = [\n",
    "    texas_hv_data['nsga2_nbcpm'], \n",
    "    texas_hv_data['nsga2_lfpc'],\n",
    "    texas_hv_data['nsga3_nbcpm'],\n",
    "    texas_hv_data['nsga3_lfpc'],\n",
    "    texas_hv_data['pos_nbcpm'],\n",
    "    texas_hv_data['pos_lfpc'],]\n",
    "\n",
    "# Perform the Friedman test\n",
    "statistic, p_value = friedmanchisquare(*data)\n",
    "\n",
    "print(f\"Friedman Test Statistic: {statistic}\")\n",
    "print(f\"p-value: {p_value}\")\n",
    "\n",
    "if p_value < 0.05:\n",
    "    print(\"There is a statistically significant difference among the algorithms.\")\n",
    "else:\n",
    "    print(\"No statistically significant difference found.\")"
   ]
  },
  {
   "cell_type": "code",
   "execution_count": 6,
   "id": "0062d3f0-e101-4b98-add2-456e550898f2",
   "metadata": {},
   "outputs": [
    {
     "name": "stdout",
     "output_type": "stream",
     "text": [
      "             nsga2_nbcpm  nsga2_lfpc  nsga3_nbcpm  nsga3_lfpc  pos_nbcpm  \\\n",
      "nsga2_nbcpm     1.000000    0.551934        0.001       0.001   0.900000   \n",
      "nsga2_lfpc      0.551934    1.000000        0.001       0.001   0.355687   \n",
      "nsga3_nbcpm     0.001000    0.001000        1.000       0.900   0.001000   \n",
      "nsga3_lfpc      0.001000    0.001000        0.900       1.000   0.001000   \n",
      "pos_nbcpm       0.900000    0.355687        0.001       0.001   1.000000   \n",
      "pos_lfpc        0.295333    0.900000        0.001       0.001   0.154231   \n",
      "\n",
      "             pos_lfpc  \n",
      "nsga2_nbcpm  0.295333  \n",
      "nsga2_lfpc   0.900000  \n",
      "nsga3_nbcpm  0.001000  \n",
      "nsga3_lfpc   0.001000  \n",
      "pos_nbcpm    0.154231  \n",
      "pos_lfpc     1.000000  \n"
     ]
    }
   ],
   "source": [
    "# Perform the Nemenyi post-hoc test\n",
    "texas_hv_data_nemenyi_results = sp.posthoc_nemenyi_friedman(texas_hv_data)\n",
    "\n",
    "print(texas_hv_data_nemenyi_results)"
   ]
  },
  {
   "cell_type": "markdown",
   "id": "5be60119-05e4-4b99-a7ee-df40395ac7c0",
   "metadata": {},
   "source": [
    "# Uniform Distribution"
   ]
  },
  {
   "cell_type": "code",
   "execution_count": 7,
   "id": "f99ac965-3a30-4c8b-b2cb-1afb244634a6",
   "metadata": {},
   "outputs": [
    {
     "name": "stdout",
     "output_type": "stream",
     "text": [
      "Friedman Test Statistic: 41.702857142857056\n",
      "p-value: 6.764867485444019e-08\n",
      "There is a statistically significant difference among the algorithms.\n"
     ]
    }
   ],
   "source": [
    "data = [\n",
    "    texas_ud_data['nsga2_nbcpm'], \n",
    "    texas_ud_data['nsga2_lfpc'],\n",
    "    texas_ud_data['nsga3_nbcpm'],\n",
    "    texas_ud_data['nsga3_lfpc'],\n",
    "    texas_ud_data['pos_nbcpm'],\n",
    "    texas_ud_data['pos_lfpc'],]\n",
    "\n",
    "# Perform the Friedman test\n",
    "statistic, p_value = friedmanchisquare(*data)\n",
    "\n",
    "print(f\"Friedman Test Statistic: {statistic}\")\n",
    "print(f\"p-value: {p_value}\")\n",
    "\n",
    "if p_value < 0.05:\n",
    "    print(\"There is a statistically significant difference among the algorithms.\")\n",
    "else:\n",
    "    print(\"No statistically significant difference found.\")"
   ]
  },
  {
   "cell_type": "code",
   "execution_count": 8,
   "id": "24baef85-40f0-4d32-997e-533d0efe0457",
   "metadata": {},
   "outputs": [
    {
     "name": "stdout",
     "output_type": "stream",
     "text": [
      "             nsga2_nbcpm  nsga2_lfpc  nsga3_nbcpm  nsga3_lfpc  pos_nbcpm  \\\n",
      "nsga2_nbcpm     1.000000    0.038615     0.001000    0.001000   0.241384   \n",
      "nsga2_lfpc      0.038615    1.000000     0.829786    0.038615   0.900000   \n",
      "nsga3_nbcpm     0.001000    0.829786     1.000000    0.489565   0.388553   \n",
      "nsga3_lfpc      0.001000    0.038615     0.489565    1.000000   0.003092   \n",
      "pos_nbcpm       0.241384    0.900000     0.388553    0.003092   1.000000   \n",
      "pos_lfpc        0.001000    0.644552     0.900000    0.675424   0.217217   \n",
      "\n",
      "             pos_lfpc  \n",
      "nsga2_nbcpm  0.001000  \n",
      "nsga2_lfpc   0.644552  \n",
      "nsga3_nbcpm  0.900000  \n",
      "nsga3_lfpc   0.675424  \n",
      "pos_nbcpm    0.217217  \n",
      "pos_lfpc     1.000000  \n"
     ]
    }
   ],
   "source": [
    "# Perform the Nemenyi post-hoc test\n",
    "texas_ud_data_nemenyi_results = sp.posthoc_nemenyi_friedman(texas_ud_data)\n",
    "\n",
    "print(texas_ud_data_nemenyi_results)"
   ]
  },
  {
   "cell_type": "markdown",
   "id": "7beb51cf-4850-4e1d-8b4f-355dedd1235a",
   "metadata": {},
   "source": [
    "# RNI"
   ]
  },
  {
   "cell_type": "code",
   "execution_count": 9,
   "id": "3df28436-dffd-4dd3-b33f-36ff3249db62",
   "metadata": {},
   "outputs": [
    {
     "name": "stdout",
     "output_type": "stream",
     "text": [
      "Friedman Test Statistic: 143.5927442949094\n",
      "p-value: 3.081702810604489e-29\n",
      "There is a statistically significant difference among the algorithms.\n"
     ]
    }
   ],
   "source": [
    "data = [\n",
    "    texas_rni_data['nsga2_nbcpm'], \n",
    "    texas_rni_data['nsga2_lfpc'],\n",
    "    texas_rni_data['nsga3_nbcpm'],\n",
    "    texas_rni_data['nsga3_lfpc'],\n",
    "    texas_rni_data['pos_nbcpm'],\n",
    "    texas_rni_data['pos_lfpc'],]\n",
    "\n",
    "# Perform the Friedman test\n",
    "statistic, p_value = friedmanchisquare(*data)\n",
    "\n",
    "print(f\"Friedman Test Statistic: {statistic}\")\n",
    "print(f\"p-value: {p_value}\")\n",
    "\n",
    "if p_value < 0.05:\n",
    "    print(\"There is a statistically significant difference among the algorithms.\")\n",
    "else:\n",
    "    print(\"No statistically significant difference found.\")"
   ]
  },
  {
   "cell_type": "code",
   "execution_count": 10,
   "id": "2942cdd9-da6f-4b54-9432-181f5ec065e9",
   "metadata": {},
   "outputs": [
    {
     "name": "stdout",
     "output_type": "stream",
     "text": [
      "             nsga2_nbcpm  nsga2_lfpc  nsga3_nbcpm  nsga3_lfpc  pos_nbcpm  \\\n",
      "nsga2_nbcpm        1.000       0.900        0.001       0.001      0.900   \n",
      "nsga2_lfpc         0.900       1.000        0.001       0.001      0.900   \n",
      "nsga3_nbcpm        0.001       0.001        1.000       0.900      0.001   \n",
      "nsga3_lfpc         0.001       0.001        0.900       1.000      0.001   \n",
      "pos_nbcpm          0.900       0.900        0.001       0.001      1.000   \n",
      "pos_lfpc           0.900       0.900        0.001       0.001      0.900   \n",
      "\n",
      "             pos_lfpc  \n",
      "nsga2_nbcpm     0.900  \n",
      "nsga2_lfpc      0.900  \n",
      "nsga3_nbcpm     0.001  \n",
      "nsga3_lfpc      0.001  \n",
      "pos_nbcpm       0.900  \n",
      "pos_lfpc        1.000  \n"
     ]
    }
   ],
   "source": [
    "# Perform the Nemenyi post-hoc test\n",
    "texas_rni_data_nemenyi_results = sp.posthoc_nemenyi_friedman(texas_rni_data)\n",
    "\n",
    "print(texas_rni_data_nemenyi_results)"
   ]
  },
  {
   "cell_type": "markdown",
   "id": "8b47f7cf-18f6-498a-9525-251ab124a27d",
   "metadata": {},
   "source": [
    "# Computation Time"
   ]
  },
  {
   "cell_type": "code",
   "execution_count": 11,
   "id": "1a3545e6-1135-4efb-8baa-6ef49decd2d4",
   "metadata": {},
   "outputs": [
    {
     "name": "stdout",
     "output_type": "stream",
     "text": [
      "Friedman Test Statistic: 211.53142857142848\n",
      "p-value: 9.672966184192463e-44\n",
      "There is a statistically significant difference among the algorithms.\n"
     ]
    }
   ],
   "source": [
    "data = [\n",
    "    texas_ct_data['nsga2_nbcpm'], \n",
    "    texas_ct_data['nsga2_lfpc'],\n",
    "    texas_ct_data['nsga3_nbcpm'],\n",
    "    texas_ct_data['nsga3_lfpc'],\n",
    "    texas_ct_data['pos_nbcpm'],\n",
    "    texas_ct_data['pos_lfpc'],]\n",
    "\n",
    "# Perform the Friedman test\n",
    "statistic, p_value = friedmanchisquare(*data)\n",
    "\n",
    "print(f\"Friedman Test Statistic: {statistic}\")\n",
    "print(f\"p-value: {p_value}\")\n",
    "\n",
    "if p_value < 0.05:\n",
    "    print(\"There is a statistically significant difference among the algorithms.\")\n",
    "else:\n",
    "    print(\"No statistically significant difference found.\")"
   ]
  },
  {
   "cell_type": "code",
   "execution_count": 12,
   "id": "409b9163-7b96-4b79-aa5c-d6ba508c6ffb",
   "metadata": {},
   "outputs": [
    {
     "name": "stdout",
     "output_type": "stream",
     "text": [
      "             nsga2_nbcpm  nsga2_lfpc  nsga3_nbcpm  nsga3_lfpc  pos_nbcpm  \\\n",
      "nsga2_nbcpm     1.000000    0.001000     0.551934    0.001000   0.456134   \n",
      "nsga2_lfpc      0.001000    1.000000     0.001000    0.422253   0.001000   \n",
      "nsga3_nbcpm     0.551934    0.001000     1.000000    0.001000   0.006789   \n",
      "nsga3_lfpc      0.001000    0.422253     0.001000    1.000000   0.001000   \n",
      "pos_nbcpm       0.456134    0.001000     0.006789    0.001000   1.000000   \n",
      "pos_lfpc        0.001000    0.136248     0.001000    0.900000   0.001000   \n",
      "\n",
      "             pos_lfpc  \n",
      "nsga2_nbcpm  0.001000  \n",
      "nsga2_lfpc   0.136248  \n",
      "nsga3_nbcpm  0.001000  \n",
      "nsga3_lfpc   0.900000  \n",
      "pos_nbcpm    0.001000  \n",
      "pos_lfpc     1.000000  \n"
     ]
    }
   ],
   "source": [
    "# Perform the Nemenyi post-hoc test\n",
    "texas_ct_data_nemenyi_results = sp.posthoc_nemenyi_friedman(texas_ct_data)\n",
    "\n",
    "print(texas_ct_data_nemenyi_results)"
   ]
  },
  {
   "cell_type": "markdown",
   "id": "6a7ff440-a0a6-4a5d-862b-b91515d1d829",
   "metadata": {},
   "source": [
    "# Percentage of Unique Solutions (%)"
   ]
  },
  {
   "cell_type": "code",
   "execution_count": 13,
   "id": "02d18d80-1fa5-4ea4-a159-f1743342cf9d",
   "metadata": {},
   "outputs": [
    {
     "name": "stdout",
     "output_type": "stream",
     "text": [
      "Friedman Test Statistic: 236.8914285714286\n",
      "p-value: 3.562959797958596e-49\n",
      "There is a statistically significant difference among the algorithms.\n"
     ]
    }
   ],
   "source": [
    "data = [\n",
    "    texas_eval_data['nsga2_nbcpm'], \n",
    "    texas_eval_data['nsga2_lfpc'],\n",
    "    texas_eval_data['nsga3_nbcpm'],\n",
    "    texas_eval_data['nsga3_lfpc'],\n",
    "    texas_eval_data['pos_nbcpm'],\n",
    "    texas_eval_data['pos_lfpc'],]\n",
    "\n",
    "# Perform the Friedman test\n",
    "statistic, p_value = friedmanchisquare(*data)\n",
    "\n",
    "print(f\"Friedman Test Statistic: {statistic}\")\n",
    "print(f\"p-value: {p_value}\")\n",
    "\n",
    "if p_value < 0.05:\n",
    "    print(\"There is a statistically significant difference among the algorithms.\")\n",
    "else:\n",
    "    print(\"No statistically significant difference found.\")"
   ]
  },
  {
   "cell_type": "code",
   "execution_count": 14,
   "id": "9bb445ea-b167-4db0-8dff-a75cf7523438",
   "metadata": {},
   "outputs": [
    {
     "name": "stdout",
     "output_type": "stream",
     "text": [
      "             nsga2_nbcpm  nsga2_lfpc  nsga3_nbcpm  nsga3_lfpc  pos_nbcpm  \\\n",
      "nsga2_nbcpm        1.000    0.001000     0.001000    0.001000   0.900000   \n",
      "nsga2_lfpc         0.001    1.000000     0.006789    0.001000   0.001000   \n",
      "nsga3_nbcpm        0.001    0.006789     1.000000    0.001000   0.005603   \n",
      "nsga3_lfpc         0.001    0.001000     0.001000    1.000000   0.001000   \n",
      "pos_nbcpm          0.900    0.001000     0.005603    0.001000   1.000000   \n",
      "pos_lfpc           0.001    0.829786     0.001000    0.008201   0.001000   \n",
      "\n",
      "             pos_lfpc  \n",
      "nsga2_nbcpm  0.001000  \n",
      "nsga2_lfpc   0.829786  \n",
      "nsga3_nbcpm  0.001000  \n",
      "nsga3_lfpc   0.008201  \n",
      "pos_nbcpm    0.001000  \n",
      "pos_lfpc     1.000000  \n"
     ]
    }
   ],
   "source": [
    "# Perform the Nemenyi post-hoc test\n",
    "texas_eval_data_nemenyi_results = sp.posthoc_nemenyi_friedman(texas_eval_data)\n",
    "\n",
    "print(texas_eval_data_nemenyi_results)"
   ]
  },
  {
   "cell_type": "code",
   "execution_count": null,
   "id": "85bb2026-a45b-4597-a9be-494f4934e0de",
   "metadata": {},
   "outputs": [],
   "source": []
  },
  {
   "cell_type": "code",
   "execution_count": null,
   "id": "0b468c5e-1f0c-4d58-8d33-8c6b8a24bc06",
   "metadata": {},
   "outputs": [],
   "source": []
  },
  {
   "cell_type": "code",
   "execution_count": null,
   "id": "ceef8b60-dec5-4ab6-b3fb-9017719eb97a",
   "metadata": {},
   "outputs": [],
   "source": []
  },
  {
   "cell_type": "code",
   "execution_count": null,
   "id": "6d27b967-eb44-4aae-a839-8743e8b2a941",
   "metadata": {},
   "outputs": [],
   "source": []
  },
  {
   "cell_type": "code",
   "execution_count": null,
   "id": "8840d940-9f46-4569-8d29-ab51fe5443fe",
   "metadata": {},
   "outputs": [],
   "source": []
  },
  {
   "cell_type": "code",
   "execution_count": null,
   "id": "925aec75-3436-43c7-89c1-8d1c5fb644ec",
   "metadata": {},
   "outputs": [],
   "source": []
  },
  {
   "cell_type": "code",
   "execution_count": null,
   "id": "4d778cf0-95c8-4d7b-8834-346a3634086b",
   "metadata": {},
   "outputs": [],
   "source": []
  },
  {
   "cell_type": "code",
   "execution_count": null,
   "id": "8deea6e6-9202-4baf-9d79-cbe5f98f7ce2",
   "metadata": {},
   "outputs": [],
   "source": []
  },
  {
   "cell_type": "code",
   "execution_count": null,
   "id": "49e1067f-5407-46ff-ae5f-5045714b46ab",
   "metadata": {},
   "outputs": [],
   "source": []
  },
  {
   "cell_type": "code",
   "execution_count": null,
   "id": "18bdb824-565f-49f2-8c5a-c7efe92aaf4e",
   "metadata": {},
   "outputs": [],
   "source": []
  },
  {
   "cell_type": "code",
   "execution_count": null,
   "id": "cf2b76a8-f092-4f6d-8923-f3959a5d0090",
   "metadata": {},
   "outputs": [],
   "source": []
  }
 ],
 "metadata": {
  "kernelspec": {
   "display_name": "Python 3 (ipykernel)",
   "language": "python",
   "name": "python3"
  },
  "language_info": {
   "codemirror_mode": {
    "name": "ipython",
    "version": 3
   },
   "file_extension": ".py",
   "mimetype": "text/x-python",
   "name": "python",
   "nbconvert_exporter": "python",
   "pygments_lexer": "ipython3",
   "version": "3.9.6"
  }
 },
 "nbformat": 4,
 "nbformat_minor": 5
}
