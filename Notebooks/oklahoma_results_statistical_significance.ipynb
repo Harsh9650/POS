{
 "cells": [
  {
   "cell_type": "code",
   "execution_count": 1,
   "id": "5bb53a6b-b694-46f8-bed7-2ad6fee42d2c",
   "metadata": {},
   "outputs": [],
   "source": [
    "import pandas as pd\n",
    "from scipy.stats import friedmanchisquare\n",
    "import scikit_posthocs as sp"
   ]
  },
  {
   "cell_type": "markdown",
   "id": "0c28859f-53a2-4a68-9ddb-55cea1a4c16e",
   "metadata": {},
   "source": [
    "# Result Datasets"
   ]
  },
  {
   "cell_type": "code",
   "execution_count": 2,
   "id": "729921ee-59cb-4037-ab48-61d3933b2f4b",
   "metadata": {},
   "outputs": [],
   "source": [
    "oklahoma_gap_data = pd.read_excel('oklahoma_gap_percent.xlsx')\n",
    "oklahoma_eval_data = pd.read_excel('oklahoma_unique_evaluations.xlsx')\n",
    "oklahoma_hv_data = pd.read_excel('oklahoma_hypervolume.xlsx')\n",
    "oklahoma_ud_data = pd.read_excel('oklahoma_uniform_distribution.xlsx')\n",
    "oklahoma_rni_data = pd.read_excel('oklahoma_ratio_non_dominated.xlsx')\n",
    "oklahoma_ct_data = pd.read_excel('oklahoma_computation_time.xlsx')"
   ]
  },
  {
   "cell_type": "markdown",
   "id": "927a8506-ee14-42e1-abef-7852d62c3cb0",
   "metadata": {},
   "source": [
    "# GAP (%)"
   ]
  },
  {
   "cell_type": "code",
   "execution_count": 3,
   "id": "113e9854-30bc-41c5-89b7-466c1f6abca6",
   "metadata": {},
   "outputs": [
    {
     "name": "stdout",
     "output_type": "stream",
     "text": [
      "Friedman Test Statistic: 38.14296241709661\n",
      "p-value: 3.5317646094463064e-07\n",
      "There is a statistically significant difference among the algorithms.\n"
     ]
    }
   ],
   "source": [
    "data = [\n",
    "    oklahoma_gap_data['nsga2_nbcpm'], \n",
    "    oklahoma_gap_data['nsga2_lfpc'],\n",
    "    oklahoma_gap_data['nsga3_nbcpm'],\n",
    "    oklahoma_gap_data['nsga3_lfpc'],\n",
    "    oklahoma_gap_data['pos_nbcpm'],\n",
    "    oklahoma_gap_data['pos_lfpc'],]\n",
    "\n",
    "# Perform the Friedman test\n",
    "statistic, p_value = friedmanchisquare(*data)\n",
    "\n",
    "print(f\"Friedman Test Statistic: {statistic}\")\n",
    "print(f\"p-value: {p_value}\")\n",
    "\n",
    "\n",
    "if p_value < 0.05:\n",
    "    print(\"There is a statistically significant difference among the algorithms.\")\n",
    "else:\n",
    "    print(\"No statistically significant difference found.\")"
   ]
  },
  {
   "cell_type": "code",
   "execution_count": 4,
   "id": "65641dee-6271-4999-ad2f-a20fb2db5095",
   "metadata": {},
   "outputs": [
    {
     "name": "stdout",
     "output_type": "stream",
     "text": [
      "             nsga2_nbcpm  nsga2_lfpc  nsga3_nbcpm  nsga3_lfpc  pos_nbcpm  \\\n",
      "nsga2_nbcpm     1.000000    0.041739     0.798912    0.900000   0.900000   \n",
      "nsga2_lfpc      0.041739    1.000000     0.001000    0.008201   0.045070   \n",
      "nsga3_nbcpm     0.798912    0.001000     1.000000    0.900000   0.783478   \n",
      "nsga3_lfpc      0.900000    0.008201     0.900000    1.000000   0.900000   \n",
      "pos_nbcpm       0.900000    0.045070     0.783478    0.900000   1.000000   \n",
      "pos_lfpc        0.086735    0.900000     0.001490    0.020058   0.092431   \n",
      "\n",
      "             pos_lfpc  \n",
      "nsga2_nbcpm  0.086735  \n",
      "nsga2_lfpc   0.900000  \n",
      "nsga3_nbcpm  0.001490  \n",
      "nsga3_lfpc   0.020058  \n",
      "pos_nbcpm    0.092431  \n",
      "pos_lfpc     1.000000  \n"
     ]
    }
   ],
   "source": [
    "# Perform the Nemenyi post-hoc test\n",
    "oklahoma_gap_data_nemenyi_results = sp.posthoc_nemenyi_friedman(oklahoma_gap_data)\n",
    "\n",
    "print(oklahoma_gap_data_nemenyi_results)"
   ]
  },
  {
   "cell_type": "markdown",
   "id": "544e0f3a-4ca2-4fe9-9a9c-b0ed7f116c3d",
   "metadata": {},
   "source": [
    "# HyperVolume"
   ]
  },
  {
   "cell_type": "code",
   "execution_count": 5,
   "id": "be5f20da-9ca0-4a6f-b134-5c6922b0fe1d",
   "metadata": {},
   "outputs": [
    {
     "name": "stdout",
     "output_type": "stream",
     "text": [
      "Friedman Test Statistic: 141.61142857142863\n",
      "p-value: 8.130228480729989e-29\n",
      "There is a statistically significant difference among the algorithms.\n"
     ]
    }
   ],
   "source": [
    "data = [\n",
    "    oklahoma_hv_data['nsga2_nbcpm'], \n",
    "    oklahoma_hv_data['nsga2_lfpc'],\n",
    "    oklahoma_hv_data['nsga3_nbcpm'],\n",
    "    oklahoma_hv_data['nsga3_lfpc'],\n",
    "    oklahoma_hv_data['pos_nbcpm'],\n",
    "    oklahoma_hv_data['pos_lfpc'],]\n",
    "\n",
    "# Perform the Friedman test\n",
    "statistic, p_value = friedmanchisquare(*data)\n",
    "\n",
    "print(f\"Friedman Test Statistic: {statistic}\")\n",
    "print(f\"p-value: {p_value}\")\n",
    "\n",
    "if p_value < 0.05:\n",
    "    print(\"There is a statistically significant difference among the algorithms.\")\n",
    "else:\n",
    "    print(\"No statistically significant difference found.\")"
   ]
  },
  {
   "cell_type": "code",
   "execution_count": 6,
   "id": "30b92225-2319-4366-97fd-ed028d7c6397",
   "metadata": {},
   "outputs": [
    {
     "name": "stdout",
     "output_type": "stream",
     "text": [
      "             nsga2_nbcpm  nsga2_lfpc  nsga3_nbcpm  nsga3_lfpc  pos_nbcpm  \\\n",
      "nsga2_nbcpm     1.000000    0.241384        0.001       0.001   0.900000   \n",
      "nsga2_lfpc      0.241384    1.000000        0.001       0.001   0.092431   \n",
      "nsga3_nbcpm     0.001000    0.001000        1.000       0.900   0.001000   \n",
      "nsga3_lfpc      0.001000    0.001000        0.900       1.000   0.001000   \n",
      "pos_nbcpm       0.900000    0.092431        0.001       0.001   1.000000   \n",
      "pos_lfpc        0.241384    0.900000        0.001       0.001   0.092431   \n",
      "\n",
      "             pos_lfpc  \n",
      "nsga2_nbcpm  0.241384  \n",
      "nsga2_lfpc   0.900000  \n",
      "nsga3_nbcpm  0.001000  \n",
      "nsga3_lfpc   0.001000  \n",
      "pos_nbcpm    0.092431  \n",
      "pos_lfpc     1.000000  \n"
     ]
    }
   ],
   "source": [
    "# Perform the Nemenyi post-hoc test\n",
    "oklahoma_hv_data_nemenyi_results = sp.posthoc_nemenyi_friedman(oklahoma_hv_data)\n",
    "\n",
    "print(oklahoma_hv_data_nemenyi_results)"
   ]
  },
  {
   "cell_type": "markdown",
   "id": "56f9d80b-6164-4ffe-9189-dddb14e33b10",
   "metadata": {},
   "source": [
    "# Uniform Distribution"
   ]
  },
  {
   "cell_type": "code",
   "execution_count": 7,
   "id": "a0a25d85-c863-42ec-a7a7-4cd63f573bc7",
   "metadata": {},
   "outputs": [
    {
     "name": "stdout",
     "output_type": "stream",
     "text": [
      "Friedman Test Statistic: 16.674285714285816\n",
      "p-value: 0.005160799366379099\n",
      "There is a statistically significant difference among the algorithms.\n"
     ]
    }
   ],
   "source": [
    "data = [\n",
    "    oklahoma_ud_data['nsga2_nbcpm'], \n",
    "    oklahoma_ud_data['nsga2_lfpc'],\n",
    "    oklahoma_ud_data['nsga3_nbcpm'],\n",
    "    oklahoma_ud_data['nsga3_lfpc'],\n",
    "    oklahoma_ud_data['pos_nbcpm'],\n",
    "    oklahoma_ud_data['pos_lfpc'],]\n",
    "\n",
    "# Perform the Friedman test\n",
    "statistic, p_value = friedmanchisquare(*data)\n",
    "\n",
    "print(f\"Friedman Test Statistic: {statistic}\")\n",
    "print(f\"p-value: {p_value}\")\n",
    "\n",
    "if p_value < 0.05:\n",
    "    print(\"There is a statistically significant difference among the algorithms.\")\n",
    "else:\n",
    "    print(\"No statistically significant difference found.\")"
   ]
  },
  {
   "cell_type": "code",
   "execution_count": 8,
   "id": "161e836c-704a-4d73-821e-009b9219e618",
   "metadata": {},
   "outputs": [
    {
     "name": "stdout",
     "output_type": "stream",
     "text": [
      "             nsga2_nbcpm  nsga2_lfpc  nsga3_nbcpm  nsga3_lfpc  pos_nbcpm  \\\n",
      "nsga2_nbcpm     1.000000    0.900000     0.154231    0.052421   0.900000   \n",
      "nsga2_lfpc      0.900000    1.000000     0.173720    0.060853   0.900000   \n",
      "nsga3_nbcpm     0.154231    0.173720     1.000000    0.900000   0.154231   \n",
      "nsga3_lfpc      0.052421    0.060853     0.900000    1.000000   0.052421   \n",
      "pos_nbcpm       0.900000    0.900000     0.154231    0.052421   1.000000   \n",
      "pos_lfpc        0.675424    0.706297     0.900000    0.706297   0.675424   \n",
      "\n",
      "             pos_lfpc  \n",
      "nsga2_nbcpm  0.675424  \n",
      "nsga2_lfpc   0.706297  \n",
      "nsga3_nbcpm  0.900000  \n",
      "nsga3_lfpc   0.706297  \n",
      "pos_nbcpm    0.675424  \n",
      "pos_lfpc     1.000000  \n"
     ]
    }
   ],
   "source": [
    "# Perform the Nemenyi post-hoc test\n",
    "oklahoma_ud_data_nemenyi_results = sp.posthoc_nemenyi_friedman(oklahoma_ud_data)\n",
    "\n",
    "print(oklahoma_ud_data_nemenyi_results)"
   ]
  },
  {
   "cell_type": "markdown",
   "id": "6ec45acf-7641-4199-b186-5deb03a949ef",
   "metadata": {},
   "source": [
    "# RNI"
   ]
  },
  {
   "cell_type": "code",
   "execution_count": 9,
   "id": "52fb7371-753e-4904-a9e7-fe145f998bc6",
   "metadata": {},
   "outputs": [
    {
     "name": "stdout",
     "output_type": "stream",
     "text": [
      "Friedman Test Statistic: 138.54603729603724\n",
      "p-value: 3.6449350666873725e-28\n",
      "There is a statistically significant difference among the algorithms.\n"
     ]
    }
   ],
   "source": [
    "data = [\n",
    "    oklahoma_rni_data['nsga2_nbcpm'], \n",
    "    oklahoma_rni_data['nsga2_lfpc'],\n",
    "    oklahoma_rni_data['nsga3_nbcpm'],\n",
    "    oklahoma_rni_data['nsga3_lfpc'],\n",
    "    oklahoma_rni_data['pos_nbcpm'],\n",
    "    oklahoma_rni_data['pos_lfpc'],]\n",
    "\n",
    "# Perform the Friedman test\n",
    "statistic, p_value = friedmanchisquare(*data)\n",
    "\n",
    "print(f\"Friedman Test Statistic: {statistic}\")\n",
    "print(f\"p-value: {p_value}\")\n",
    "\n",
    "if p_value < 0.05:\n",
    "    print(\"There is a statistically significant difference among the algorithms.\")\n",
    "else:\n",
    "    print(\"No statistically significant difference found.\")"
   ]
  },
  {
   "cell_type": "code",
   "execution_count": 10,
   "id": "d0fc8e1b-4a44-41b1-b7f0-7ef8b747e127",
   "metadata": {},
   "outputs": [
    {
     "name": "stdout",
     "output_type": "stream",
     "text": [
      "             nsga2_nbcpm  nsga2_lfpc  nsga3_nbcpm  nsga3_lfpc  pos_nbcpm  \\\n",
      "nsga2_nbcpm        1.000    0.900000        0.001       0.001   0.900000   \n",
      "nsga2_lfpc         0.900    1.000000        0.001       0.001   0.706297   \n",
      "nsga3_nbcpm        0.001    0.001000        1.000       0.900   0.001000   \n",
      "nsga3_lfpc         0.001    0.001000        0.900       1.000   0.001000   \n",
      "pos_nbcpm          0.900    0.706297        0.001       0.001   1.000000   \n",
      "pos_lfpc           0.900    0.900000        0.001       0.001   0.737168   \n",
      "\n",
      "             pos_lfpc  \n",
      "nsga2_nbcpm  0.900000  \n",
      "nsga2_lfpc   0.900000  \n",
      "nsga3_nbcpm  0.001000  \n",
      "nsga3_lfpc   0.001000  \n",
      "pos_nbcpm    0.737168  \n",
      "pos_lfpc     1.000000  \n"
     ]
    }
   ],
   "source": [
    "# Perform the Nemenyi post-hoc test\n",
    "oklahoma_rni_data_nemenyi_results = sp.posthoc_nemenyi_friedman(oklahoma_rni_data)\n",
    "\n",
    "print(oklahoma_rni_data_nemenyi_results)"
   ]
  },
  {
   "cell_type": "markdown",
   "id": "72cea68f-146a-41d3-8a9d-8a6d671da0aa",
   "metadata": {},
   "source": [
    "# Computation Tine"
   ]
  },
  {
   "cell_type": "code",
   "execution_count": 11,
   "id": "037463c0-5ec4-42b5-b789-c07e43130a43",
   "metadata": {},
   "outputs": [
    {
     "name": "stdout",
     "output_type": "stream",
     "text": [
      "Friedman Test Statistic: 209.58452722063035\n",
      "p-value: 2.5255579547663214e-43\n",
      "There is a statistically significant difference among the algorithms.\n"
     ]
    }
   ],
   "source": [
    "data = [\n",
    "    oklahoma_ct_data['nsga2_nbcpm'], \n",
    "    oklahoma_ct_data['nsga2_lfpc'],\n",
    "    oklahoma_ct_data['nsga3_nbcpm'],\n",
    "    oklahoma_ct_data['nsga3_lfpc'],\n",
    "    oklahoma_ct_data['pos_nbcpm'],\n",
    "    oklahoma_ct_data['pos_lfpc'],]\n",
    "\n",
    "# Perform the Friedman test\n",
    "statistic, p_value = friedmanchisquare(*data)\n",
    "\n",
    "print(f\"Friedman Test Statistic: {statistic}\")\n",
    "print(f\"p-value: {p_value}\")\n",
    "\n",
    "if p_value < 0.05:\n",
    "    print(\"There is a statistically significant difference among the algorithms.\")\n",
    "else:\n",
    "    print(\"No statistically significant difference found.\")"
   ]
  },
  {
   "cell_type": "code",
   "execution_count": 12,
   "id": "63681f73-cbf6-416d-b69e-ee3a8b11346e",
   "metadata": {},
   "outputs": [
    {
     "name": "stdout",
     "output_type": "stream",
     "text": [
      "             nsga2_nbcpm  nsga2_lfpc  nsga3_nbcpm  nsga3_lfpc  pos_nbcpm  \\\n",
      "nsga2_nbcpm     1.000000    0.001000     0.829786    0.001000   0.644552   \n",
      "nsga2_lfpc      0.001000    1.000000     0.001000    0.241384   0.001000   \n",
      "nsga3_nbcpm     0.829786    0.001000     1.000000    0.001000   0.080999   \n",
      "nsga3_lfpc      0.001000    0.241384     0.001000    1.000000   0.001000   \n",
      "pos_nbcpm       0.644552    0.001000     0.080999    0.001000   1.000000   \n",
      "pos_lfpc        0.001000    0.048615     0.001000    0.900000   0.001000   \n",
      "\n",
      "             pos_lfpc  \n",
      "nsga2_nbcpm  0.001000  \n",
      "nsga2_lfpc   0.048615  \n",
      "nsga3_nbcpm  0.001000  \n",
      "nsga3_lfpc   0.900000  \n",
      "pos_nbcpm    0.001000  \n",
      "pos_lfpc     1.000000  \n"
     ]
    }
   ],
   "source": [
    "# Perform the Nemenyi post-hoc test\n",
    "oklahoma_ct_data_nemenyi_results = sp.posthoc_nemenyi_friedman(oklahoma_ct_data)\n",
    "\n",
    "print(oklahoma_ct_data_nemenyi_results)"
   ]
  },
  {
   "cell_type": "markdown",
   "id": "ba96ef8b-3f44-4d18-b5be-ee09282bd22f",
   "metadata": {},
   "source": [
    "# Percentage of Unique Solutions (%)"
   ]
  },
  {
   "cell_type": "code",
   "execution_count": 13,
   "id": "717aed36-31ce-417e-83d7-73ecea0793c7",
   "metadata": {},
   "outputs": [
    {
     "name": "stdout",
     "output_type": "stream",
     "text": [
      "Friedman Test Statistic: 232.65884373211216\n",
      "p-value: 2.8791215094360336e-48\n",
      "There is a statistically significant difference among the algorithms.\n"
     ]
    }
   ],
   "source": [
    "data = [\n",
    "    oklahoma_eval_data['nsga2_nbcpm'], \n",
    "    oklahoma_eval_data['nsga2_lfpc'],\n",
    "    oklahoma_eval_data['nsga3_nbcpm'],\n",
    "    oklahoma_eval_data['nsga3_lfpc'],\n",
    "    oklahoma_eval_data['pos_nbcpm'],\n",
    "    oklahoma_eval_data['pos_lfpc'],]\n",
    "\n",
    "# Perform the Friedman test\n",
    "statistic, p_value = friedmanchisquare(*data)\n",
    "\n",
    "print(f\"Friedman Test Statistic: {statistic}\")\n",
    "print(f\"p-value: {p_value}\")\n",
    "\n",
    "if p_value < 0.05:\n",
    "    print(\"There is a statistically significant difference among the algorithms.\")\n",
    "else:\n",
    "    print(\"No statistically significant difference found.\")"
   ]
  },
  {
   "cell_type": "code",
   "execution_count": 14,
   "id": "c7c2d8db-6a13-4cba-adbc-af61e16c5276",
   "metadata": {},
   "outputs": [
    {
     "name": "stdout",
     "output_type": "stream",
     "text": [
      "             nsga2_nbcpm  nsga2_lfpc  nsga3_nbcpm  nsga3_lfpc  pos_nbcpm  \\\n",
      "nsga2_nbcpm      1.00000    0.001000     0.009870    0.001000    0.90000   \n",
      "nsga2_lfpc       0.00100    1.000000     0.006169    0.001000    0.00100   \n",
      "nsga3_nbcpm      0.00987    0.006169     1.000000    0.001000    0.00987   \n",
      "nsga3_lfpc       0.00100    0.001000     0.001000    1.000000    0.00100   \n",
      "pos_nbcpm        0.90000    0.001000     0.009870    0.001000    1.00000   \n",
      "pos_lfpc         0.00100    0.388553     0.001000    0.035688    0.00100   \n",
      "\n",
      "             pos_lfpc  \n",
      "nsga2_nbcpm  0.001000  \n",
      "nsga2_lfpc   0.388553  \n",
      "nsga3_nbcpm  0.001000  \n",
      "nsga3_lfpc   0.035688  \n",
      "pos_nbcpm    0.001000  \n",
      "pos_lfpc     1.000000  \n"
     ]
    }
   ],
   "source": [
    "# Perform the Nemenyi post-hoc test\n",
    "oklahoma_eval_data_nemenyi_results = sp.posthoc_nemenyi_friedman(oklahoma_eval_data)\n",
    "\n",
    "print(oklahoma_eval_data_nemenyi_results)"
   ]
  },
  {
   "cell_type": "code",
   "execution_count": null,
   "id": "0e46b57e-cb16-4cce-8229-b82c55b2ac68",
   "metadata": {},
   "outputs": [],
   "source": []
  },
  {
   "cell_type": "code",
   "execution_count": null,
   "id": "83f10681-9339-4faf-9240-06633478948c",
   "metadata": {},
   "outputs": [],
   "source": []
  },
  {
   "cell_type": "code",
   "execution_count": null,
   "id": "a2943e32-b461-431c-be6d-da03ae7f4da6",
   "metadata": {},
   "outputs": [],
   "source": []
  },
  {
   "cell_type": "code",
   "execution_count": null,
   "id": "99d8dcfe-ccae-4d47-a578-ea0516049fc7",
   "metadata": {},
   "outputs": [],
   "source": []
  }
 ],
 "metadata": {
  "kernelspec": {
   "display_name": "Python 3 (ipykernel)",
   "language": "python",
   "name": "python3"
  },
  "language_info": {
   "codemirror_mode": {
    "name": "ipython",
    "version": 3
   },
   "file_extension": ".py",
   "mimetype": "text/x-python",
   "name": "python",
   "nbconvert_exporter": "python",
   "pygments_lexer": "ipython3",
   "version": "3.9.6"
  }
 },
 "nbformat": 4,
 "nbformat_minor": 5
}
