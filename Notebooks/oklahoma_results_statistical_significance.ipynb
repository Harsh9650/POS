{
 "cells": [
  {
   "cell_type": "code",
   "execution_count": 1,
   "id": "5bb53a6b-b694-46f8-bed7-2ad6fee42d2c",
   "metadata": {},
   "outputs": [],
   "source": [
    "import os\n",
    "import pandas as pd\n",
    "from scipy.stats import friedmanchisquare\n",
    "from statsmodels.stats.multicomp import pairwise_tukeyhsd"
   ]
  },
  {
   "cell_type": "markdown",
   "id": "0c28859f-53a2-4a68-9ddb-55cea1a4c16e",
   "metadata": {},
   "source": [
    "# Result Datasets"
   ]
  },
  {
   "cell_type": "code",
   "execution_count": 3,
   "id": "729921ee-59cb-4037-ab48-61d3933b2f4b",
   "metadata": {},
   "outputs": [],
   "source": [
    "oklahoma_gap_data = pd.read_excel('oklahoma_gap_percent.xlsx')\n",
    "oklahoma_eval_data = pd.read_excel('oklahoma_unique_evaluations.xlsx')\n",
    "oklahoma_hv_data = pd.read_excel('oklahoma_hypervolume.xlsx')\n",
    "oklahoma_ud_data = pd.read_excel('oklahoma_uniform_distribution.xlsx')\n",
    "oklahoma_rni_data = pd.read_excel('oklahoma_ratio_non_dominated.xlsx')\n",
    "oklahoma_ct_data = pd.read_excel('oklahoma_computation_time.xlsx')"
   ]
  },
  {
   "cell_type": "markdown",
   "id": "927a8506-ee14-42e1-abef-7852d62c3cb0",
   "metadata": {},
   "source": [
    "# GAP (%)"
   ]
  },
  {
   "cell_type": "code",
   "execution_count": 4,
   "id": "113e9854-30bc-41c5-89b7-466c1f6abca6",
   "metadata": {},
   "outputs": [
    {
     "name": "stdout",
     "output_type": "stream",
     "text": [
      "Friedman Test Statistic: 38.14296241709661\n",
      "p-value: 3.5317646094463064e-07\n",
      "There is a statistically significant difference among the algorithms.\n"
     ]
    }
   ],
   "source": [
    "data = [\n",
    "    oklahoma_gap_data['nsga2_nbcpm'], \n",
    "    oklahoma_gap_data['nsga2_lfpc'],\n",
    "    oklahoma_gap_data['nsga3_nbcpm'],\n",
    "    oklahoma_gap_data['nsga3_lfpc'],\n",
    "    oklahoma_gap_data['pos_nbcpm'],\n",
    "    oklahoma_gap_data['pos_lfpc'],]\n",
    "\n",
    "# Perform the Friedman test\n",
    "statistic, p_value = friedmanchisquare(*data)\n",
    "\n",
    "print(f\"Friedman Test Statistic: {statistic}\")\n",
    "print(f\"p-value: {p_value}\")\n",
    "\n",
    "\n",
    "if p_value < 0.05:\n",
    "    print(\"There is a statistically significant difference among the algorithms.\")\n",
    "else:\n",
    "    print(\"No statistically significant difference found.\")"
   ]
  },
  {
   "cell_type": "code",
   "execution_count": 5,
   "id": "65641dee-6271-4999-ad2f-a20fb2db5095",
   "metadata": {},
   "outputs": [
    {
     "name": "stdout",
     "output_type": "stream",
     "text": [
      "      Multiple Comparison of Means - Tukey HSD, FWER=0.05      \n",
      "===============================================================\n",
      "   group1      group2   meandiff p-adj   lower    upper  reject\n",
      "---------------------------------------------------------------\n",
      " nsga2_lfpc nsga2_nbcpm   2.6098 0.6721  -2.4207  7.6403  False\n",
      " nsga2_lfpc  nsga3_lfpc   3.9652 0.2135  -1.0653  8.9957  False\n",
      " nsga2_lfpc nsga3_nbcpm   5.5358 0.0216   0.5053 10.5663   True\n",
      " nsga2_lfpc    pos_lfpc   0.2668    1.0  -4.7637  5.2973  False\n",
      " nsga2_lfpc   pos_nbcpm   2.4708 0.7216  -2.5597  7.5013  False\n",
      "nsga2_nbcpm  nsga3_lfpc   1.3554 0.9719  -3.6751  6.3859  False\n",
      "nsga2_nbcpm nsga3_nbcpm    2.926 0.5537  -2.1045  7.9565  False\n",
      "nsga2_nbcpm    pos_lfpc   -2.343 0.7647  -7.3735  2.6875  False\n",
      "nsga2_nbcpm   pos_nbcpm   -0.139    1.0  -5.1695  4.8915  False\n",
      " nsga3_lfpc nsga3_nbcpm   1.5706 0.9473  -3.4599  6.6011  False\n",
      " nsga3_lfpc    pos_lfpc  -3.6984 0.2855  -8.7289  1.3321  False\n",
      " nsga3_lfpc   pos_nbcpm  -1.4944 0.9572  -6.5249  3.5361  False\n",
      "nsga3_nbcpm    pos_lfpc   -5.269  0.034 -10.2995 -0.2385   True\n",
      "nsga3_nbcpm   pos_nbcpm   -3.065 0.5013  -8.0955  1.9655  False\n",
      "   pos_lfpc   pos_nbcpm    2.204 0.8081  -2.8265  7.2345  False\n",
      "---------------------------------------------------------------\n"
     ]
    }
   ],
   "source": [
    "ogd = oklahoma_gap_data.melt(var_name='algorithm', value_name='score') # Reshaping data for Tukey's HSD\n",
    "\n",
    "oklahoma_gap_data_tukey = pairwise_tukeyhsd(endog=ogd['score'], groups=ogd['algorithm'], alpha=0.05)\n",
    "print(oklahoma_gap_data_tukey)"
   ]
  },
  {
   "cell_type": "markdown",
   "id": "544e0f3a-4ca2-4fe9-9a9c-b0ed7f116c3d",
   "metadata": {},
   "source": [
    "# HyperVolume"
   ]
  },
  {
   "cell_type": "code",
   "execution_count": 6,
   "id": "be5f20da-9ca0-4a6f-b134-5c6922b0fe1d",
   "metadata": {},
   "outputs": [
    {
     "name": "stdout",
     "output_type": "stream",
     "text": [
      "Friedman Test Statistic: 141.61142857142863\n",
      "p-value: 8.130228480729989e-29\n",
      "There is a statistically significant difference among the algorithms.\n"
     ]
    }
   ],
   "source": [
    "data = [\n",
    "    oklahoma_hv_data['nsga2_nbcpm'], \n",
    "    oklahoma_hv_data['nsga2_lfpc'],\n",
    "    oklahoma_hv_data['nsga3_nbcpm'],\n",
    "    oklahoma_hv_data['nsga3_lfpc'],\n",
    "    oklahoma_hv_data['pos_nbcpm'],\n",
    "    oklahoma_hv_data['pos_lfpc'],]\n",
    "\n",
    "# Perform the Friedman test\n",
    "statistic, p_value = friedmanchisquare(*data)\n",
    "\n",
    "print(f\"Friedman Test Statistic: {statistic}\")\n",
    "print(f\"p-value: {p_value}\")\n",
    "\n",
    "if p_value < 0.05:\n",
    "    print(\"There is a statistically significant difference among the algorithms.\")\n",
    "else:\n",
    "    print(\"No statistically significant difference found.\")"
   ]
  },
  {
   "cell_type": "code",
   "execution_count": 7,
   "id": "30b92225-2319-4366-97fd-ed028d7c6397",
   "metadata": {},
   "outputs": [
    {
     "name": "stdout",
     "output_type": "stream",
     "text": [
      "     Multiple Comparison of Means - Tukey HSD, FWER=0.05      \n",
      "==============================================================\n",
      "   group1      group2   meandiff p-adj   lower   upper  reject\n",
      "--------------------------------------------------------------\n",
      " nsga2_lfpc nsga2_nbcpm  -0.0537 0.2951 -0.1275    0.02  False\n",
      " nsga2_lfpc  nsga3_lfpc  -0.1723    0.0 -0.2461 -0.0986   True\n",
      " nsga2_lfpc nsga3_nbcpm  -0.1752    0.0  -0.249 -0.1015   True\n",
      " nsga2_lfpc    pos_lfpc   0.0152 0.9915 -0.0585   0.089  False\n",
      " nsga2_lfpc   pos_nbcpm  -0.0578 0.2193 -0.1315   0.016  False\n",
      "nsga2_nbcpm  nsga3_lfpc  -0.1186 0.0001 -0.1923 -0.0449   True\n",
      "nsga2_nbcpm nsga3_nbcpm  -0.1215 0.0001 -0.1952 -0.0478   True\n",
      "nsga2_nbcpm    pos_lfpc    0.069 0.0818 -0.0048  0.1427  False\n",
      "nsga2_nbcpm   pos_nbcpm   -0.004    1.0 -0.0778  0.0697  False\n",
      " nsga3_lfpc nsga3_nbcpm  -0.0029    1.0 -0.0766  0.0708  False\n",
      " nsga3_lfpc    pos_lfpc   0.1876    0.0  0.1138  0.2613   True\n",
      " nsga3_lfpc   pos_nbcpm   0.1146 0.0002  0.0408  0.1883   True\n",
      "nsga3_nbcpm    pos_lfpc   0.1905    0.0  0.1167  0.2642   True\n",
      "nsga3_nbcpm   pos_nbcpm   0.1175 0.0001  0.0437  0.1912   True\n",
      "   pos_lfpc   pos_nbcpm   -0.073  0.054 -0.1467  0.0007  False\n",
      "--------------------------------------------------------------\n"
     ]
    }
   ],
   "source": [
    "ohvd = oklahoma_hv_data.melt(var_name='algorithm', value_name='score') # Reshaping data for Tukey's HSD\n",
    "\n",
    "oklahoma_hv_data_tukey = pairwise_tukeyhsd(endog=ohvd['score'], groups=ohvd['algorithm'], alpha=0.05)\n",
    "print(oklahoma_hv_data_tukey)"
   ]
  },
  {
   "cell_type": "markdown",
   "id": "56f9d80b-6164-4ffe-9189-dddb14e33b10",
   "metadata": {},
   "source": [
    "# Uniform Distribution"
   ]
  },
  {
   "cell_type": "code",
   "execution_count": 8,
   "id": "a0a25d85-c863-42ec-a7a7-4cd63f573bc7",
   "metadata": {},
   "outputs": [
    {
     "name": "stdout",
     "output_type": "stream",
     "text": [
      "Friedman Test Statistic: 16.674285714285816\n",
      "p-value: 0.005160799366379099\n",
      "There is a statistically significant difference among the algorithms.\n"
     ]
    }
   ],
   "source": [
    "data = [\n",
    "    oklahoma_ud_data['nsga2_nbcpm'], \n",
    "    oklahoma_ud_data['nsga2_lfpc'],\n",
    "    oklahoma_ud_data['nsga3_nbcpm'],\n",
    "    oklahoma_ud_data['nsga3_lfpc'],\n",
    "    oklahoma_ud_data['pos_nbcpm'],\n",
    "    oklahoma_ud_data['pos_lfpc'],]\n",
    "\n",
    "# Perform the Friedman test\n",
    "statistic, p_value = friedmanchisquare(*data)\n",
    "\n",
    "print(f\"Friedman Test Statistic: {statistic}\")\n",
    "print(f\"p-value: {p_value}\")\n",
    "\n",
    "if p_value < 0.05:\n",
    "    print(\"There is a statistically significant difference among the algorithms.\")\n",
    "else:\n",
    "    print(\"No statistically significant difference found.\")"
   ]
  },
  {
   "cell_type": "code",
   "execution_count": 9,
   "id": "161e836c-704a-4d73-821e-009b9219e618",
   "metadata": {},
   "outputs": [
    {
     "name": "stdout",
     "output_type": "stream",
     "text": [
      "     Multiple Comparison of Means - Tukey HSD, FWER=0.05     \n",
      "=============================================================\n",
      "   group1      group2   meandiff p-adj   lower  upper  reject\n",
      "-------------------------------------------------------------\n",
      " nsga2_lfpc nsga2_nbcpm   0.0082  0.972 -0.0223 0.0387  False\n",
      " nsga2_lfpc  nsga3_lfpc   0.0255  0.159  -0.005  0.056  False\n",
      " nsga2_lfpc nsga3_nbcpm   0.0181 0.5316 -0.0124 0.0486  False\n",
      " nsga2_lfpc    pos_lfpc    0.016 0.6636 -0.0145 0.0464  False\n",
      " nsga2_lfpc   pos_nbcpm   0.0016    1.0 -0.0289 0.0321  False\n",
      "nsga2_nbcpm  nsga3_lfpc   0.0173 0.5795 -0.0132 0.0478  False\n",
      "nsga2_nbcpm nsga3_nbcpm   0.0099 0.9385 -0.0206 0.0404  False\n",
      "nsga2_nbcpm    pos_lfpc   0.0078 0.9782 -0.0227 0.0382  False\n",
      "nsga2_nbcpm   pos_nbcpm  -0.0066 0.9894 -0.0371 0.0239  False\n",
      " nsga3_lfpc nsga3_nbcpm  -0.0074 0.9819 -0.0379  0.023  False\n",
      " nsga3_lfpc    pos_lfpc  -0.0096 0.9463   -0.04 0.0209  False\n",
      " nsga3_lfpc   pos_nbcpm  -0.0239  0.218 -0.0544 0.0066  False\n",
      "nsga3_nbcpm    pos_lfpc  -0.0021    1.0 -0.0326 0.0284  False\n",
      "nsga3_nbcpm   pos_nbcpm  -0.0165 0.6314  -0.047  0.014  False\n",
      "   pos_lfpc   pos_nbcpm  -0.0144 0.7562 -0.0448 0.0161  False\n",
      "-------------------------------------------------------------\n"
     ]
    }
   ],
   "source": [
    "oudd = oklahoma_ud_data.melt(var_name='algorithm', value_name='score') # Reshaping data for Tukey's HSD\n",
    "\n",
    "oklahoma_ud_data_tukey = pairwise_tukeyhsd(endog=oudd['score'], groups=oudd['algorithm'], alpha=0.05)\n",
    "print(oklahoma_ud_data_tukey)"
   ]
  },
  {
   "cell_type": "markdown",
   "id": "6ec45acf-7641-4199-b186-5deb03a949ef",
   "metadata": {},
   "source": [
    "# RNI"
   ]
  },
  {
   "cell_type": "code",
   "execution_count": 10,
   "id": "52fb7371-753e-4904-a9e7-fe145f998bc6",
   "metadata": {},
   "outputs": [
    {
     "name": "stdout",
     "output_type": "stream",
     "text": [
      "Friedman Test Statistic: 138.54603729603724\n",
      "p-value: 3.6449350666873725e-28\n",
      "There is a statistically significant difference among the algorithms.\n"
     ]
    }
   ],
   "source": [
    "data = [\n",
    "    oklahoma_rni_data['nsga2_nbcpm'], \n",
    "    oklahoma_rni_data['nsga2_lfpc'],\n",
    "    oklahoma_rni_data['nsga3_nbcpm'],\n",
    "    oklahoma_rni_data['nsga3_lfpc'],\n",
    "    oklahoma_rni_data['pos_nbcpm'],\n",
    "    oklahoma_rni_data['pos_lfpc'],]\n",
    "\n",
    "# Perform the Friedman test\n",
    "statistic, p_value = friedmanchisquare(*data)\n",
    "\n",
    "print(f\"Friedman Test Statistic: {statistic}\")\n",
    "print(f\"p-value: {p_value}\")\n",
    "\n",
    "if p_value < 0.05:\n",
    "    print(\"There is a statistically significant difference among the algorithms.\")\n",
    "else:\n",
    "    print(\"No statistically significant difference found.\")"
   ]
  },
  {
   "cell_type": "code",
   "execution_count": 11,
   "id": "d0fc8e1b-4a44-41b1-b7f0-7ef8b747e127",
   "metadata": {},
   "outputs": [
    {
     "name": "stdout",
     "output_type": "stream",
     "text": [
      "     Multiple Comparison of Means - Tukey HSD, FWER=0.05      \n",
      "==============================================================\n",
      "   group1      group2   meandiff p-adj   lower   upper  reject\n",
      "--------------------------------------------------------------\n",
      " nsga2_lfpc nsga2_nbcpm  -0.0359 0.6397  -0.103  0.0311  False\n",
      " nsga2_lfpc  nsga3_lfpc  -0.2234    0.0 -0.2905 -0.1564   True\n",
      " nsga2_lfpc nsga3_nbcpm  -0.2326    0.0 -0.2996 -0.1655   True\n",
      " nsga2_lfpc    pos_lfpc  -0.0166 0.9807 -0.0836  0.0505  False\n",
      " nsga2_lfpc   pos_nbcpm  -0.0535 0.2023 -0.1205  0.0136  False\n",
      "nsga2_nbcpm  nsga3_lfpc  -0.1875    0.0 -0.2545 -0.1205   True\n",
      "nsga2_nbcpm nsga3_nbcpm  -0.1966    0.0 -0.2637 -0.1296   True\n",
      "nsga2_nbcpm    pos_lfpc   0.0194  0.962 -0.0477  0.0864  False\n",
      "nsga2_nbcpm   pos_nbcpm  -0.0175 0.9754 -0.0845  0.0495  False\n",
      " nsga3_lfpc nsga3_nbcpm  -0.0091 0.9988 -0.0762  0.0579  False\n",
      " nsga3_lfpc    pos_lfpc   0.2069    0.0  0.1398  0.2739   True\n",
      " nsga3_lfpc   pos_nbcpm     0.17    0.0   0.103   0.237   True\n",
      "nsga3_nbcpm    pos_lfpc    0.216    0.0   0.149   0.283   True\n",
      "nsga3_nbcpm   pos_nbcpm   0.1791    0.0  0.1121  0.2461   True\n",
      "   pos_lfpc   pos_nbcpm  -0.0369 0.6134 -0.1039  0.0301  False\n",
      "--------------------------------------------------------------\n"
     ]
    }
   ],
   "source": [
    "ornid = oklahoma_rni_data.melt(var_name='algorithm', value_name='score') # Reshaping data for Tukey's HSD\n",
    "\n",
    "oklahoma_rni_data_tukey = pairwise_tukeyhsd(endog=ornid['score'], groups=ornid['algorithm'], alpha=0.05)\n",
    "print(oklahoma_rni_data_tukey)"
   ]
  },
  {
   "cell_type": "markdown",
   "id": "72cea68f-146a-41d3-8a9d-8a6d671da0aa",
   "metadata": {},
   "source": [
    "# Computation Tine"
   ]
  },
  {
   "cell_type": "code",
   "execution_count": 12,
   "id": "037463c0-5ec4-42b5-b789-c07e43130a43",
   "metadata": {},
   "outputs": [
    {
     "name": "stdout",
     "output_type": "stream",
     "text": [
      "Friedman Test Statistic: 209.58452722063035\n",
      "p-value: 2.5255579547663214e-43\n",
      "There is a statistically significant difference among the algorithms.\n"
     ]
    }
   ],
   "source": [
    "data = [\n",
    "    oklahoma_ct_data['nsga2_nbcpm'], \n",
    "    oklahoma_ct_data['nsga2_lfpc'],\n",
    "    oklahoma_ct_data['nsga3_nbcpm'],\n",
    "    oklahoma_ct_data['nsga3_lfpc'],\n",
    "    oklahoma_ct_data['pos_nbcpm'],\n",
    "    oklahoma_ct_data['pos_lfpc'],]\n",
    "\n",
    "# Perform the Friedman test\n",
    "statistic, p_value = friedmanchisquare(*data)\n",
    "\n",
    "print(f\"Friedman Test Statistic: {statistic}\")\n",
    "print(f\"p-value: {p_value}\")\n",
    "\n",
    "if p_value < 0.05:\n",
    "    print(\"There is a statistically significant difference among the algorithms.\")\n",
    "else:\n",
    "    print(\"No statistically significant difference found.\")"
   ]
  },
  {
   "cell_type": "code",
   "execution_count": 13,
   "id": "63681f73-cbf6-416d-b69e-ee3a8b11346e",
   "metadata": {},
   "outputs": [
    {
     "name": "stdout",
     "output_type": "stream",
     "text": [
      "     Multiple Comparison of Means - Tukey HSD, FWER=0.05      \n",
      "==============================================================\n",
      "   group1      group2   meandiff p-adj   lower   upper  reject\n",
      "--------------------------------------------------------------\n",
      " nsga2_lfpc nsga2_nbcpm  -4.6442    0.0 -5.1797 -4.1087   True\n",
      " nsga2_lfpc  nsga3_lfpc   0.1476  0.969 -0.3879  0.6831  False\n",
      " nsga2_lfpc nsga3_nbcpm  -4.5694    0.0 -5.1049 -4.0339   True\n",
      " nsga2_lfpc    pos_lfpc   0.2908  0.627 -0.2447  0.8263  False\n",
      " nsga2_lfpc   pos_nbcpm  -4.7814    0.0 -5.3169 -4.2459   True\n",
      "nsga2_nbcpm  nsga3_lfpc   4.7918    0.0  4.2563  5.3273   True\n",
      "nsga2_nbcpm nsga3_nbcpm   0.0748 0.9987 -0.4607  0.6103  False\n",
      "nsga2_nbcpm    pos_lfpc    4.935    0.0  4.3995  5.4705   True\n",
      "nsga2_nbcpm   pos_nbcpm  -0.1372 0.9774 -0.6727  0.3983  False\n",
      " nsga3_lfpc nsga3_nbcpm   -4.717    0.0 -5.2525 -4.1815   True\n",
      " nsga3_lfpc    pos_lfpc   0.1432 0.9728 -0.3923  0.6787  False\n",
      " nsga3_lfpc   pos_nbcpm   -4.929    0.0 -5.4645 -4.3935   True\n",
      "nsga3_nbcpm    pos_lfpc   4.8602    0.0  4.3247  5.3957   True\n",
      "nsga3_nbcpm   pos_nbcpm   -0.212 0.8662 -0.7475  0.3235  False\n",
      "   pos_lfpc   pos_nbcpm  -5.0722    0.0 -5.6077 -4.5367   True\n",
      "--------------------------------------------------------------\n"
     ]
    }
   ],
   "source": [
    "octd = oklahoma_ct_data.melt(var_name='algorithm', value_name='score') # Reshaping data for Tukey's HSD\n",
    "\n",
    "oklahoma_ct_data_tukey = pairwise_tukeyhsd(endog=octd['score'], groups=octd['algorithm'], alpha=0.05)\n",
    "print(oklahoma_ct_data_tukey)"
   ]
  },
  {
   "cell_type": "markdown",
   "id": "ba96ef8b-3f44-4d18-b5be-ee09282bd22f",
   "metadata": {},
   "source": [
    "# Percentage of Unique Solutions (%)"
   ]
  },
  {
   "cell_type": "code",
   "execution_count": 14,
   "id": "717aed36-31ce-417e-83d7-73ecea0793c7",
   "metadata": {},
   "outputs": [
    {
     "name": "stdout",
     "output_type": "stream",
     "text": [
      "Friedman Test Statistic: 232.65884373211216\n",
      "p-value: 2.8791215094360336e-48\n",
      "There is a statistically significant difference among the algorithms.\n"
     ]
    }
   ],
   "source": [
    "data = [\n",
    "    oklahoma_eval_data['nsga2_nbcpm'], \n",
    "    oklahoma_eval_data['nsga2_lfpc'],\n",
    "    oklahoma_eval_data['nsga3_nbcpm'],\n",
    "    oklahoma_eval_data['nsga3_lfpc'],\n",
    "    oklahoma_eval_data['pos_nbcpm'],\n",
    "    oklahoma_eval_data['pos_lfpc'],]\n",
    "\n",
    "# Perform the Friedman test\n",
    "statistic, p_value = friedmanchisquare(*data)\n",
    "\n",
    "print(f\"Friedman Test Statistic: {statistic}\")\n",
    "print(f\"p-value: {p_value}\")\n",
    "\n",
    "if p_value < 0.05:\n",
    "    print(\"There is a statistically significant difference among the algorithms.\")\n",
    "else:\n",
    "    print(\"No statistically significant difference found.\")"
   ]
  },
  {
   "cell_type": "code",
   "execution_count": 15,
   "id": "c7c2d8db-6a13-4cba-adbc-af61e16c5276",
   "metadata": {},
   "outputs": [
    {
     "name": "stdout",
     "output_type": "stream",
     "text": [
      "      Multiple Comparison of Means - Tukey HSD, FWER=0.05       \n",
      "================================================================\n",
      "   group1      group2   meandiff p-adj   lower    upper   reject\n",
      "----------------------------------------------------------------\n",
      " nsga2_lfpc nsga2_nbcpm -29.1588    0.0 -33.5732 -24.7444   True\n",
      " nsga2_lfpc  nsga3_lfpc    4.648 0.0325   0.2336   9.0624   True\n",
      " nsga2_lfpc nsga3_nbcpm -21.9762    0.0 -26.3906 -17.5618   True\n",
      " nsga2_lfpc    pos_lfpc   1.5696  0.911  -2.8448    5.984  False\n",
      " nsga2_lfpc   pos_nbcpm -29.0802    0.0 -33.4946 -24.6658   True\n",
      "nsga2_nbcpm  nsga3_lfpc  33.8068    0.0  29.3924  38.2212   True\n",
      "nsga2_nbcpm nsga3_nbcpm   7.1826 0.0001   2.7682   11.597   True\n",
      "nsga2_nbcpm    pos_lfpc  30.7284    0.0   26.314  35.1428   True\n",
      "nsga2_nbcpm   pos_nbcpm   0.0786    1.0  -4.3358    4.493  False\n",
      " nsga3_lfpc nsga3_nbcpm -26.6242    0.0 -31.0386 -22.2098   True\n",
      " nsga3_lfpc    pos_lfpc  -3.0784 0.3445  -7.4928    1.336  False\n",
      " nsga3_lfpc   pos_nbcpm -33.7282    0.0 -38.1426 -29.3138   True\n",
      "nsga3_nbcpm    pos_lfpc  23.5458    0.0  19.1314  27.9602   True\n",
      "nsga3_nbcpm   pos_nbcpm   -7.104 0.0001 -11.5184  -2.6896   True\n",
      "   pos_lfpc   pos_nbcpm -30.6498    0.0 -35.0642 -26.2354   True\n",
      "----------------------------------------------------------------\n"
     ]
    }
   ],
   "source": [
    "oevald = oklahoma_eval_data.melt(var_name='algorithm', value_name='score') # Reshaping data for Tukey's HSD\n",
    "\n",
    "oklahoma_eval_data_tukey = pairwise_tukeyhsd(endog=oevald['score'], groups=oevald['algorithm'], alpha=0.05)\n",
    "print(oklahoma_eval_data_tukey)"
   ]
  },
  {
   "cell_type": "code",
   "execution_count": null,
   "id": "0e46b57e-cb16-4cce-8229-b82c55b2ac68",
   "metadata": {},
   "outputs": [],
   "source": []
  },
  {
   "cell_type": "code",
   "execution_count": null,
   "id": "83f10681-9339-4faf-9240-06633478948c",
   "metadata": {},
   "outputs": [],
   "source": []
  },
  {
   "cell_type": "code",
   "execution_count": null,
   "id": "a2943e32-b461-431c-be6d-da03ae7f4da6",
   "metadata": {},
   "outputs": [],
   "source": []
  },
  {
   "cell_type": "code",
   "execution_count": null,
   "id": "99d8dcfe-ccae-4d47-a578-ea0516049fc7",
   "metadata": {},
   "outputs": [],
   "source": []
  }
 ],
 "metadata": {
  "kernelspec": {
   "display_name": "Python 3 (ipykernel)",
   "language": "python",
   "name": "python3"
  },
  "language_info": {
   "codemirror_mode": {
    "name": "ipython",
    "version": 3
   },
   "file_extension": ".py",
   "mimetype": "text/x-python",
   "name": "python",
   "nbconvert_exporter": "python",
   "pygments_lexer": "ipython3",
   "version": "3.9.6"
  }
 },
 "nbformat": 4,
 "nbformat_minor": 5
}
