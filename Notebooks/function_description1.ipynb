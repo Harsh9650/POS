{
 "cells": [
  {
   "cell_type": "code",
   "execution_count": 1,
   "id": "6580832f-e11c-4b5b-8da0-88e0782d8462",
   "metadata": {},
   "outputs": [],
   "source": [
    "import time\n",
    "import random\n",
    "import pandas as pd\n",
    "import networkx as nx\n",
    "from mcrs.multi_feature_graph import multi_feature_graph"
   ]
  },
  {
   "cell_type": "code",
   "execution_count": 2,
   "id": "48e9a35b-6df9-4079-b646-91ac91f87562",
   "metadata": {},
   "outputs": [],
   "source": [
    "def initialization(nodes_with_connection, source_node, target_node):  # random initialization.\n",
    "    if str(source_node) == str(target_node):\n",
    "        return str(source_node)\n",
    "    else:\n",
    "        current_node = source_node\n",
    "        path = []\n",
    "        path.append(source_node)\n",
    "        while current_node != target_node:\n",
    "            ls = list(nodes_with_connection[current_node].keys())\n",
    "            next = random.choice(ls)        \n",
    "            path.append(next) \n",
    "            current_node = next\n",
    "    return path\n",
    "    \n",
    "\n",
    "def firstDuplicate(a):\n",
    "    set_ = set()\n",
    "    for item in a:\n",
    "        if item in set_:\n",
    "            return item\n",
    "        set_.add(item)\n",
    "    return -1\n",
    "    \n",
    "\n",
    "def mending_function(individual):\n",
    "    while firstDuplicate(individual) != -1:\n",
    "        duplicate = firstDuplicate(individual)\n",
    "        first = min(i for i, val in enumerate(individual) if val == duplicate)\n",
    "        last = max(i for i, val in enumerate(individual) if val == duplicate)\n",
    "        del individual[first:last]\n",
    "    return individual\n",
    "    \n",
    "\n",
    "def Path_Length(path, graph_network):\n",
    "    edge_weights = nx.get_edge_attributes(graph_network, 'weight')\n",
    "    path_length = 0\n",
    "    for k in range(len(path) - 1):\n",
    "        edge = (path[k], path[k+1])\n",
    "        reverse_edge = (path[k+1], path[k])\n",
    "        if edge in edge_weights:\n",
    "            path_length += edge_weights[edge]\n",
    "        else:\n",
    "            path_length += edge_weights[reverse_edge]\n",
    "    return path_length"
   ]
  },
  {
   "cell_type": "code",
   "execution_count": null,
   "id": "7d990190-911d-4840-bb40-22b0f268b097",
   "metadata": {
    "scrolled": true
   },
   "outputs": [],
   "source": [
    "random.seed(42)\n",
    "\n",
    "network_edge_list = \"Networks/graph_format/texas.xlsx\"\n",
    "dataset = pd.read_excel(network_edge_list)\n",
    "network, nodes_with_connection, amenity_record = multi_feature_graph(dataset = dataset, amenity_count = 3, plt_size = (10, 10), node_size = 3)"
   ]
  },
  {
   "cell_type": "code",
   "execution_count": null,
   "id": "2f4e75b5-c72f-4c5d-8a94-5f92e292d785",
   "metadata": {},
   "outputs": [],
   "source": [
    "network.number_of_nodes()"
   ]
  },
  {
   "cell_type": "markdown",
   "id": "7502a4e4-05b5-46c6-bc2f-b93f309f8696",
   "metadata": {},
   "source": [
    "# The total number of nodes in our network is 10,886, so the source and target nodes must be between 0 and 10,885, and they must not be the same."
   ]
  },
  {
   "cell_type": "code",
   "execution_count": null,
   "id": "6a7a5489-29fe-45f5-b1b4-798de9f65658",
   "metadata": {
    "scrolled": true
   },
   "outputs": [],
   "source": [
    "example_path = initialization(nodes_with_connection, source_node = 376, target_node = 2199) # example\n",
    "example_path"
   ]
  },
  {
   "cell_type": "code",
   "execution_count": null,
   "id": "0d9041f3-74fe-4a91-91d6-8e12ed50b0a2",
   "metadata": {},
   "outputs": [],
   "source": [
    "len(example_path)"
   ]
  },
  {
   "cell_type": "markdown",
   "id": "35455ec1-b6be-4c2d-b0c3-d797e42a3f9f",
   "metadata": {},
   "source": [
    "# Now, we will eliminate the duplicates from our path using the mending function and verify the results."
   ]
  },
  {
   "cell_type": "code",
   "execution_count": null,
   "id": "4e1cf81b-e6f5-4716-a412-8718b0de09a4",
   "metadata": {
    "scrolled": true
   },
   "outputs": [],
   "source": [
    "without_duplicate_path = mending_function(example_path)\n",
    "without_duplicate_path"
   ]
  },
  {
   "cell_type": "code",
   "execution_count": null,
   "id": "8b1c5fc7-5e94-4d01-97ff-43a0b65374c0",
   "metadata": {},
   "outputs": [],
   "source": [
    "len(without_duplicate_path)"
   ]
  },
  {
   "cell_type": "markdown",
   "id": "66076526-c33e-4761-a706-5b31d6f69e31",
   "metadata": {},
   "source": [
    "# So, from a path with a total of 7067 nodes, only 175 were without a loop."
   ]
  },
  {
   "cell_type": "code",
   "execution_count": null,
   "id": "17bc6e1e-f0f2-4000-85e3-2d8afc76e81b",
   "metadata": {},
   "outputs": [],
   "source": [
    "with_duplicate_length = Path_Length(example_path, network)\n",
    "\n",
    "without_duplicate_length = Path_Length(without_duplicate_path, network)\n",
    "\n",
    "with_duplicate_length == without_duplicate_length"
   ]
  },
  {
   "cell_type": "code",
   "execution_count": null,
   "id": "a9e0ee8b-9be4-4147-8dd2-b4e1fff9897b",
   "metadata": {},
   "outputs": [],
   "source": [
    "with_duplicate_length, without_duplicate_length"
   ]
  },
  {
   "cell_type": "code",
   "execution_count": null,
   "id": "1d9e0ebd-d7e6-4b47-ad0e-4d55572aa208",
   "metadata": {},
   "outputs": [],
   "source": []
  },
  {
   "cell_type": "code",
   "execution_count": null,
   "id": "85867d82-0dfa-4c37-90ff-636a90330efd",
   "metadata": {},
   "outputs": [],
   "source": []
  },
  {
   "cell_type": "code",
   "execution_count": null,
   "id": "d428e589-f8a4-41e4-8a1e-bf34d52368a1",
   "metadata": {},
   "outputs": [],
   "source": []
  },
  {
   "cell_type": "code",
   "execution_count": null,
   "id": "c07693bc-1522-498b-8b23-af637515848a",
   "metadata": {},
   "outputs": [],
   "source": []
  },
  {
   "cell_type": "code",
   "execution_count": null,
   "id": "6b7729d2-d0a4-42c1-98ff-37cda930d0ef",
   "metadata": {},
   "outputs": [],
   "source": []
  },
  {
   "cell_type": "code",
   "execution_count": null,
   "id": "46708a83-966f-4825-b8e3-5d26386cb358",
   "metadata": {},
   "outputs": [],
   "source": []
  },
  {
   "cell_type": "code",
   "execution_count": null,
   "id": "eed8705d-1095-4e7a-91dd-ef9fc27584cc",
   "metadata": {},
   "outputs": [],
   "source": []
  }
 ],
 "metadata": {
  "kernelspec": {
   "display_name": "Python 3 (ipykernel)",
   "language": "python",
   "name": "python3"
  },
  "language_info": {
   "codemirror_mode": {
    "name": "ipython",
    "version": 3
   },
   "file_extension": ".py",
   "mimetype": "text/x-python",
   "name": "python",
   "nbconvert_exporter": "python",
   "pygments_lexer": "ipython3",
   "version": "3.9.6"
  }
 },
 "nbformat": 4,
 "nbformat_minor": 5
}
