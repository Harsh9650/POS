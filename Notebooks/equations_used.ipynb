{
 "cells": [
  {
   "cell_type": "markdown",
   "id": "7a85ff56-18f3-45df-be4b-fa48741651b3",
   "metadata": {},
   "source": [
    "# In our study, we present a total of 20 equations. In this notebook, we will explain each of the equations and provide references where applicable, particularly if they are derived from other research work."
   ]
  },
  {
   "cell_type": "markdown",
   "id": "6a6d8aaf-095a-4829-9b78-84a0a014ea0a",
   "metadata": {},
   "source": [
    "# ***Equation-1***"
   ]
  },
  {
   "cell_type": "markdown",
   "id": "2921a1ee-1cbc-48aa-bc90-4057c97b0956",
   "metadata": {},
   "source": [
    "\\begin{equation}\n",
    "\\begin{split}\n",
    "\\forall i \\in \\{1, 2, \\ldots, n\\}: & \\quad f_i(a) \\geq f_i(b) \\quad \\land \\\\\n",
    "\\exists j \\in \\{1, 2, \\ldots, n\\}: & \\quad f_j(a) > f_j(b)\n",
    "\\end{split}\n",
    "\\end{equation}"
   ]
  },
  {
   "attachments": {},
   "cell_type": "markdown",
   "id": "0cdd82bc-7d09-42b1-a09a-830a622d02d1",
   "metadata": {},
   "source": [
    "# For a maximisation problem, solution (a) dominates solution (b), if the condition specified in Equation-1 is satisfied. Here, n represents the total number of objectives, $f(a)$ and $f(b)$ represents the fitness value of solutions (a) and (b) for the $i$th and $j$th objectives, respectively [1].\n",
    "\n",
    "[1] Zitzler, E. and Thiele, L., 1999. Multiobjective evolutionary algorithms: a comparative case study and the strength Pareto approach. IEEE transactions on Evolutionary Computation, 3(4), pp.257-271."
   ]
  },
  {
   "cell_type": "markdown",
   "id": "89517484-5279-4e42-8d84-7f3894291cea",
   "metadata": {},
   "source": [
    "# ***Equation-2***"
   ]
  },
  {
   "cell_type": "markdown",
   "id": "525cf636-89ed-46eb-b52a-bcd418badd2d",
   "metadata": {},
   "source": [
    "\\begin{equation} \n",
    "cd(i) = \\sum^{i=1}_{N} \\frac{f_j^{i+1}-f_j^{i-1}}{f_j^{max}-f_j^{min}} \n",
    "\\end{equation} "
   ]
  },
  {
   "cell_type": "markdown",
   "id": "9780b47c-3d61-4e26-b832-4c82f4a24499",
   "metadata": {},
   "source": [
    "# This Equation represents the crowding distance metric that was proposed in NSGA-II. It was proposed to the sort solutions belonging to the same front. The key idea in this equation is to promote solutions that has the highest crowding distance (less crowded in the solution space)."
   ]
  },
  {
   "cell_type": "markdown",
   "id": "d64f6024-a3b2-4a21-843d-fd5f675c851a",
   "metadata": {},
   "source": [
    "# ***Equation-3***"
   ]
  },
  {
   "cell_type": "markdown",
   "id": "b95ec37c-78bc-434f-8537-18a0df505e96",
   "metadata": {},
   "source": [
    "\\begin{equation} \n",
    "H  = \\binom{M + p - 1}{p} \n",
    "\\end{equation}"
   ]
  },
  {
   "cell_type": "markdown",
   "id": "9cfbd04f-7e52-4856-ab1c-88afb7009409",
   "metadata": {},
   "source": [
    "# This equation was used in NSGA-III to determine the number of reference points for a particular problem. In the equation, $M$ reprsents the number of objectives and $p$ represents the number of divisions. The equation is a combinatorial formula. For example: we are working with 4 objectives and used 7 divisions. Therefore, $M$ equals 4 and $p$ equals 7. Using Equation-4, the number of reference points (H) will be $C^{10}_{7}$, which equals 120.\n",
    "\n",
    "NSGA-III: Deb, K. and Jain, H., 2013. An evolutionary many-objective optimization algorithm using reference-point-based nondominated sorting approach, part I: solving problems with box constraints. IEEE transactions on evolutionary computation, 18(4), pp.577-601."
   ]
  },
  {
   "cell_type": "markdown",
   "id": "aea974e3-57ad-490c-bb5d-bdb97604f67f",
   "metadata": {},
   "source": [
    "# ***Equation- (4, 5, 6, 7, 8, 9)***"
   ]
  },
  {
   "cell_type": "markdown",
   "id": "61dd6d68-8cd9-4e4b-9a63-ab0d85fbaa9d",
   "metadata": {},
   "source": [
    "\\begin{equation}\n",
    "f_i = \\frac{1}{RL_i}    \n",
    "\\end{equation}\n",
    "\n",
    "\n",
    "\\begin{equation}\n",
    "RL_{i} = \\sum^{l_i - 1}_{j = 1}W_{g_i(j),g_i(j+1)} \n",
    "\\end{equation}\n",
    "\n",
    "\n",
    "\n",
    "\\begin{equation}\n",
    "pd_i(j) =\n",
    "\\begin{cases}\n",
    "    \\displaystyle\\frac{c_i(j) + \\sqrt{d_i(j)}}{RL_i^{k/2}}, & \\text{if } n \\geq 1, \\\\\n",
    "    0, & \\text{otherwise.}\n",
    "\\end{cases}\n",
    "\\end{equation}\n",
    "\n",
    "\n",
    "\\begin{equation} \n",
    "d_i(j) = \n",
    "\\left\\{\n",
    "    \\begin{array}{lr}\n",
    "        \\displaystyle {{s_i(j+1)} - {s_i(j-1)}}, &  \\text{if } n > 1\\\\\n",
    "        \\displaystyle {RL_i}, &  \\text{if } n =  1\\\\\n",
    "       \\displaystyle 0, &   \\text{Otherwise}\n",
    "    \\end{array}\n",
    "\\right\\} \n",
    "\\end{equation}\n",
    "\n",
    "\n",
    "\\begin{equation} \n",
    "c_i(j) = \n",
    "\\left\\{\n",
    "    \\begin{array}{lr}\n",
    "        \\displaystyle {{RL_i} - {s_i(j)}} , &    \\text{if } n\\geq 1\\\\\n",
    "       \\displaystyle 0, &  \\text{Otherwise}\n",
    "    \\end{array}\n",
    "\\right\\} \n",
    "\\end{equation}\n",
    "\n",
    "\n",
    "\\begin{equation}\n",
    "f_{i} = \n",
    "\\left\\{\n",
    "    \\begin{array}{lr}\n",
    "       \\displaystyle \\sum^{n}_{j=1}{pd_i(j)} , &   \\text{if } n\\geq 1\\\\\n",
    "    \\displaystyle 0, &  \\text{Otherwise}\n",
    "    \\end{array}\n",
    "\\right\\} \n",
    "\\end{equation}"
   ]
  },
  {
   "cell_type": "markdown",
   "id": "7d180ced-51df-4c33-8b22-0dd4786caab3",
   "metadata": {},
   "source": [
    "# ***Equation- 4, 5***"
   ]
  },
  {
   "cell_type": "markdown",
   "id": "5ba274ce-5b9f-4e42-a8b7-234e0b8adcee",
   "metadata": {},
   "source": [
    "# Path length is one of the objectives in our study. For simplicity, we converted our problem into a maximization problem by using inverse of path length as the objective to maximise. In Equation 10, $f_i$ represents the fitness and $RL_i$ represents the length of the $i$th route defined using Equation 11. $RL_i$ represents the sum of edges between two consecutive nodes in the $i$th route route."
   ]
  },
  {
   "cell_type": "markdown",
   "id": "fd06b416-8682-492b-968d-47da4c0110ae",
   "metadata": {},
   "source": [
    "# It is important to understand that the factor of k (set to 5) was introduced as a penalty coefficient to effectively discourage overly long paths in the optimization process. It is calibrated to ensure that the penalty is neither too weak, which would allow excessively long paths, nor too strong, which might overly constrain the search space. It was derived after after extensive experimentation and analysis. A simpler example is provided in Table 2."
   ]
  },
  {
   "cell_type": "markdown",
   "id": "7d0466cb-2e5c-4b71-9503-997d58c34a53",
   "metadata": {},
   "source": [
    "# ***Equation- 10, 11, 12, 13, 14***"
   ]
  },
  {
   "cell_type": "markdown",
   "id": "0a9d180a-4c0b-4797-beba-9624771afd4e",
   "metadata": {},
   "source": [
    "# Equation-10: $P$ represents an adjaceny matrix equation, where $P_{ij}$ will get a value of 1, only if an edge between $E_{ij}$ exist in path $p$. \n",
    "\n",
    "# Equation-11: Indicates the overall path length |p|, as the sum of weights of all edges between the source S and target T nodes.\n",
    "\n",
    "# Equation-12: The equation enforces that the net flow at each node is exactly 1. This means that for each node in the graph, the difference between the number of outgoing edges and the number of incoming edges must equal 1. \n",
    "\n",
    "# Equation-13: The net flow of -1 at node $T$ indicates that there is exactly one path leaving node $T$ and no paths entering node $T$. This is used to model scenarios where $T$ is a terminal or end node in a path.\n",
    "\n",
    "# Equation-14: This represents that no intermediate loops are allowed. For example, consider the path S-4-5-6-4-7-9-T. In this path, there is an intermediate loop (4-5-6-4). We eliminate this loop using our mending function.\n",
    "\n",
    "\n",
    "Similar equations are used in\n",
    "1) Chitra, C. and Subbaraj, P., 2012. A nondominated sorting genetic algorithm solution for shortest path routing problem in computer networks. Expert systems with applications, 39(1), pp.1518-1525.\n",
    "2) Ahn, C.W. and Ramakrishna, R.S., 2002. A genetic algorithm for shortest path routing problem and the sizing of populations. IEEE transactions on evolutionary computation, 6(6), pp.566-579."
   ]
  },
  {
   "cell_type": "markdown",
   "id": "748ffb5f-9c7f-4fec-9fe9-770c4d364566",
   "metadata": {},
   "source": [
    "\\begin{equation}\n",
    "P_{i,j} = \n",
    "\\left\\{\n",
    "    \\begin{array}{lr}\n",
    "        1, &   E_{i,j} \\in p \\\\   \n",
    "        0, &  E_{i,j} \\notin p\n",
    "    \\end{array}                                                                                     \n",
    "\\right\\} \n",
    "\\end{equation}\n",
    "\n",
    "\\begin{equation} \n",
    "|p| = \\sum^{T}_{i = S}\\sum^{T}_{j = S}P_{ij}W_{ij},  i \\neq j                                                      \n",
    "\\end{equation}\n",
    "\n",
    "\n",
    "\\begin{equation} \n",
    "\\sum^{i=S}_{(i,j) \\in N} P_{i,j} - \\sum^{i=S}_{(i,j) \\in N} P_{j,i} = 1                              \n",
    "\\end{equation}\n",
    "\n",
    "\n",
    "\\begin{equation} \n",
    "\\sum^{i=T}_{(i,j) \\in N} P_{i,j} - \\sum^{i=T}_{(i,j) \\in N} P_{j,i} = -1                             \n",
    "\\end{equation}\n",
    "\n",
    "\n",
    "\\begin{equation} \n",
    "\\sum^{i \\neq (S,T)}_{(i,j) \\in N} P_{i,j} - \\sum^{i \\neq (S,T)}_{(i,j) \\in N} P_{j,i} = 0              \n",
    "\\end{equation}"
   ]
  },
  {
   "cell_type": "markdown",
   "id": "abf25512-9d35-4b51-8a32-8d0e4234b648",
   "metadata": {},
   "source": [
    "# ***Equation- 15***"
   ]
  },
  {
   "cell_type": "markdown",
   "id": "f26a239b-b9b4-4dd0-921a-44c5bba5c29f",
   "metadata": {},
   "source": [
    "\\begin{equation} \n",
    "RNI  = \\frac{\\text{Number of Non-dominated Individuals}}{\\text{Total Number of Individuals}} \n",
    "\\end{equation}"
   ]
  },
  {
   "cell_type": "markdown",
   "id": "528b5293-e1f1-4f8f-8a3b-9954f2c05c3e",
   "metadata": {},
   "source": [
    "# This equation is used to calculate the ratio of non-dominated individuals generated by each algorithm. We first combine the non-dominated solutions (Front 0) produced by each algorithm and then determine which solutions remain non-dominant in the combined population. The \"Total number of individuals\" refers to the size of the non-dominated set in the combined population, while the \"Number of non-dominated individuals\" indicates each algorithm's contribution to this final set."
   ]
  },
  {
   "cell_type": "markdown",
   "id": "ee50068b-ffe9-4f8c-adea-de23fa33a9bd",
   "metadata": {},
   "source": [
    "# ***Equation- 16, 17, 18, 19, 20***"
   ]
  },
  {
   "cell_type": "markdown",
   "id": "b5b33881-5df2-43a5-b0a8-07152da2320f",
   "metadata": {},
   "source": [
    "\n",
    "\\begin{equation} \n",
    "UD(X')  = \\frac{1}{1 + S_{nc}} \n",
    "\\end{equation}\n",
    "\n",
    "\n",
    "\\begin{equation} \n",
    "S_{nc}  = \\sqrt{\\frac{ \\sum^{N_{x'}}_{i}{(nc(x_i')-\\overline{nc}(X'))^2}}{N_{x'} - 1}} \n",
    "\\end{equation}\n",
    "\n",
    "\n",
    "\\begin{equation} \n",
    "nc(x_{i}')  = \\sum^{N_{x'}}_{j, j\\neq1}{f(i,j)}, \\text{ where } f(i,j) = \\left\\{\\begin{array}{lr} \n",
    "1, &   dis(i,j)  <  \\sigma_{\\text{share}}\\\\\n",
    "0, &  else\n",
    "\\end{array}\n",
    "\\right\\} \n",
    "\\end{equation}\n",
    "\n",
    "\n",
    "\\begin{equation} \n",
    "\\sigma_{\\text{share}} = \\alpha \\frac{(max_k - min_k)}{\\sqrt{N_{x'}}} \n",
    "\\end{equation} \n",
    "\n",
    "\n",
    "\\begin{equation}\n",
    "\\overline{nc}(X') = \\frac{ \\sum^{N_{x'}}_{i}{(nc(X_i')}}{N_{x'}} \n",
    "\\end{equation} \n"
   ]
  },
  {
   "cell_type": "markdown",
   "id": "60fd7cf6-49f3-4256-bb9d-da8658fb11dd",
   "metadata": {},
   "source": [
    "# Equations 16 to 20 are components of a single metric known as uniform distribution, which measures how solutions are distributed within the solution space. Together with Equation 15, Equations 16 to 20 were proposed in the following studies.\n",
    "\n",
    "\n",
    "1) Tan, K.C., Lee, T.H. and Khor, E.F., 2001. Evolutionary algorithms with dynamic population size and local exploration for multiobjective optimization. IEEE Transactions on Evolutionary Computation, 5(6), pp.565-588.\n",
    "\n",
    "2) Kay Chen Tan, Tong Heng Lee, and Eik Fun Khor. Evolutionary algorithms for multi-objective optimization: Performance\n",
    "assessments and comparisons. Artificial intelligence review, 17(4):251–290, 2002."
   ]
  },
  {
   "cell_type": "code",
   "execution_count": null,
   "id": "27050bc7-9550-4b2f-a05f-5b3d0efdc75d",
   "metadata": {},
   "outputs": [],
   "source": []
  },
  {
   "cell_type": "code",
   "execution_count": null,
   "id": "db57fa90-2673-4cc7-bd84-e579c50ec59e",
   "metadata": {},
   "outputs": [],
   "source": []
  },
  {
   "cell_type": "code",
   "execution_count": null,
   "id": "c1611b44-3e79-4839-927f-ac94adc1b6d8",
   "metadata": {},
   "outputs": [],
   "source": []
  },
  {
   "cell_type": "code",
   "execution_count": null,
   "id": "80bed04c-e9d2-4e87-9fa1-39f374de3420",
   "metadata": {},
   "outputs": [],
   "source": []
  },
  {
   "cell_type": "code",
   "execution_count": null,
   "id": "98d791af-afb7-45c0-b0f7-76ec4b4db18b",
   "metadata": {},
   "outputs": [],
   "source": []
  },
  {
   "cell_type": "code",
   "execution_count": null,
   "id": "024861dc-2dcc-4a8a-8ed0-5b7d227141be",
   "metadata": {},
   "outputs": [],
   "source": []
  },
  {
   "cell_type": "code",
   "execution_count": null,
   "id": "c81000ff-6602-4118-bf9f-e0605c633f0e",
   "metadata": {},
   "outputs": [],
   "source": []
  },
  {
   "cell_type": "code",
   "execution_count": null,
   "id": "0b3c2d02-ca01-4af6-8d97-c10414cba2cb",
   "metadata": {},
   "outputs": [],
   "source": []
  },
  {
   "cell_type": "code",
   "execution_count": null,
   "id": "0964b667-3a6d-423a-9f1a-c187a315d5d7",
   "metadata": {},
   "outputs": [],
   "source": []
  },
  {
   "cell_type": "code",
   "execution_count": null,
   "id": "956527c9-95bc-4f54-8e50-898b0966a844",
   "metadata": {},
   "outputs": [],
   "source": []
  }
 ],
 "metadata": {
  "kernelspec": {
   "display_name": "Python 3 (ipykernel)",
   "language": "python",
   "name": "python3"
  },
  "language_info": {
   "codemirror_mode": {
    "name": "ipython",
    "version": 3
   },
   "file_extension": ".py",
   "mimetype": "text/x-python",
   "name": "python",
   "nbconvert_exporter": "python",
   "pygments_lexer": "ipython3",
   "version": "3.9.6"
  }
 },
 "nbformat": 4,
 "nbformat_minor": 5
}
